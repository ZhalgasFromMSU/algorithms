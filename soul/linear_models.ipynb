{
 "cells": [
  {
   "cell_type": "markdown",
   "metadata": {},
   "source": [
    "## Машинное обучение, ВМК МГУ\n",
    "\n",
    "## Практическое задание 1\n",
    "\n",
    "### Общая информация\n",
    "Дата выдачи: 9 февраля 2019 г.\n",
    "\n",
    "Дедлайн: 9 марта 2019 г."
   ]
  },
  {
   "cell_type": "markdown",
   "metadata": {},
   "source": [
    "### О задании\n",
    "\n",
    "В этом задании вы:\n",
    "- обучите линейную регрессию, познакомитесь с метриками качества в задачах регресии\n",
    "- реализуете логистическую регрессию и её обучение градиентным спуском\n",
    "- настроите метод опорных векторов, визуализируете опорные вектора\n",
    "- познакомитесь с калибровочными кривыми и сравните вероятности, выдаваемые логистической регрессией и методом опорных векторов\n",
    "- изучите методы работы с категориальными переменными\n",
    "- в качестве бонуса попробуете библиотеку vowpal wabbit.\n",
    "\n",
    "\n",
    "### Оценивание и штрафы\n",
    "Сдавать задание после указанного срока сдачи нельзя. При выставлении неполного балла за задание в связи с наличием ошибок на усмотрение проверяющего предусмотрена возможность исправить работу на указанных в ответном письме условиях.\n",
    "\n",
    "Задание выполняется самостоятельно. «Похожие» решения считаются плагиатом и все задействованные студенты (в том числе те, у кого списали) не могут получить за него больше 0 баллов (подробнее о плагиате см. на странице курса).\n",
    "\n",
    "Неэффективная реализация кода может негативно отразиться на оценке."
   ]
  },
  {
   "cell_type": "code",
   "execution_count": 1,
   "metadata": {},
   "outputs": [
    {
     "name": "stdout",
     "output_type": "stream",
     "text": [
      "Populating the interactive namespace from numpy and matplotlib\n"
     ]
    }
   ],
   "source": [
    "%pylab inline\n",
    "import pandas as pd\n",
    "import numpy as np\n",
    "\n",
    "from sklearn.base import BaseEstimator\n",
    "from sklearn.datasets import load_diabetes\n",
    "from sklearn.model_selection import train_test_split\n",
    "from scipy import stats"
   ]
  },
  {
   "cell_type": "markdown",
   "metadata": {},
   "source": [
    "## Часть 1. Линейная регрессия"
   ]
  },
  {
   "cell_type": "markdown",
   "metadata": {},
   "source": [
    "В этой части мы кратко познакомимся с линейной регрессией.\n",
    "\n",
    "Для начала загрузим данные и разделим их на обучающую и тестовую выборки в соотношении 7 к 3."
   ]
  },
  {
   "cell_type": "code",
   "execution_count": 111,
   "metadata": {},
   "outputs": [
    {
     "name": "stderr",
     "output_type": "stream",
     "text": [
      "/home/zhalgas/.local/lib/python3.6/site-packages/sklearn/model_selection/_split.py:2179: FutureWarning: From version 0.21, test_size will always complement train_size unless both are specified.\n",
      "  FutureWarning)\n"
     ]
    }
   ],
   "source": [
    "data = load_diabetes()\n",
    "X_train, X_test, y_train, y_test = train_test_split(data.data, data.target, train_size=0.7, random_state=318)"
   ]
  },
  {
   "cell_type": "code",
   "execution_count": 3,
   "metadata": {
    "scrolled": true
   },
   "outputs": [
    {
     "name": "stdout",
     "output_type": "stream",
     "text": [
      ".. _diabetes_dataset:\n",
      "\n",
      "Diabetes dataset\n",
      "----------------\n",
      "\n",
      "Ten baseline variables, age, sex, body mass index, average blood\n",
      "pressure, and six blood serum measurements were obtained for each of n =\n",
      "442 diabetes patients, as well as the response of interest, a\n",
      "quantitative measure of disease progression one year after baseline.\n",
      "\n",
      "**Data Set Characteristics:**\n",
      "\n",
      "  :Number of Instances: 442\n",
      "\n",
      "  :Number of Attributes: First 10 columns are numeric predictive values\n",
      "\n",
      "  :Target: Column 11 is a quantitative measure of disease progression one year after baseline\n",
      "\n",
      "  :Attribute Information:\n",
      "      - Age\n",
      "      - Sex\n",
      "      - Body mass index\n",
      "      - Average blood pressure\n",
      "      - S1\n",
      "      - S2\n",
      "      - S3\n",
      "      - S4\n",
      "      - S5\n",
      "      - S6\n",
      "\n",
      "Note: Each of these 10 feature variables have been mean centered and scaled by the standard deviation times `n_samples` (i.e. the sum of squares of each column totals 1).\n",
      "\n",
      "Source URL:\n",
      "http://www4.stat.ncsu.edu/~boos/var.select/diabetes.html\n",
      "\n",
      "For more information see:\n",
      "Bradley Efron, Trevor Hastie, Iain Johnstone and Robert Tibshirani (2004) \"Least Angle Regression,\" Annals of Statistics (with discussion), 407-499.\n",
      "(http://web.stanford.edu/~hastie/Papers/LARS/LeastAngle_2002.pdf)\n"
     ]
    }
   ],
   "source": [
    "print(data.DESCR)"
   ]
  },
  {
   "cell_type": "code",
   "execution_count": 4,
   "metadata": {},
   "outputs": [
    {
     "data": {
      "text/plain": [
       "['age', 'sex', 'bmi', 'bp', 's1', 's2', 's3', 's4', 's5', 's6']"
      ]
     },
     "execution_count": 4,
     "metadata": {},
     "output_type": "execute_result"
    }
   ],
   "source": [
    "data.feature_names"
   ]
  },
  {
   "cell_type": "code",
   "execution_count": 5,
   "metadata": {
    "scrolled": false
   },
   "outputs": [
    {
     "name": "stdout",
     "output_type": "stream",
     "text": [
      "[[ 0.03807591  0.05068012  0.06169621  0.02187235 -0.0442235  -0.03482076\n",
      "  -0.04340085 -0.00259226  0.01990842 -0.01764613]\n",
      " [-0.00188202 -0.04464164 -0.05147406 -0.02632783 -0.00844872 -0.01916334\n",
      "   0.07441156 -0.03949338 -0.06832974 -0.09220405]\n",
      " [ 0.08529891  0.05068012  0.04445121 -0.00567061 -0.04559945 -0.03419447\n",
      "  -0.03235593 -0.00259226  0.00286377 -0.02593034]\n",
      " [-0.08906294 -0.04464164 -0.01159501 -0.03665645  0.01219057  0.02499059\n",
      "  -0.03603757  0.03430886  0.02269202 -0.00936191]\n",
      " [ 0.00538306 -0.04464164 -0.03638469  0.02187235  0.00393485  0.01559614\n",
      "   0.00814208 -0.00259226 -0.03199144 -0.04664087]\n",
      " [-0.09269548 -0.04464164 -0.04069594 -0.01944209 -0.06899065 -0.07928784\n",
      "   0.04127682 -0.0763945  -0.04118039 -0.09634616]\n",
      " [-0.04547248  0.05068012 -0.04716281 -0.01599922 -0.04009564 -0.02480001\n",
      "   0.00077881 -0.03949338 -0.06291295 -0.03835666]\n",
      " [ 0.06350368  0.05068012 -0.00189471  0.06662967  0.09061988  0.10891438\n",
      "   0.02286863  0.01770335 -0.03581673  0.00306441]\n",
      " [ 0.04170844  0.05068012  0.06169621 -0.04009932 -0.01395254  0.00620169\n",
      "  -0.02867429 -0.00259226 -0.01495648  0.01134862]\n",
      " [-0.07090025 -0.04464164  0.03906215 -0.03321358 -0.01257658 -0.03450761\n",
      "  -0.02499266 -0.00259226  0.06773633 -0.01350402]]\n"
     ]
    }
   ],
   "source": [
    "print(data.data[:10])"
   ]
  },
  {
   "cell_type": "code",
   "execution_count": 6,
   "metadata": {},
   "outputs": [
    {
     "data": {
      "text/plain": [
       "DescribeResult(nobs=442, minmax=(25.0, 346.0), mean=152.13348416289594, variance=5943.331347923785, skewness=0.43906639932477265, kurtosis=-0.8866436055681386)"
      ]
     },
     "execution_count": 6,
     "metadata": {},
     "output_type": "execute_result"
    }
   ],
   "source": [
    "stats.describe(data.target[:])"
   ]
  },
  {
   "cell_type": "code",
   "execution_count": 7,
   "metadata": {},
   "outputs": [
    {
     "data": {
      "text/plain": [
       "(2,)"
      ]
     },
     "execution_count": 7,
     "metadata": {},
     "output_type": "execute_result"
    }
   ],
   "source": [
    "np.unique(data.data[:, 1]).shape"
   ]
  },
  {
   "cell_type": "markdown",
   "metadata": {},
   "source": [
    "Видимо 0.05 для мужского, -0.04 для женского"
   ]
  },
  {
   "cell_type": "markdown",
   "metadata": {},
   "source": [
    "__Задание 1.__ Обучение линейной регрессии.\n",
    "\n",
    "Обучите линейную регрессию с $L_1$ (Lasso, http://scikit-learn.org/stable/modules/generated/sklearn.linear_model.Lasso.html) и $L_2$ (Ridge, http://scikit-learn.org/stable/modules/generated/sklearn.linear_model.Ridge.html) регуляризаторами (используйте параметры по умолчанию). Посмотрите, какое количество коэффициентов близко к 0 (степень близости к 0 определите сами из разумных пределов). Постройте график зависимости числа ненулевых коэффициентов от коэффицента регуляризации (перебирайте значения по логарифмической сетке от $10^{-3}$ до $10^3$). Согласуются ли результаты с вашими ожиданиями?"
   ]
  },
  {
   "cell_type": "code",
   "execution_count": 8,
   "metadata": {},
   "outputs": [],
   "source": [
    "from sklearn.linear_model import Lasso\n",
    "from sklearn.linear_model import Ridge"
   ]
  },
  {
   "cell_type": "code",
   "execution_count": 9,
   "metadata": {},
   "outputs": [],
   "source": [
    "from functools import reduce"
   ]
  },
  {
   "cell_type": "code",
   "execution_count": 10,
   "metadata": {},
   "outputs": [],
   "source": [
    "import matplotlib.pyplot as plt"
   ]
  },
  {
   "cell_type": "code",
   "execution_count": 11,
   "metadata": {},
   "outputs": [],
   "source": [
    "def coefs0_to_alpha(a):\n",
    "    clf = Lasso(alpha=a)\n",
    "    clf.fit(X_train, y_train)\n",
    "    return reduce(lambda x, y: x + (1 if abs(y) < 0.001 else 0), clf.coef_, 0)"
   ]
  },
  {
   "cell_type": "code",
   "execution_count": 12,
   "metadata": {
    "scrolled": true
   },
   "outputs": [
    {
     "data": {
      "image/png": "[encoded data removed]",
      "text/plain": [
       "<Figure size 432x288 with 1 Axes>"
      ]
     },
     "metadata": {
      "needs_background": "light"
     },
     "output_type": "display_data"
    }
   ],
   "source": [
    "a = [10**i for i in range(-3, 4)]\n",
    "plt.plot(a, list(map(coefs0_to_alpha, a)))\n",
    "plt.xscale(\"log\")\n",
    "plt.grid(True)\n",
    "plt.xlabel(\"Alpha\")\n",
    "plt.ylabel(\"Num of zero coefs\")\n",
    "plt.show()"
   ]
  },
  {
   "cell_type": "markdown",
   "metadata": {},
   "source": [
    "Посчитайте для Ridge-регрессии следующие метрики: $RMSE$, $MAE$, $R^2$."
   ]
  },
  {
   "cell_type": "code",
   "execution_count": 13,
   "metadata": {},
   "outputs": [],
   "source": [
    "from sklearn.metrics import mean_squared_error\n",
    "from sklearn.metrics import mean_absolute_error\n",
    "from sklearn.metrics import r2_score"
   ]
  },
  {
   "cell_type": "code",
   "execution_count": 14,
   "metadata": {},
   "outputs": [
    {
     "name": "stdout",
     "output_type": "stream",
     "text": [
      "RMSE:  3319.405217723009\n",
      "MAE:  47.7824170753989\n",
      "R2:  0.41154718374963595\n"
     ]
    }
   ],
   "source": [
    "clf = Ridge()\n",
    "clf.fit(X_train, y_train)\n",
    "y_pred = clf.predict(X_test)\n",
    "print(\"RMSE: \", mean_squared_error(y_test, y_pred))\n",
    "print(\"MAE: \", mean_absolute_error(y_test, y_pred))\n",
    "print(\"R2: \", r2_score(y_test, y_pred))"
   ]
  },
  {
   "cell_type": "markdown",
   "metadata": {},
   "source": [
    "Подберите на обучающей выборке для Ridge-регрессии коэффициент регуляризации (перебирайте значения по логарифмической сетке от $10^{-3}$ до $10^3$) для каждой из метрик. Для этого воспользуйтесь GridSearchCV и KFold из sklearn. Постройте графики зависимости фукнции потерь от коэффициента регуляризации. Посчитайте те же метрики снова. Заметно ли изменилось качество?"
   ]
  },
  {
   "cell_type": "code",
   "execution_count": 15,
   "metadata": {},
   "outputs": [],
   "source": [
    "from sklearn.model_selection import GridSearchCV\n",
    "from sklearn.model_selection import KFold"
   ]
  },
  {
   "cell_type": "code",
   "execution_count": 16,
   "metadata": {},
   "outputs": [],
   "source": [
    "params = {\n",
    "    \"alpha\" : [10**i for i in range(-3, 4)]\n",
    "}"
   ]
  },
  {
   "cell_type": "code",
   "execution_count": 17,
   "metadata": {},
   "outputs": [],
   "source": [
    "X = data.data\n",
    "y = data.target"
   ]
  },
  {
   "cell_type": "code",
   "execution_count": 18,
   "metadata": {},
   "outputs": [],
   "source": [
    "kf = KFold(n_splits=10)"
   ]
  },
  {
   "cell_type": "code",
   "execution_count": 19,
   "metadata": {},
   "outputs": [],
   "source": [
    "metrics = ('neg_mean_absolute_error',\n",
    "          'neg_mean_squared_error',\n",
    "          'r2'\n",
    ")"
   ]
  },
  {
   "cell_type": "code",
   "execution_count": 20,
   "metadata": {},
   "outputs": [],
   "source": [
    "clf = GridSearchCV(Ridge(), params, scoring=metrics, refit='r2', cv=kf.split(X))"
   ]
  },
  {
   "cell_type": "code",
   "execution_count": 21,
   "metadata": {
    "scrolled": true
   },
   "outputs": [
    {
     "name": "stderr",
     "output_type": "stream",
     "text": [
      "/home/zhalgas/.local/lib/python3.6/site-packages/sklearn/model_selection/_search.py:841: DeprecationWarning: The default of the `iid` parameter will change from True to False in version 0.22 and will be removed in 0.24. This will change numeric results when test-set sizes are unequal.\n",
      "  DeprecationWarning)\n"
     ]
    },
    {
     "data": {
      "text/plain": [
       "GridSearchCV(cv=<generator object _BaseKFold.split at 0x7fa7eac69ba0>,\n",
       "       error_score='raise-deprecating',\n",
       "       estimator=Ridge(alpha=1.0, copy_X=True, fit_intercept=True, max_iter=None,\n",
       "   normalize=False, random_state=None, solver='auto', tol=0.001),\n",
       "       fit_params=None, iid='warn', n_jobs=None,\n",
       "       param_grid={'alpha': [0.001, 0.01, 0.1, 1, 10, 100, 1000]},\n",
       "       pre_dispatch='2*n_jobs', refit='r2', return_train_score='warn',\n",
       "       scoring=('neg_mean_absolute_error', 'neg_mean_squared_error', 'r2'),\n",
       "       verbose=0)"
      ]
     },
     "execution_count": 21,
     "metadata": {},
     "output_type": "execute_result"
    }
   ],
   "source": [
    "clf.fit(X, y)"
   ]
  },
  {
   "cell_type": "code",
   "execution_count": 22,
   "metadata": {
    "scrolled": true
   },
   "outputs": [
    {
     "name": "stdout",
     "output_type": "stream",
     "text": [
      "{'mean_fit_time': array([0.0006331 , 0.00057678, 0.00048115, 0.00045803, 0.00047126,\n",
      "       0.00048423, 0.00050507]), 'std_fit_time': array([3.02676799e-04, 1.39961039e-04, 6.25556423e-05, 5.29733087e-05,\n",
      "       7.28691743e-05, 9.04398071e-05, 1.28088313e-04]), 'mean_score_time': array([0.00074048, 0.00067334, 0.00062826, 0.00061672, 0.0005836 ,\n",
      "       0.00060008, 0.00060194]), 'std_score_time': array([3.18763604e-04, 9.06849630e-05, 8.20664629e-05, 7.31325858e-05,\n",
      "       2.45503537e-05, 3.44168512e-05, 5.28828371e-05]), 'param_alpha': masked_array(data=[0.001, 0.01, 0.1, 1, 10, 100, 1000],\n",
      "             mask=[False, False, False, False, False, False, False],\n",
      "       fill_value='?',\n",
      "            dtype=object), 'params': [{'alpha': 0.001}, {'alpha': 0.01}, {'alpha': 0.1}, {'alpha': 1}, {'alpha': 10}, {'alpha': 100}, {'alpha': 1000}], 'split0_test_neg_mean_absolute_error': array([-41.06669238, -41.53303858, -42.21428642, -45.78291192,\n",
      "       -57.03221478, -62.76918402, -63.54974385]), 'split1_test_neg_mean_absolute_error': array([-43.56097288, -43.19475026, -43.5216644 , -46.82301244,\n",
      "       -53.03853262, -55.95290131, -56.37803884]), 'split2_test_neg_mean_absolute_error': array([-48.9691061 , -48.51297504, -47.69544137, -47.38789662,\n",
      "       -56.0636687 , -61.54180341, -62.27451389]), 'split3_test_neg_mean_absolute_error': array([-42.49270682, -42.90740868, -43.6577255 , -48.48427569,\n",
      "       -66.79763813, -73.83678224, -74.82516624]), 'split4_test_neg_mean_absolute_error': array([-50.67934318, -50.54113237, -50.3967024 , -52.72173179,\n",
      "       -57.20997808, -59.07422169, -59.49296965]), 'split5_test_neg_mean_absolute_error': array([-45.02175249, -44.7162844 , -45.35901593, -52.01986609,\n",
      "       -67.58020834, -73.78805558, -74.65867537]), 'split6_test_neg_mean_absolute_error': array([-46.87512816, -46.28828323, -46.7608881 , -53.00527543,\n",
      "       -65.33396435, -70.43249784, -71.11084231]), 'split7_test_neg_mean_absolute_error': array([-38.43444724, -38.69572501, -38.22835481, -38.30457619,\n",
      "       -48.92267801, -54.5862162 , -55.38557508]), 'split8_test_neg_mean_absolute_error': array([-52.47609763, -52.56018181, -52.58333109, -57.36419817,\n",
      "       -71.22973443, -76.38560449, -77.07954012]), 'split9_test_neg_mean_absolute_error': array([-32.52103901, -32.97204189, -34.20407139, -42.77214074,\n",
      "       -57.78613784, -63.20487127, -63.90427055]), 'mean_test_neg_mean_absolute_error': array([-44.20114987, -44.18390933, -44.45493469, -48.45679834,\n",
      "       -60.07656104, -65.13098679, -65.83922752]), 'std_test_neg_mean_absolute_error': array([5.67977316, 5.46183078, 5.1701789 , 5.25574235, 6.82282389,\n",
      "       7.47857802, 7.56950675]), 'rank_test_neg_mean_absolute_error': array([2, 1, 3, 4, 5, 6, 7], dtype=int32), 'split0_train_neg_mean_absolute_error': array([-43.74077261, -43.77779661, -44.12052965, -48.36017774,\n",
      "       -60.18357115, -65.3178776 , -66.03356445]), 'split1_train_neg_mean_absolute_error': array([-43.3722585 , -43.48153066, -43.8723568 , -48.09970465,\n",
      "       -60.65722168, -66.37284249, -67.16885628]), 'split2_train_neg_mean_absolute_error': array([-42.75984444, -42.88998328, -43.29167482, -47.90061478,\n",
      "       -60.10684237, -65.24765365, -65.9661254 ]), 'split3_train_neg_mean_absolute_error': array([-43.37232941, -43.41145709, -43.74042739, -48.23229402,\n",
      "       -59.22147203, -63.83597048, -64.47483079]), 'split4_train_neg_mean_absolute_error': array([-42.4336487 , -42.499546  , -42.9162901 , -47.30612147,\n",
      "       -60.00654878, -65.6961009 , -66.47323312]), 'split5_train_neg_mean_absolute_error': array([-43.02524443, -43.15509273, -43.57725545, -47.95752666,\n",
      "       -59.20227925, -63.97117098, -64.62907035]), 'split6_train_neg_mean_absolute_error': array([-43.00591761, -43.07919706, -43.44003917, -47.44004021,\n",
      "       -59.24304018, -64.39017651, -65.10664077]), 'split7_train_neg_mean_absolute_error': array([-43.80854757, -43.8416335 , -44.19534835, -48.78974436,\n",
      "       -60.92510113, -65.96244112, -66.65807603]), 'split8_train_neg_mean_absolute_error': array([-42.21758617, -42.25995893, -42.59821492, -46.92408015,\n",
      "       -58.5928891 , -63.63390835, -64.33606222]), 'split9_train_neg_mean_absolute_error': array([-44.57999272, -44.59856175, -44.96562734, -48.90619319,\n",
      "       -60.11857385, -65.1720784 , -65.88203146]), 'mean_train_neg_mean_absolute_error': array([-43.23161422, -43.29947576, -43.6717764 , -47.99164972,\n",
      "       -59.82575395, -64.96002205, -65.67284909]), 'std_train_neg_mean_absolute_error': array([0.6656498 , 0.64912019, 0.64225463, 0.60017679, 0.69561235,\n",
      "       0.9012823 , 0.93496101]), 'split0_test_neg_mean_squared_error': array([-2543.72148595, -2590.06134929, -2702.79005594, -3301.96494269,\n",
      "       -4798.8270357 , -5637.539312  , -5763.5357654 ]), 'split1_test_neg_mean_squared_error': array([-2859.10983049, -2820.135045  , -2816.94451556, -3102.53213528,\n",
      "       -4033.85714674, -4605.8296422 , -4694.02096845]), 'split2_test_neg_mean_squared_error': array([-3495.21984883, -3429.45682256, -3349.96032893, -3488.67311549,\n",
      "       -4607.08733604, -5360.61907107, -5476.75260989]), 'split3_test_neg_mean_squared_error': array([-2771.23802255, -2818.87002656, -2870.96358115, -3556.84409157,\n",
      "       -6088.54860502, -7391.26805179, -7578.51357228]), 'split4_test_neg_mean_squared_error': array([-3550.07612191, -3527.38653156, -3457.75302351, -3463.40031474,\n",
      "       -4265.37288899, -4819.99853246, -4906.07072365]), 'split5_test_neg_mean_squared_error': array([-2891.23438009, -2863.19058498, -2901.59768969, -3689.87961719,\n",
      "       -6176.43116193, -7424.42855953, -7603.54329649]), 'split6_test_neg_mean_squared_error': array([-3685.1758825 , -3646.00156761, -3613.2476307 , -3886.31144729,\n",
      "       -5348.06988718, -6212.79643834, -6341.50291888]), 'split7_test_neg_mean_squared_error': array([-2290.90099057, -2324.27544648, -2255.46867777, -2083.09960985,\n",
      "       -3217.27557469, -4080.55755448, -4212.96596633]), 'split8_test_neg_mean_squared_error': array([-4129.7823984 , -4158.55279255, -4140.44542176, -4398.96266916,\n",
      "       -6169.30455351, -7175.48088874, -7323.01462846]), 'split9_test_neg_mean_squared_error': array([-1773.63018588, -1796.55783956, -1900.41267891, -2673.64219081,\n",
      "       -4563.68591872, -5481.49907757, -5614.83866918]), 'mean_test_neg_mean_squared_error': array([-2997.66233889, -2996.12594721, -2999.86745055, -3363.79670357,\n",
      "       -4924.53603836, -5815.84643121, -5948.20578726]), 'std_test_neg_mean_squared_error': array([ 676.53753029,  660.56829293,  624.92493037,  607.22002931,\n",
      "        949.6171828 , 1134.41889792, 1159.99037698]), 'rank_test_neg_mean_squared_error': array([2, 1, 3, 4, 5, 6, 7], dtype=int32), 'split0_train_neg_mean_squared_error': array([-2904.89295405, -2909.38444167, -2929.96112323, -3310.57831824,\n",
      "       -4890.18486262, -5797.67561836, -5932.20677471]), 'split1_train_neg_mean_squared_error': array([-2863.56330028, -2873.74381138, -2905.59418326, -3306.42753204,\n",
      "       -4953.76472901, -5918.60597444, -6063.16862558]), 'split2_train_neg_mean_squared_error': array([-2802.86187648, -2814.00572732, -2848.28886375, -3263.41791405,\n",
      "       -4899.65343657, -5826.0740384 , -5963.13556046]), 'split3_train_neg_mean_squared_error': array([-2879.61108562, -2882.63165484, -2903.09399708, -3309.85218402,\n",
      "       -4800.99771497, -5614.93768726, -5734.62371416]), 'split4_train_neg_mean_squared_error': array([-2788.08832813, -2796.23425845, -2825.98655181, -3250.01485874,\n",
      "       -4918.95912161, -5881.88592336, -6025.95205335]), 'split5_train_neg_mean_squared_error': array([-2865.19112945, -2874.51977109, -2905.20504911, -3301.02349496,\n",
      "       -4784.49865015, -5607.21909914, -5728.71925437]), 'split6_train_neg_mean_squared_error': array([-2785.7063499 , -2795.07520266, -2825.74071323, -3235.97034688,\n",
      "       -4832.93327891, -5733.45177101, -5867.17952634]), 'split7_train_neg_mean_squared_error': array([-2930.22465726, -2935.24333873, -2957.67513834, -3396.86310097,\n",
      "       -5061.99774119, -5970.9508668 , -6104.51038621]), 'split8_train_neg_mean_squared_error': array([-2723.11602579, -2728.22438269, -2751.550562  , -3176.80039353,\n",
      "       -4755.62570668, -5629.97197937, -5759.45207513]), 'split9_train_neg_mean_squared_error': array([-2985.349837  , -2991.62535535, -3016.2329145 , -3398.70225192,\n",
      "       -4926.92762826, -5814.81103915, -5947.52504033]), 'mean_train_neg_mean_squared_error': array([-2852.8605544 , -2860.06879442, -2886.93290963, -3294.96503953,\n",
      "       -4882.554287  , -5779.55839973, -5912.64730107]), 'std_train_neg_mean_squared_error': array([ 74.34164834,  73.5520655 ,  71.97107897,  64.99008888,\n",
      "        87.03751123, 123.07462991, 129.4265016 ]), 'split0_test_r2': array([ 0.55441459,  0.5462972 ,  0.52655044,  0.42159257,  0.15938622,\n",
      "        0.01246842, -0.00960246]), 'split1_test_r2': array([ 0.23368553,  0.24413177,  0.24498691,  0.16844213, -0.08117676,\n",
      "       -0.23448   , -0.25811753]), 'split2_test_r2': array([ 0.35679885,  0.36890076,  0.38352995,  0.3580036 ,  0.15218956,\n",
      "        0.01352232, -0.00784893]), 'split3_test_r2': array([ 0.62025913,  0.61373215,  0.60659381,  0.51260807,  0.16569031,\n",
      "       -0.01282045, -0.03847858]), 'split4_test_r2': array([ 0.2670326 ,  0.27171721,  0.28609411,  0.28492814,  0.11934866,\n",
      "        0.00483773, -0.01293318]), 'split5_test_r2': array([ 0.61939736,  0.62308905,  0.61803313,  0.51426355,  0.18693344,\n",
      "        0.02264683, -0.00093187]), 'split6_test_r2': array([0.41990738, 0.42607391, 0.43122979, 0.38824614, 0.15814714,\n",
      "       0.0220284 , 0.0017684 ]), 'split7_test_r2': array([ 0.43301859,  0.42475865,  0.44178783,  0.48444792,  0.20374758,\n",
      "       -0.00990846, -0.04267858]), 'split8_test_r2': array([ 0.43343111,  0.42948407,  0.43196824,  0.396502  ,  0.15362707,\n",
      "        0.01558875, -0.00465155]), 'split9_test_r2': array([0.68498427, 0.68091207, 0.66246634, 0.52513249, 0.18944046,\n",
      "       0.02642701, 0.00274447]), 'mean_test_r2': array([ 0.46198415,  0.46260337,  0.46297312,  0.40491712,  0.14027351,\n",
      "       -0.01440803, -0.03751093]), 'std_test_r2': array([0.14598881, 0.14156377, 0.13282064, 0.10872728, 0.07784603,\n",
      "       0.07513707, 0.0757639 ]), 'rank_test_r2': array([3, 2, 1, 4, 5, 6, 7], dtype=int32), 'split0_train_r2': array([0.51160837, 0.51085323, 0.50739373, 0.44340162, 0.17782673,\n",
      "       0.02525282, 0.00263447]), 'split1_train_r2': array([0.52902171, 0.52734729, 0.52210877, 0.45618259, 0.18524042,\n",
      "       0.02655027, 0.00277364]), 'split2_train_r2': array([0.53122318, 0.52935937, 0.52362554, 0.45419548, 0.18053615,\n",
      "       0.02559291, 0.00266946]), 'split3_train_r2': array([0.49907192, 0.49854647, 0.49498691, 0.42422853, 0.16483355,\n",
      "       0.02324312, 0.00242291]), 'split4_train_r2': array([0.5386065 , 0.53725845, 0.53233482, 0.46216348, 0.18597422,\n",
      "       0.02662197, 0.00278084]), 'split5_train_r2': array([0.50108693, 0.49946254, 0.49411935, 0.42519585, 0.1668797 ,\n",
      "       0.02362015, 0.00246344]), 'split6_train_r2': array([0.5264629 , 0.52487031, 0.51965754, 0.44992335, 0.17845856,\n",
      "       0.02538108, 0.00264895]), 'split7_train_r2': array([0.5212092 , 0.52038916, 0.51672386, 0.44496173, 0.17288323,\n",
      "       0.02436274, 0.00253947]), 'split8_train_r2': array([0.52842682, 0.52754218, 0.52350269, 0.44986043, 0.17644877,\n",
      "       0.02503464, 0.00261204]), 'split9_train_r2': array([0.49935445, 0.49830204, 0.49417533, 0.43003492, 0.17375031,\n",
      "       0.02485155, 0.00259531]), 'mean_train_r2': array([0.5186072 , 0.51739311, 0.51286285, 0.4440148 , 0.17628316,\n",
      "       0.02505112, 0.00261405]), 'std_train_r2': array([0.01393106, 0.01374313, 0.01343415, 0.0126195 , 0.00660964,\n",
      "       0.00104827, 0.00011096])}\n"
     ]
    }
   ],
   "source": [
    "print(clf.cv_results_)"
   ]
  },
  {
   "cell_type": "code",
   "execution_count": 23,
   "metadata": {},
   "outputs": [
    {
     "name": "stderr",
     "output_type": "stream",
     "text": [
      "/home/zhalgas/.local/lib/python3.6/site-packages/sklearn/utils/deprecation.py:125: FutureWarning: You are accessing a training score ('mean_train_neg_mean_absolute_error'), which will not be available by default any more in 0.21. If you need training scores, please set return_train_score=True\n",
      "  warnings.warn(*warn_args, **warn_kwargs)\n"
     ]
    },
    {
     "data": {
      "image/png": "[encoded data removed]",
      "text/plain": [
       "<Figure size 432x288 with 1 Axes>"
      ]
     },
     "metadata": {
      "needs_background": "light"
     },
     "output_type": "display_data"
    }
   ],
   "source": [
    "plt.plot(params['alpha'], clf.cv_results_['mean_train_neg_mean_absolute_error'])\n",
    "plt.xscale('log')\n",
    "plt.ylabel(\"Mean score for MAE\")\n",
    "plt.xlabel(\"Alpha\")\n",
    "\n",
    "plt.show()"
   ]
  },
  {
   "cell_type": "code",
   "execution_count": 24,
   "metadata": {},
   "outputs": [
    {
     "name": "stderr",
     "output_type": "stream",
     "text": [
      "/home/zhalgas/.local/lib/python3.6/site-packages/sklearn/utils/deprecation.py:125: FutureWarning: You are accessing a training score ('mean_train_neg_mean_squared_error'), which will not be available by default any more in 0.21. If you need training scores, please set return_train_score=True\n",
      "  warnings.warn(*warn_args, **warn_kwargs)\n"
     ]
    },
    {
     "data": {
      "image/png": "[encoded data removed]",
      "text/plain": [
       "<Figure size 432x288 with 1 Axes>"
      ]
     },
     "metadata": {
      "needs_background": "light"
     },
     "output_type": "display_data"
    }
   ],
   "source": [
    "plt.plot(params['alpha'], clf.cv_results_['mean_train_neg_mean_squared_error'])\n",
    "plt.xscale('log')\n",
    "plt.ylabel(\"Mean score for RMSE\")\n",
    "plt.xlabel(\"Alpha\")\n",
    "\n",
    "plt.show()"
   ]
  },
  {
   "cell_type": "code",
   "execution_count": 25,
   "metadata": {},
   "outputs": [
    {
     "name": "stderr",
     "output_type": "stream",
     "text": [
      "/home/zhalgas/.local/lib/python3.6/site-packages/sklearn/utils/deprecation.py:125: FutureWarning: You are accessing a training score ('mean_train_r2'), which will not be available by default any more in 0.21. If you need training scores, please set return_train_score=True\n",
      "  warnings.warn(*warn_args, **warn_kwargs)\n"
     ]
    },
    {
     "data": {
      "image/png": "[encoded data removed]",
      "text/plain": [
       "<Figure size 432x288 with 1 Axes>"
      ]
     },
     "metadata": {
      "needs_background": "light"
     },
     "output_type": "display_data"
    }
   ],
   "source": [
    "plt.plot(params['alpha'], clf.cv_results_['mean_train_r2'])\n",
    "plt.xscale('log')\n",
    "plt.ylabel(\"Mean score for R2\")\n",
    "plt.xlabel(\"Alpha\")\n",
    "\n",
    "plt.show()"
   ]
  },
  {
   "cell_type": "markdown",
   "metadata": {},
   "source": [
    "Умножаю на -1, потому что все значения отрицательны. Видимо это нужно для того, чтобы лучший скор брался по умолчанию как максимум из всех скоров"
   ]
  },
  {
   "cell_type": "code",
   "execution_count": 26,
   "metadata": {},
   "outputs": [
    {
     "name": "stdout",
     "output_type": "stream",
     "text": [
      "Лучший результат, согласно метрике R2 на тесте:  0.4629731248280685\n",
      "Лучший результат, согласно метрике MAE на тесте:  44.18390933228846\n",
      "Лучший результат, согласно метрике RMSE на тесте:  2996.125947205788\n"
     ]
    }
   ],
   "source": [
    "print(\"Лучший результат, согласно метрике R2 на тесте: \\t\", clf.best_score_)\n",
    "print(\"Лучший результат, согласно метрике MAE на тесте: \\t\",\n",
    "          -1 * np.max(clf.cv_results_['mean_test_neg_mean_absolute_error']))\n",
    "print(\"Лучший результат, согласно метрике RMSE на тесте: \\t\",\n",
    "          -1 * np.max(clf.cv_results_['mean_test_neg_mean_squared_error']))"
   ]
  },
  {
   "cell_type": "markdown",
   "metadata": {},
   "source": [
    "Можно заметить, что все метрики дали лучшие показатели."
   ]
  },
  {
   "cell_type": "markdown",
   "metadata": {
    "collapsed": true
   },
   "source": [
    "__Задание 2.__ Поиск объектов-выбросов\n",
    "\n",
    "Как известно, MSE сильно штрафует за большие ошибки на объектах-выбросах. С помощью cross_val_predict сделайте Out-of-Fold предсказания для обучающей выборки. Посчитайте ошибки и посмотрите на их распределение (plt.hist). Что вы видите?"
   ]
  },
  {
   "cell_type": "code",
   "execution_count": 27,
   "metadata": {},
   "outputs": [],
   "source": [
    "from sklearn.model_selection import cross_val_predict"
   ]
  },
  {
   "cell_type": "code",
   "execution_count": 112,
   "metadata": {},
   "outputs": [],
   "source": [
    "clf = Ridge(alpha=0.1)\n",
    "y_pred = cross_val_predict(clf, X_train, y_train, cv=kf.split(X_train))"
   ]
  },
  {
   "cell_type": "code",
   "execution_count": 29,
   "metadata": {},
   "outputs": [
    {
     "data": {
      "image/png": "[encoded data removed]",
      "text/plain": [
       "<Figure size 432x288 with 1 Axes>"
      ]
     },
     "metadata": {
      "needs_background": "light"
     },
     "output_type": "display_data"
    }
   ],
   "source": [
    "fig, ax = plt.subplots()\n",
    "ax.scatter(y_train, y_pred, edgecolors=(0, 0, 0))\n",
    "ax.plot([y_train.min(), y_train.max()], [y_train.min(), y_train.max()], 'k--', lw=4)\n",
    "ax.set_xlabel('Measured')\n",
    "ax.set_ylabel('Predicted')\n",
    "plt.show()"
   ]
  },
  {
   "cell_type": "code",
   "execution_count": 113,
   "metadata": {},
   "outputs": [
    {
     "data": {
      "image/png": "[encoded data removed]",
      "text/plain": [
       "<Figure size 432x288 with 1 Axes>"
      ]
     },
     "metadata": {
      "needs_background": "light"
     },
     "output_type": "display_data"
    }
   ],
   "source": [
    "plt.hist(y_pred)\n",
    "plt.show()"
   ]
  },
  {
   "cell_type": "code",
   "execution_count": 31,
   "metadata": {},
   "outputs": [
    {
     "name": "stdout",
     "output_type": "stream",
     "text": [
      "На обучающей выборке R2 метрика равна:  0.49601848630080214\n",
      "На обучающей выборке RMSE метрика равна:  3051.155399990245\n",
      "На обучающей выборке MAE метрика равна:  45.33129060451274\n"
     ]
    }
   ],
   "source": [
    "print(\"На обучающей выборке R2 метрика равна: \\t\", r2_score(y_train, y_pred))\n",
    "print(\"На обучающей выборке RMSE метрика равна: \\t\", mean_squared_error(y_train, y_pred))\n",
    "print(\"На обучающей выборке MAE метрика равна: \\t\", mean_absolute_error(y_train, y_pred))"
   ]
  },
  {
   "cell_type": "markdown",
   "metadata": {},
   "source": [
    "Можно заметить, что большинство предиктов находятся в районе 140-160"
   ]
  },
  {
   "cell_type": "markdown",
   "metadata": {},
   "source": [
    "Попробуйте удалить объекты-выбросы из обучающей выборки (что считать или не считать выбросами на ваше усмотрение). Обучите модель заново и посмотрите на качество на отложенной выборке (учитывайте, что там тоже могут быть выбросы, с которыми вы ничего не можете сделать). Стало ли лучше? Чем вы можете объяснить это?"
   ]
  },
  {
   "cell_type": "markdown",
   "metadata": {},
   "source": [
    "Я буду считать выбросами те объекты, для которых разница между предиктом и настоящим значением больше, чем 30% от размаха всех значений."
   ]
  },
  {
   "cell_type": "code",
   "execution_count": 32,
   "metadata": {},
   "outputs": [],
   "source": [
    "max_err = (y_train.max() - y_train.min()) * 0.3\n",
    "X_new = []\n",
    "y_new = []\n",
    "for i in range(X_train.shape[0]):\n",
    "    if not (abs(y_pred[i] - y_train[i]) > max_err):\n",
    "        X_new.append(X_train[i])\n",
    "        y_new.append(y_train[i])\n",
    "X_new = np.array(X_new)\n",
    "y_new = np.array(y_new)"
   ]
  },
  {
   "cell_type": "code",
   "execution_count": 33,
   "metadata": {},
   "outputs": [
    {
     "name": "stdout",
     "output_type": "stream",
     "text": [
      "Количество объектов-выбросов:  23\n"
     ]
    }
   ],
   "source": [
    "print(\"Количество объектов-выбросов: \", X_train.shape[0] - X_new.shape[0])"
   ]
  },
  {
   "cell_type": "code",
   "execution_count": 34,
   "metadata": {},
   "outputs": [
    {
     "data": {
      "text/plain": [
       "Ridge(alpha=0.1, copy_X=True, fit_intercept=True, max_iter=None,\n",
       "   normalize=False, random_state=None, solver='auto', tol=0.001)"
      ]
     },
     "execution_count": 34,
     "metadata": {},
     "output_type": "execute_result"
    }
   ],
   "source": [
    "clf.fit(X_new, y_new)"
   ]
  },
  {
   "cell_type": "code",
   "execution_count": 35,
   "metadata": {
    "scrolled": true
   },
   "outputs": [],
   "source": [
    "y_pred = clf.predict(X_test)"
   ]
  },
  {
   "cell_type": "code",
   "execution_count": 36,
   "metadata": {},
   "outputs": [
    {
     "name": "stdout",
     "output_type": "stream",
     "text": [
      "На тестовой выборке R2 метрика, для классификатора без выбросов, равна:  0.47407483207851964\n",
      "На тестовой выборке RMSE метрика, для классификатора без выбросов, равна:  2966.692822806814\n",
      "На тестовой выборке MAE метрика, для классификатора без выбросов, равна:  43.58080253122254\n"
     ]
    }
   ],
   "source": [
    "print(\"На тестовой выборке R2 метрика, для классификатора без выбросов, равна: \\t\", r2_score(y_test, y_pred))\n",
    "print(\"На тестовой выборке RMSE метрика, для классификатора без выбросов, равна: \\t\", mean_squared_error(y_test, y_pred))\n",
    "print(\"На тестовой выборке MAE метрика, для классификатора без выбросов, равна: \\t\", mean_absolute_error(y_test, y_pred))"
   ]
  },
  {
   "cell_type": "code",
   "execution_count": 37,
   "metadata": {},
   "outputs": [],
   "source": [
    "clf.fit(X_train, y_train)\n",
    "y_pred = clf.predict(X_test)"
   ]
  },
  {
   "cell_type": "code",
   "execution_count": 38,
   "metadata": {},
   "outputs": [
    {
     "name": "stdout",
     "output_type": "stream",
     "text": [
      "На тестовой выборке R2 метрика, для классификатора с выбросами равна:  0.4822640116723962\n",
      "На тестовой выборке RMSE метрика, для классификатора с выбросами равна:  2920.4984556084432\n",
      "На тестовой выборке MAE метрика, для классификатора с выбросами равна:  43.11894259524007\n"
     ]
    }
   ],
   "source": [
    "print(\"На тестовой выборке R2 метрика, для классификатора с выбросами равна: \\t\", r2_score(y_test, y_pred))\n",
    "print(\"На тестовой выборке RMSE метрика, для классификатора с выбросами равна: \\t\", mean_squared_error(y_test, y_pred))\n",
    "print(\"На тестовой выборке MAE метрика, для классификатора с выбросами равна: \\t\", mean_absolute_error(y_test, y_pred))"
   ]
  },
  {
   "cell_type": "markdown",
   "metadata": {},
   "source": [
    "Можно заметить, что ошибка не сильно изменилась. Скорее всего, дело в том, что линейная зависимость в данных не сильно выявляется, поэтому классификатор будет давать большую ошибку, несмотря на наличие выбросов"
   ]
  },
  {
   "cell_type": "markdown",
   "metadata": {},
   "source": [
    "## Часть 2. Логистическая регрессия"
   ]
  },
  {
   "cell_type": "markdown",
   "metadata": {},
   "source": [
    "В этой части мы будем реализовывать один из самых простых бинарных классификаторов — логистическую регрессию и её обучение с помощью обычного (полного) и стохастического градиентных спусков.\n",
    "\n",
    "Если кратко, то обучение логистической регрессии с $L_2$-регуляризацией можно записать следующим образом:\n",
    "\n",
    "$$\n",
    "Q(w, X) = \\frac{1}{l} \\sum_{i=1}^{l} \\log (1 + \\exp(- y_i \\langle w, x_i \\rangle )) + \\frac{\\lambda_2}{2} \\lVert w \\rVert _2^2 \\to \\min_w\n",
    "$$\n",
    "\n",
    "Считаем, что $y_i \\in \\{-1, +1\\}$, а нулевым признаком сделан единичный (то есть $w_0$ соответствует свободному члену). Искать $w$ будем с помощью градиентного спуска:\n",
    "\n",
    "$$\n",
    "w^{(k+1)} = w^{(k)} - \\alpha \\nabla_w Q(w, X)\n",
    "$$\n",
    "\n",
    "В случае полного градиентного спуска $\\nabla_w Q(w, X)$ считается напрямую (как есть, то есть, используя все объекты выборки). В случае стохастического градиентного спуска $\\nabla_w Q(w, X) \\approx \\nabla_w q_{i_k} (w)$, где $i_k$ — случайно выбранный номер слагаемого из функционала (регуляризатор можно внести в сумму, предварительно умножив и разделив на $l$). Длину шага $\\alpha > 0$ в рамках данного задания предлагается брать равной некоторой малой константе.\n",
    "\n",
    "Градиент по объекту $x_i$ считается по следующей формуле:\n",
    "\n",
    "$$\n",
    "\\nabla_w Q(w, x_i) = - \\frac{y_i x_i}{1 + \\exp(y_i \\langle w, x_i \\rangle)} + \\lambda_2 w\n",
    "$$\n",
    "\n",
    "На самом деле неправильно регуляризировать свободный член $w_0$ (то есть при добавлении градиента для $w_0$ не надо учитывать слагаемое с $\\lambda_2$). Но в рамках этого задания мы не обращаем на это внимания и работаем со всеми вектором весов одинаково. \n",
    "\n",
    "В качестве критерия останова необходимо использовать (одновременно):\n",
    "- проверку на евклидовую норму разности весов на двух соседних итерациях (например, меньше некоторого малого числа порядка $10^{-6}$) — параметр tolerance\n",
    "- достижение максимального числа итераций (например, 10000) — параметр max\\_iter.\n",
    "\n",
    "Инициализировать веса можно случайным образом или нулевым вектором.\n",
    "\n",
    "Вероятность принадлежности объекта $x$ классу $+1$ вычисляется следующим образом:\n",
    "\n",
    "$$\n",
    "P(y = +1 | x) = \\frac{1}{1 + \\exp(- \\langle w, x \\rangle )}\n",
    "$$\n",
    "\n",
    "Не забывайте, что матрицу объекты-признаки $X$ необходимо предварительно нормировать (то есть привести каждый признак к одному и тому же масштабу одним из 2 способов, разобранных на лекциях). Для этого можно воспользоваться StandardScaler или сделать это вручную.\n",
    "\n",
    "В логистической регрессии также можно использовать $L_1$-регуляризацию. Тогда в функцию потерь добавится слагаемое $\\lambda_1 \\lVert w \\rVert _1$. В формуле для вычисления градиента фукнции потерь по вектору коэффициентов это слагаемое будет соответствовать $\\lambda_1 sgn(w)$, где $sgn$ — вычисление знака числа, применяемое к вектору коэффициентов поэлементо."
   ]
  },
  {
   "cell_type": "markdown",
   "metadata": {},
   "source": [
    "__Задание 1.__ Реализация обучения и применения логистической регресии c $L_2$-регуляризацией. \n",
    "\n",
    "Используйте для этого указанные ниже прототипы. Для эффективности все вычисления производите в векторизованной форме без циклов (кроме самих итераций градиентного спуска). Сгенерируйте с помощью функции make\\_classification из модуля sklearn.datasets небольшую выборку для тестирования и исследования (выборка не должна быть слишком простой для классификации; также не забудьте проверить, что метки объектов из необходимого нам множества). Постройте следующие графики (для полного и стохастического градиентного спуска на одном графике):\n",
    "- функции потерь от номера итерации обучения\n",
    "- затраченного времени от номера итерации обучения\n",
    "\n",
    "Возьмите параметр регуляризации $\\lambda_2=1$, точность $tolerance=10^{-6}$, максимальное число итераций $max\\_iter=1000$. Подберите оптимальную на ваш взгляд величину шага градиентного спуска. \n",
    "\n",
    "Сделайте выводы о том, чем различается на практике обучение с помощью стохастического градиентного спуска по сравнению с полным градиентным спуском.\n",
    "\n",
    "В этом задании не обращайте внимания на $\\lambda_1$, соответствующий $L_1$-регуляризации.\n",
    "\n",
    "Для численной устойчивости вам могут быть полезны функции: scipy.special.expit и numpy.logaddexp."
   ]
  },
  {
   "cell_type": "code",
   "execution_count": 39,
   "metadata": {},
   "outputs": [],
   "source": [
    "from scipy.special import expit\n",
    "from sklearn.preprocessing import normalize\n",
    "from sklearn.preprocessing import StandardScaler\n",
    "import time"
   ]
  },
  {
   "cell_type": "code",
   "execution_count": 40,
   "metadata": {},
   "outputs": [],
   "source": [
    "class LogReg(BaseEstimator):\n",
    "    def __init__(self, lambda_1=0.0, lambda_2=1.0, gd_type='stochastic', \n",
    "                 tolerance=1e-4, max_iter=1000, w0=None, alpha=1e-3):\n",
    "        \"\"\"\n",
    "        lambda_1: L1 regularization param\n",
    "        lambda_2: L2 regularization param\n",
    "        gd_type: 'full' or 'stochastic'\n",
    "        tolerance: for stopping gradient descent\n",
    "        max_iter: maximum number of steps in gradient descent\n",
    "        w0: np.array of shape (d) - init weights\n",
    "        alpha: learning rate\n",
    "        \"\"\"\n",
    "        self.lambda_1 = lambda_1\n",
    "        self.lambda_2 = lambda_2\n",
    "        self.gd_type = gd_type\n",
    "        self.tolerance = tolerance\n",
    "        self.max_iter = max_iter\n",
    "        self.alpha = alpha\n",
    "        self.w = w0\n",
    "        self.loss_history = None\n",
    "        self.time = None\n",
    "    \n",
    "    def fit(self, X, y):\n",
    "        \"\"\"\n",
    "        X: np.array of shape (l, d)\n",
    "        y: np.array of shape (l)\n",
    "        ---\n",
    "        output: self\n",
    "        \"\"\"\n",
    "        self.loss_history = []\n",
    "        self.time = []\n",
    "        time_start = time.time()\n",
    "        if self.w is None:\n",
    "            self.w = np.random.rand(X.shape[1])\n",
    "        \n",
    "        scaler = StandardScaler()\n",
    "        scaler.fit(X)\n",
    "        scaler.transform(X)\n",
    "\n",
    "        for _ in range(self.max_iter):\n",
    "            if self.gd_type == 'stochastic':\n",
    "                i = np.random.randint(0, X.shape[0])\n",
    "                grad = self.calc_gradient(X[i], y[i])\n",
    "            else:\n",
    "                grad = self.calc_gradient(X, y)\n",
    "            w_prev = self.w\n",
    "            self.w = self.w - self.alpha * grad\n",
    "            self.loss_history.append(self.calc_loss(X, y))\n",
    "            self.time.append(time.time() - time_start)\n",
    "            if np.sqrt(np.dot(self.w - w_prev, self.w - w_prev)) < self.tolerance:\n",
    "                break\n",
    "        return self\n",
    "    \n",
    "    def predict_proba(self, X):\n",
    "        \"\"\"\n",
    "        X: np.array of shape (l, d)\n",
    "        ---\n",
    "        output: np.array of shape (l, 2) where\n",
    "        first column has probabilities of -1\n",
    "        second column has probabilities of +1\n",
    "        \"\"\"\n",
    "        if self.w is None:\n",
    "            raise Exception('Not trained yet')\n",
    "        \n",
    "        prob = expit(np.dot(X, self.w))\n",
    "        return np.transpose(np.array([1 - prob, prob]))\n",
    "    \n",
    "    def calc_gradient(self, X, y):\n",
    "        \"\"\"\n",
    "        X: np.array of shape (l, d) (l can be equal to 1 if stochastic)\n",
    "        y: np.array of shape (l)\n",
    "        ---\n",
    "        output: np.array of shape (d)\n",
    "        \"\"\"\n",
    "        ###Так как np.transpose не работает, если количество строк равно 1\n",
    "        if (self.gd_type != 'stochastic'):\n",
    "            grad = -np.dot(np.transpose(X), np.multiply(y, expit(-np.multiply(y, np.dot(X, self.w))))) / X.shape[0]\n",
    "        else:\n",
    "            grad = -(y * expit(-y * np.dot(X, self.w))) * X\n",
    "        grad = grad + self.lambda_1 * np.sign(self.w) + self.lambda_2 * self.w\n",
    "        return grad\n",
    "\n",
    "    def calc_loss(self, X, y):\n",
    "        \"\"\"\n",
    "        X: np.array of shape (l, d)\n",
    "        y: np.array of shape (l)\n",
    "        ---\n",
    "        output: float \n",
    "        \"\"\" \n",
    "        loss = np.sum(np.log(1 + np.exp(np.dot(y, np.dot(X, self.w))))) / X.shape[0] +\\\n",
    "            self.lambda_1 * np.sqrt(np.dot(self.w, self.w)) +\\\n",
    "            self.lambda_2 * np.sqrt(np.dot(self.w, self.w)) / 2\n",
    "        return loss"
   ]
  },
  {
   "cell_type": "code",
   "execution_count": 41,
   "metadata": {},
   "outputs": [],
   "source": [
    "from sklearn.datasets import make_classification"
   ]
  },
  {
   "cell_type": "code",
   "execution_count": 105,
   "metadata": {},
   "outputs": [],
   "source": [
    "X, y = make_classification(n_samples=1000, n_features=10, n_classes=2, n_redundant=0)"
   ]
  },
  {
   "cell_type": "code",
   "execution_count": 106,
   "metadata": {},
   "outputs": [],
   "source": [
    "X_train, X_test, y_train, y_test = train_test_split(X, y, test_size=0.3, random_state=300)"
   ]
  },
  {
   "cell_type": "code",
   "execution_count": 107,
   "metadata": {},
   "outputs": [],
   "source": [
    "clf = LogReg(lambda_2=1.0, max_iter=100000, tolerance=1e-6, alpha=0.1, gd_type='full')"
   ]
  },
  {
   "cell_type": "code",
   "execution_count": 108,
   "metadata": {
    "scrolled": true
   },
   "outputs": [
    {
     "data": {
      "text/plain": [
       "LogReg(alpha=0.1, gd_type='full', lambda_1=0.0, lambda_2=1.0, max_iter=100000,\n",
       "    tolerance=1e-06, w0=None)"
      ]
     },
     "execution_count": 108,
     "metadata": {},
     "output_type": "execute_result"
    }
   ],
   "source": [
    "#%%timeit\n",
    "clf.fit(X_train, y_train)"
   ]
  },
  {
   "cell_type": "code",
   "execution_count": 46,
   "metadata": {},
   "outputs": [],
   "source": [
    "y_pred = list(map(lambda x: 0 if x[0] > x[1] else 1, clf.predict_proba(X_test)))"
   ]
  },
  {
   "cell_type": "code",
   "execution_count": 48,
   "metadata": {},
   "outputs": [
    {
     "name": "stdout",
     "output_type": "stream",
     "text": [
      "[1, 1, 1, 0, 1, 0, 0, 0, 0, 0, 0, 0, 0, 1, 0, 1, 1, 1, 1, 0, 1, 0, 1, 1, 0, 0, 1, 0, 0, 1, 0, 0, 0, 0, 0, 1, 0, 1, 1, 0, 0, 0, 0, 1, 1, 0, 0, 1, 0, 0, 1, 0, 0, 0, 0, 0, 1, 0, 0, 0, 0, 0, 1, 1, 0, 1, 0, 1, 0, 0, 1, 1, 1, 0, 1, 0, 1, 0, 1, 0, 1, 0, 1, 0, 0, 0, 0, 0, 1, 0, 0, 1, 1, 1, 1, 0, 0, 1, 0, 0, 1, 1, 0, 1, 0, 0, 0, 0, 1, 1, 0, 0, 1, 0, 0, 1, 0, 0, 1, 1, 0, 1, 0, 0, 0, 0, 1, 0, 1, 1, 1, 0, 1, 0, 0, 0, 1, 1, 1, 0, 1, 0, 0, 1, 1, 1, 1, 0, 1, 1, 1, 0, 0, 1, 0, 0, 1, 0, 0, 1, 1, 1, 0, 0, 0, 0, 1, 0, 0, 0, 0, 0, 0, 1, 1, 1, 1, 1, 0, 1, 1, 1, 0, 1, 0, 1, 0, 1, 0, 1, 0, 1, 0, 1, 0, 1, 1, 1, 1, 0, 0, 0, 0, 0, 1, 1, 1, 1, 0, 1, 0, 0, 0, 0, 0, 0, 1, 0, 1, 0, 0, 0, 0, 0, 0, 1, 1, 0, 0, 0, 0, 1, 0, 1, 0, 1, 0, 0, 0, 0, 1, 0, 0, 0, 1, 0, 1, 1, 0, 0, 0, 1, 0, 1, 0, 1, 1, 0, 0, 1, 0, 0, 1, 0, 0, 1, 0, 0, 0, 0, 1, 1, 0, 1, 0, 0, 0, 1, 1, 0, 0, 1, 0, 0, 1, 1, 1, 0, 1, 1, 0, 1, 1, 0, 1, 1, 1, 0, 0, 0]\n"
     ]
    }
   ],
   "source": [
    "print(y_pred)"
   ]
  },
  {
   "cell_type": "code",
   "execution_count": 49,
   "metadata": {},
   "outputs": [
    {
     "name": "stdout",
     "output_type": "stream",
     "text": [
      "R2 on full: \t 0.5717917837548507\n",
      "RMSE on full: \t 0.10666666666666667\n",
      "MAE on full: \t 0.10666666666666667\n"
     ]
    }
   ],
   "source": [
    "print(\"R2 on full: \\t\", r2_score(y_test, y_pred))\n",
    "print(\"RMSE on full: \\t\", mean_squared_error(y_test, y_pred))\n",
    "print(\"MAE on full: \\t\", mean_absolute_error(y_test, y_pred))"
   ]
  },
  {
   "cell_type": "code",
   "execution_count": 50,
   "metadata": {},
   "outputs": [],
   "source": [
    "clf_s = LogReg(lambda_2=1.0, max_iter=1000, tolerance=1e-6, alpha=0.1, gd_type='stochastic')"
   ]
  },
  {
   "cell_type": "code",
   "execution_count": 51,
   "metadata": {
    "scrolled": true
   },
   "outputs": [
    {
     "name": "stdout",
     "output_type": "stream",
     "text": [
      "66.9 ms ± 3.01 ms per loop (mean ± std. dev. of 7 runs, 10 loops each)\n"
     ]
    }
   ],
   "source": [
    "%%timeit\n",
    "clf_s.fit(X_train, y_train)"
   ]
  },
  {
   "cell_type": "code",
   "execution_count": 52,
   "metadata": {},
   "outputs": [],
   "source": [
    "y_pred = list(map(lambda x: 0 if x[0] > x[1] else 1, clf_s.predict_proba(X_test)))"
   ]
  },
  {
   "cell_type": "code",
   "execution_count": 53,
   "metadata": {},
   "outputs": [
    {
     "name": "stdout",
     "output_type": "stream",
     "text": [
      "R2 on stochastic: \t 0.02315000669075329\n",
      "RMSE on stochastic: \t 0.24333333333333335\n",
      "MAE on stochastic: \t 0.24333333333333335\n"
     ]
    }
   ],
   "source": [
    "print(\"R2 on stochastic: \\t\", r2_score(y_test, y_pred))\n",
    "print(\"RMSE on stochastic: \\t\", mean_squared_error(y_test, y_pred))\n",
    "print(\"MAE on stochastic: \\t\", mean_absolute_error(y_test, y_pred))"
   ]
  },
  {
   "cell_type": "code",
   "execution_count": 54,
   "metadata": {
    "scrolled": true
   },
   "outputs": [
    {
     "data": {
      "text/plain": [
       "0.20902786445374255"
      ]
     },
     "execution_count": 54,
     "metadata": {},
     "output_type": "execute_result"
    }
   ],
   "source": [
    "clf.loss_history[0]"
   ]
  },
  {
   "cell_type": "code",
   "execution_count": 109,
   "metadata": {
    "scrolled": true
   },
   "outputs": [
    {
     "data": {
      "image/png": "[encoded data removed]",
      "text/plain": [
       "<Figure size 432x288 with 1 Axes>"
      ]
     },
     "metadata": {
      "needs_background": "light"
     },
     "output_type": "display_data"
    }
   ],
   "source": [
    "plt.plot(clf.loss_history)\n",
    "plt.plot(clf_s.loss_history, alpha=0.2)\n",
    "plt.show()"
   ]
  },
  {
   "cell_type": "code",
   "execution_count": 56,
   "metadata": {},
   "outputs": [
    {
     "name": "stdout",
     "output_type": "stream",
     "text": [
      "[0.0006592273712158203]\n"
     ]
    }
   ],
   "source": [
    "print(clf.time)"
   ]
  },
  {
   "cell_type": "code",
   "execution_count": 110,
   "metadata": {},
   "outputs": [
    {
     "data": {
      "image/png": "[encoded data removed]",
      "text/plain": [
       "<Figure size 432x288 with 1 Axes>"
      ]
     },
     "metadata": {
      "needs_background": "light"
     },
     "output_type": "display_data"
    }
   ],
   "source": [
    "plt.plot(clf.time)\n",
    "plt.plot(clf_s.time, alpha=0.1)\n",
    "plt.show()"
   ]
  },
  {
   "cell_type": "markdown",
   "metadata": {},
   "source": [
    "__Выводы:__ ..."
   ]
  },
  {
   "cell_type": "markdown",
   "metadata": {},
   "source": [
    "Можно заметить, что время обучения на стохастическом гр. спуске занимает гораздо меньше времени, но за время мы платим точностью, причем довольно сильно. Точность падает многократно. Возможно стоит использовать в стохастическом гр. спуске не один элемент, а несколько: т.н. \"батч\".\n",
    "Так же можно заметить, что \"полная регрессия остановилась закончила работу примерно на 100-м шаге, в то время как стохастическая продолжила."
   ]
  },
  {
   "cell_type": "markdown",
   "metadata": {},
   "source": [
    "__Задание 2.__ Обучение логистической регрессии на реальных данных и оценка качества классификации.\n",
    "\n",
    "Полезные функции и классы из scikit-learn для этого задания: confusion_matrix, precision_recall_curve, average_precision_score, train_test_split, StandardScaler, roc-curve, roc_auc_score."
   ]
  },
  {
   "cell_type": "markdown",
   "metadata": {},
   "source": [
    "Возьмём данные конкурса [Kaggle Porto Seguro’s Safe Driver Prediction](https://www.kaggle.com/c/porto-seguro-safe-driver-prediction) (вам нужна только обучающая выборка). Задача состоит в определении водителей, которые в ближайший год воспользуются своей автомобильной страховкой (бинарная классификация). Но для нас важна будет не сама задача, а только её данные. При этом под нужды задания мы немного модифицируем датасет."
   ]
  },
  {
   "cell_type": "code",
   "execution_count": 58,
   "metadata": {},
   "outputs": [],
   "source": [
    "data = pd.read_csv('train.csv', index_col=0)\n",
    "target = data.target.values\n",
    "data = data.drop('target', axis=1)"
   ]
  },
  {
   "cell_type": "markdown",
   "metadata": {},
   "source": [
    "Пересемплируем выборку так, чтобы положительных и отрицательных объектов в выборке было одинаковое число. Разделим на обучающую и тестовую выборки."
   ]
  },
  {
   "cell_type": "code",
   "execution_count": 59,
   "metadata": {},
   "outputs": [],
   "source": [
    "# some resampling\n",
    "np.random.seed(910)\n",
    "mask_plus = np.random.choice(np.where(target == 1)[0], 100000, replace=True)\n",
    "mask_zero = np.random.choice(np.where(target == 0)[0], 100000, replace=True)\n",
    "\n",
    "data = pd.concat((data.iloc[mask_plus], data.iloc[mask_zero]))\n",
    "target = np.hstack((target[mask_plus], target[mask_zero]))\n",
    "\n",
    "X_train, X_test, y_train, y_test = train_test_split(data, target, test_size=0.5)"
   ]
  },
  {
   "cell_type": "markdown",
   "metadata": {},
   "source": [
    "Не забудьте отнормировать признаки (можно воспользоваться StandardScaler или сделать это вручную). Пока не будем обращать внимание на то, что некоторые признаки категориальные (этим мы займёмся позже)."
   ]
  },
  {
   "cell_type": "code",
   "execution_count": 60,
   "metadata": {
    "scrolled": true
   },
   "outputs": [
    {
     "name": "stderr",
     "output_type": "stream",
     "text": [
      "/home/zhalgas/.local/lib/python3.6/site-packages/sklearn/preprocessing/data.py:645: DataConversionWarning: Data with input dtype int64, float64 were all converted to float64 by StandardScaler.\n",
      "  return self.partial_fit(X, y)\n",
      "/home/zhalgas/.local/lib/python3.6/site-packages/ipykernel_launcher.py:38: DataConversionWarning: Data with input dtype int64, float64 were all converted to float64 by StandardScaler.\n",
      "/home/zhalgas/.local/lib/python3.6/site-packages/ipykernel_launcher.py:91: RuntimeWarning: overflow encountered in exp\n"
     ]
    },
    {
     "data": {
      "text/plain": [
       "LogReg(alpha=0.01, gd_type='full', lambda_1=0.2, lambda_2=0.8, max_iter=1000,\n",
       "    tolerance=1e-06, w0=None)"
      ]
     },
     "execution_count": 60,
     "metadata": {},
     "output_type": "execute_result"
    }
   ],
   "source": [
    "#Стандартизация у меня происходит внутри Fit\n",
    "clf = LogReg(lambda_1=0.2, lambda_2=0.8, gd_type='full', tolerance=1e-6, max_iter=1000, alpha=0.01)\n",
    "clf.fit(X_train, y_train)"
   ]
  },
  {
   "cell_type": "markdown",
   "metadata": {},
   "source": [
    "Обучите логистическую регрессию с удобными для вас параметрами. Сделайте предсказание на тестовой части выборки."
   ]
  },
  {
   "cell_type": "code",
   "execution_count": 61,
   "metadata": {},
   "outputs": [],
   "source": [
    "y_pred = [0 if i[0] > i[1] else 1 for i in clf.predict_proba(X_test)]"
   ]
  },
  {
   "cell_type": "markdown",
   "metadata": {},
   "source": [
    "Постройку ROC-кривую и Precision-Recall-кривую, посчитайте ROC-AUC и PR-AUC. Какие наблюдения и выводы по ним можно сделать? (В свободной форме)"
   ]
  },
  {
   "cell_type": "code",
   "execution_count": 62,
   "metadata": {},
   "outputs": [],
   "source": [
    "from sklearn.metrics import roc_curve\n",
    "from sklearn.metrics import roc_auc_score\n",
    "from sklearn.metrics import precision_recall_curve\n",
    "from sklearn.metrics import precision_score"
   ]
  },
  {
   "cell_type": "code",
   "execution_count": 63,
   "metadata": {},
   "outputs": [],
   "source": [
    "tmp = clf.predict_proba(X_test)[:, 0]"
   ]
  },
  {
   "cell_type": "code",
   "execution_count": 64,
   "metadata": {},
   "outputs": [],
   "source": [
    "fpr, tpr, thresholds = roc_curve(y_test, tmp)"
   ]
  },
  {
   "cell_type": "code",
   "execution_count": 65,
   "metadata": {},
   "outputs": [
    {
     "data": {
      "image/png": "[encoded data removed]",
      "text/plain": [
       "<Figure size 432x288 with 1 Axes>"
      ]
     },
     "metadata": {
      "needs_background": "light"
     },
     "output_type": "display_data"
    }
   ],
   "source": [
    "plt.plot(fpr, tpr)\n",
    "plt.show()"
   ]
  },
  {
   "cell_type": "code",
   "execution_count": 66,
   "metadata": {
    "scrolled": true
   },
   "outputs": [
    {
     "data": {
      "text/plain": [
       "0.4878108034244756"
      ]
     },
     "execution_count": 66,
     "metadata": {},
     "output_type": "execute_result"
    }
   ],
   "source": [
    "roc_auc_score(y_test, tmp)"
   ]
  },
  {
   "cell_type": "code",
   "execution_count": 67,
   "metadata": {},
   "outputs": [],
   "source": [
    "precision, recall, threshold = precision_recall_curve(y_test, tmp)"
   ]
  },
  {
   "cell_type": "code",
   "execution_count": 68,
   "metadata": {},
   "outputs": [
    {
     "data": {
      "image/png": "[encoded data removed]",
      "text/plain": [
       "<Figure size 432x288 with 1 Axes>"
      ]
     },
     "metadata": {
      "needs_background": "light"
     },
     "output_type": "display_data"
    }
   ],
   "source": [
    "plt.plot(recall, precision)\n",
    "plt.show()"
   ]
  },
  {
   "cell_type": "markdown",
   "metadata": {},
   "source": [
    "Предположим, что наш алгоритм должен обеспечивать полноту не менее 0.7. Какому порогу бинаризации вероятностей это будет соответствовать? Какую точность (precision) мы получим? Постройте матрицу ошибок для данного порога. Что вы можете сказать о таком алгоритме? (В свободной форме)"
   ]
  },
  {
   "cell_type": "markdown",
   "metadata": {},
   "source": [
    "Так как линейная зависимость в данных не выражена, порог вхождения в положительный класс должен быть очень низким, чтобы полнота была высокой, т.к. полнота = TP / (TP + FN) -> 1, TP -> inf\n",
    "Так же это можно заметить по графику внизу."
   ]
  },
  {
   "cell_type": "code",
   "execution_count": 69,
   "metadata": {},
   "outputs": [
    {
     "data": {
      "image/png": "[encoded data removed]",
      "text/plain": [
       "<Figure size 432x288 with 1 Axes>"
      ]
     },
     "metadata": {
      "needs_background": "light"
     },
     "output_type": "display_data"
    }
   ],
   "source": [
    "plt.plot(threshold, recall[:-1])\n",
    "plt.show()"
   ]
  },
  {
   "cell_type": "markdown",
   "metadata": {},
   "source": [
    "Видно, что требуемый порог находится около 0"
   ]
  },
  {
   "cell_type": "code",
   "execution_count": 70,
   "metadata": {},
   "outputs": [],
   "source": [
    "y_pred = [1 if i[1] > 0.02 else 0 for i in clf.predict_proba(X_test)]"
   ]
  },
  {
   "cell_type": "code",
   "execution_count": 71,
   "metadata": {},
   "outputs": [
    {
     "name": "stdout",
     "output_type": "stream",
     "text": [
      "R2 :\t -0.9997600287965449\n"
     ]
    }
   ],
   "source": [
    "print(\"R2 :\\t\", r2_score(y_test, y_pred))"
   ]
  },
  {
   "cell_type": "code",
   "execution_count": 72,
   "metadata": {},
   "outputs": [],
   "source": [
    "from sklearn.metrics import confusion_matrix"
   ]
  },
  {
   "cell_type": "code",
   "execution_count": 73,
   "metadata": {},
   "outputs": [
    {
     "name": "stdout",
     "output_type": "stream",
     "text": [
      "[[    0 49994]\n",
      " [    0 50006]]\n"
     ]
    }
   ],
   "source": [
    "cm = confusion_matrix(y_test, y_pred)\n",
    "print(cm)"
   ]
  },
  {
   "cell_type": "markdown",
   "metadata": {},
   "source": [
    "Этот алгоритм плохой. Но подойдет для бухгалтерских контор"
   ]
  },
  {
   "cell_type": "markdown",
   "metadata": {},
   "source": [
    "__Задание 3.__ Изучение влияния регуляризатора на процесс обучения\n",
    "\n",
    "Проверьте на практике, как влияет регуляризатор на процесс обучения (убывание функции потерь на обучающей и отложенной выборках). Чтобы считать функцию потерь на отложенной выборке после каждой итерации, запускайте процесс обучения логистической регрессии с параметром $max\\_iter=1$ и $w^{(0)}$, полученным на предыдущей итерации. Постройте два графика: на одном из них логистическая регрессия с коэффициентом регуляризации, равным 0, а на другом с некоторым разумным значением. На каждом графике одновременно должна быть и функция потерь для обучающей, и для тестовой выборки. Не забудьте сделать одинаковыми оси обоих графиков. Какие выводы вы можете сделать?"
   ]
  },
  {
   "cell_type": "code",
   "execution_count": 74,
   "metadata": {},
   "outputs": [],
   "source": [
    "clf_wo_reg = LogReg(lambda_1=0, lambda_2=0, gd_type='full', max_iter=1, tolerance=0.0000001, alpha=10e20)\n",
    "clf_w_reg = LogReg(lambda_1=0, lambda_2=0.8, gd_type='full', max_iter=1, tolerance=0.0000001)"
   ]
  },
  {
   "cell_type": "code",
   "execution_count": 75,
   "metadata": {
    "scrolled": true
   },
   "outputs": [
    {
     "name": "stderr",
     "output_type": "stream",
     "text": [
      "/home/zhalgas/.local/lib/python3.6/site-packages/sklearn/preprocessing/data.py:645: DataConversionWarning: Data with input dtype int64, float64 were all converted to float64 by StandardScaler.\n",
      "  return self.partial_fit(X, y)\n",
      "/home/zhalgas/.local/lib/python3.6/site-packages/ipykernel_launcher.py:38: DataConversionWarning: Data with input dtype int64, float64 were all converted to float64 by StandardScaler.\n",
      "/home/zhalgas/.local/lib/python3.6/site-packages/ipykernel_launcher.py:91: RuntimeWarning: overflow encountered in exp\n",
      "/home/zhalgas/.local/lib/python3.6/site-packages/sklearn/preprocessing/data.py:645: DataConversionWarning: Data with input dtype int64, float64 were all converted to float64 by StandardScaler.\n",
      "  return self.partial_fit(X, y)\n",
      "/home/zhalgas/.local/lib/python3.6/site-packages/ipykernel_launcher.py:38: DataConversionWarning: Data with input dtype int64, float64 were all converted to float64 by StandardScaler.\n",
      "/home/zhalgas/.local/lib/python3.6/site-packages/ipykernel_launcher.py:91: RuntimeWarning: overflow encountered in exp\n",
      "/home/zhalgas/.local/lib/python3.6/site-packages/sklearn/preprocessing/data.py:645: DataConversionWarning: Data with input dtype int64, float64 were all converted to float64 by StandardScaler.\n",
      "  return self.partial_fit(X, y)\n",
      "/home/zhalgas/.local/lib/python3.6/site-packages/ipykernel_launcher.py:38: DataConversionWarning: Data with input dtype int64, float64 were all converted to float64 by StandardScaler.\n",
      "/home/zhalgas/.local/lib/python3.6/site-packages/ipykernel_launcher.py:91: RuntimeWarning: overflow encountered in exp\n",
      "/home/zhalgas/.local/lib/python3.6/site-packages/sklearn/preprocessing/data.py:645: DataConversionWarning: Data with input dtype int64, float64 were all converted to float64 by StandardScaler.\n",
      "  return self.partial_fit(X, y)\n",
      "/home/zhalgas/.local/lib/python3.6/site-packages/ipykernel_launcher.py:38: DataConversionWarning: Data with input dtype int64, float64 were all converted to float64 by StandardScaler.\n",
      "/home/zhalgas/.local/lib/python3.6/site-packages/ipykernel_launcher.py:91: RuntimeWarning: overflow encountered in exp\n",
      "/home/zhalgas/.local/lib/python3.6/site-packages/sklearn/preprocessing/data.py:645: DataConversionWarning: Data with input dtype int64, float64 were all converted to float64 by StandardScaler.\n",
      "  return self.partial_fit(X, y)\n",
      "/home/zhalgas/.local/lib/python3.6/site-packages/ipykernel_launcher.py:38: DataConversionWarning: Data with input dtype int64, float64 were all converted to float64 by StandardScaler.\n",
      "/home/zhalgas/.local/lib/python3.6/site-packages/ipykernel_launcher.py:91: RuntimeWarning: overflow encountered in exp\n",
      "/home/zhalgas/.local/lib/python3.6/site-packages/sklearn/preprocessing/data.py:645: DataConversionWarning: Data with input dtype int64, float64 were all converted to float64 by StandardScaler.\n",
      "  return self.partial_fit(X, y)\n",
      "/home/zhalgas/.local/lib/python3.6/site-packages/ipykernel_launcher.py:38: DataConversionWarning: Data with input dtype int64, float64 were all converted to float64 by StandardScaler.\n",
      "/home/zhalgas/.local/lib/python3.6/site-packages/ipykernel_launcher.py:91: RuntimeWarning: overflow encountered in exp\n",
      "/home/zhalgas/.local/lib/python3.6/site-packages/sklearn/preprocessing/data.py:645: DataConversionWarning: Data with input dtype int64, float64 were all converted to float64 by StandardScaler.\n",
      "  return self.partial_fit(X, y)\n",
      "/home/zhalgas/.local/lib/python3.6/site-packages/ipykernel_launcher.py:38: DataConversionWarning: Data with input dtype int64, float64 were all converted to float64 by StandardScaler.\n",
      "/home/zhalgas/.local/lib/python3.6/site-packages/ipykernel_launcher.py:91: RuntimeWarning: overflow encountered in exp\n",
      "/home/zhalgas/.local/lib/python3.6/site-packages/sklearn/preprocessing/data.py:645: DataConversionWarning: Data with input dtype int64, float64 were all converted to float64 by StandardScaler.\n",
      "  return self.partial_fit(X, y)\n",
      "/home/zhalgas/.local/lib/python3.6/site-packages/ipykernel_launcher.py:38: DataConversionWarning: Data with input dtype int64, float64 were all converted to float64 by StandardScaler.\n",
      "/home/zhalgas/.local/lib/python3.6/site-packages/ipykernel_launcher.py:91: RuntimeWarning: overflow encountered in exp\n",
      "/home/zhalgas/.local/lib/python3.6/site-packages/sklearn/preprocessing/data.py:645: DataConversionWarning: Data with input dtype int64, float64 were all converted to float64 by StandardScaler.\n",
      "  return self.partial_fit(X, y)\n",
      "/home/zhalgas/.local/lib/python3.6/site-packages/ipykernel_launcher.py:38: DataConversionWarning: Data with input dtype int64, float64 were all converted to float64 by StandardScaler.\n",
      "/home/zhalgas/.local/lib/python3.6/site-packages/ipykernel_launcher.py:91: RuntimeWarning: overflow encountered in exp\n",
      "/home/zhalgas/.local/lib/python3.6/site-packages/sklearn/preprocessing/data.py:645: DataConversionWarning: Data with input dtype int64, float64 were all converted to float64 by StandardScaler.\n",
      "  return self.partial_fit(X, y)\n",
      "/home/zhalgas/.local/lib/python3.6/site-packages/ipykernel_launcher.py:38: DataConversionWarning: Data with input dtype int64, float64 were all converted to float64 by StandardScaler.\n",
      "/home/zhalgas/.local/lib/python3.6/site-packages/ipykernel_launcher.py:91: RuntimeWarning: overflow encountered in exp\n"
     ]
    },
    {
     "data": {
      "image/png": "[encoded data removed]",
      "text/plain": [
       "<Figure size 432x288 with 1 Axes>"
      ]
     },
     "metadata": {
      "needs_background": "light"
     },
     "output_type": "display_data"
    }
   ],
   "source": [
    "wo_reg_train = []\n",
    "wo_reg_test = []\n",
    "for _ in range(10):\n",
    "    clf_wo_reg.fit(X_train, y_train)\n",
    "    wo_reg_train.append(clf_wo_reg.calc_loss(X_train, y_train))\n",
    "    wo_reg_train.append(clf_wo_reg.calc_loss(X_test, y_test))\n",
    "plt.plot(wo_reg_train)\n",
    "plt.plot(wo_reg_test)\n",
    "plt.show()"
   ]
  },
  {
   "cell_type": "code",
   "execution_count": 76,
   "metadata": {
    "scrolled": true
   },
   "outputs": [
    {
     "name": "stderr",
     "output_type": "stream",
     "text": [
      "/home/zhalgas/.local/lib/python3.6/site-packages/sklearn/preprocessing/data.py:645: DataConversionWarning: Data with input dtype int64, float64 were all converted to float64 by StandardScaler.\n",
      "  return self.partial_fit(X, y)\n",
      "/home/zhalgas/.local/lib/python3.6/site-packages/ipykernel_launcher.py:38: DataConversionWarning: Data with input dtype int64, float64 were all converted to float64 by StandardScaler.\n",
      "/home/zhalgas/.local/lib/python3.6/site-packages/ipykernel_launcher.py:91: RuntimeWarning: overflow encountered in exp\n",
      "/home/zhalgas/.local/lib/python3.6/site-packages/sklearn/preprocessing/data.py:645: DataConversionWarning: Data with input dtype int64, float64 were all converted to float64 by StandardScaler.\n",
      "  return self.partial_fit(X, y)\n",
      "/home/zhalgas/.local/lib/python3.6/site-packages/ipykernel_launcher.py:38: DataConversionWarning: Data with input dtype int64, float64 were all converted to float64 by StandardScaler.\n",
      "/home/zhalgas/.local/lib/python3.6/site-packages/ipykernel_launcher.py:91: RuntimeWarning: overflow encountered in exp\n",
      "/home/zhalgas/.local/lib/python3.6/site-packages/sklearn/preprocessing/data.py:645: DataConversionWarning: Data with input dtype int64, float64 were all converted to float64 by StandardScaler.\n",
      "  return self.partial_fit(X, y)\n",
      "/home/zhalgas/.local/lib/python3.6/site-packages/ipykernel_launcher.py:38: DataConversionWarning: Data with input dtype int64, float64 were all converted to float64 by StandardScaler.\n",
      "/home/zhalgas/.local/lib/python3.6/site-packages/ipykernel_launcher.py:91: RuntimeWarning: overflow encountered in exp\n",
      "/home/zhalgas/.local/lib/python3.6/site-packages/sklearn/preprocessing/data.py:645: DataConversionWarning: Data with input dtype int64, float64 were all converted to float64 by StandardScaler.\n",
      "  return self.partial_fit(X, y)\n",
      "/home/zhalgas/.local/lib/python3.6/site-packages/ipykernel_launcher.py:38: DataConversionWarning: Data with input dtype int64, float64 were all converted to float64 by StandardScaler.\n",
      "/home/zhalgas/.local/lib/python3.6/site-packages/ipykernel_launcher.py:91: RuntimeWarning: overflow encountered in exp\n",
      "/home/zhalgas/.local/lib/python3.6/site-packages/sklearn/preprocessing/data.py:645: DataConversionWarning: Data with input dtype int64, float64 were all converted to float64 by StandardScaler.\n",
      "  return self.partial_fit(X, y)\n",
      "/home/zhalgas/.local/lib/python3.6/site-packages/ipykernel_launcher.py:38: DataConversionWarning: Data with input dtype int64, float64 were all converted to float64 by StandardScaler.\n",
      "/home/zhalgas/.local/lib/python3.6/site-packages/ipykernel_launcher.py:91: RuntimeWarning: overflow encountered in exp\n",
      "/home/zhalgas/.local/lib/python3.6/site-packages/sklearn/preprocessing/data.py:645: DataConversionWarning: Data with input dtype int64, float64 were all converted to float64 by StandardScaler.\n",
      "  return self.partial_fit(X, y)\n",
      "/home/zhalgas/.local/lib/python3.6/site-packages/ipykernel_launcher.py:38: DataConversionWarning: Data with input dtype int64, float64 were all converted to float64 by StandardScaler.\n",
      "/home/zhalgas/.local/lib/python3.6/site-packages/ipykernel_launcher.py:91: RuntimeWarning: overflow encountered in exp\n",
      "/home/zhalgas/.local/lib/python3.6/site-packages/sklearn/preprocessing/data.py:645: DataConversionWarning: Data with input dtype int64, float64 were all converted to float64 by StandardScaler.\n",
      "  return self.partial_fit(X, y)\n",
      "/home/zhalgas/.local/lib/python3.6/site-packages/ipykernel_launcher.py:38: DataConversionWarning: Data with input dtype int64, float64 were all converted to float64 by StandardScaler.\n",
      "/home/zhalgas/.local/lib/python3.6/site-packages/ipykernel_launcher.py:91: RuntimeWarning: overflow encountered in exp\n",
      "/home/zhalgas/.local/lib/python3.6/site-packages/sklearn/preprocessing/data.py:645: DataConversionWarning: Data with input dtype int64, float64 were all converted to float64 by StandardScaler.\n",
      "  return self.partial_fit(X, y)\n",
      "/home/zhalgas/.local/lib/python3.6/site-packages/ipykernel_launcher.py:38: DataConversionWarning: Data with input dtype int64, float64 were all converted to float64 by StandardScaler.\n",
      "/home/zhalgas/.local/lib/python3.6/site-packages/ipykernel_launcher.py:91: RuntimeWarning: overflow encountered in exp\n",
      "/home/zhalgas/.local/lib/python3.6/site-packages/sklearn/preprocessing/data.py:645: DataConversionWarning: Data with input dtype int64, float64 were all converted to float64 by StandardScaler.\n",
      "  return self.partial_fit(X, y)\n",
      "/home/zhalgas/.local/lib/python3.6/site-packages/ipykernel_launcher.py:38: DataConversionWarning: Data with input dtype int64, float64 were all converted to float64 by StandardScaler.\n",
      "/home/zhalgas/.local/lib/python3.6/site-packages/ipykernel_launcher.py:91: RuntimeWarning: overflow encountered in exp\n",
      "/home/zhalgas/.local/lib/python3.6/site-packages/sklearn/preprocessing/data.py:645: DataConversionWarning: Data with input dtype int64, float64 were all converted to float64 by StandardScaler.\n",
      "  return self.partial_fit(X, y)\n",
      "/home/zhalgas/.local/lib/python3.6/site-packages/ipykernel_launcher.py:38: DataConversionWarning: Data with input dtype int64, float64 were all converted to float64 by StandardScaler.\n",
      "/home/zhalgas/.local/lib/python3.6/site-packages/ipykernel_launcher.py:91: RuntimeWarning: overflow encountered in exp\n"
     ]
    },
    {
     "data": {
      "image/png": "[encoded data removed]",
      "text/plain": [
       "<Figure size 432x288 with 1 Axes>"
      ]
     },
     "metadata": {
      "needs_background": "light"
     },
     "output_type": "display_data"
    }
   ],
   "source": [
    "w_reg_train = []\n",
    "w_reg_test = []\n",
    "for _ in range(10):\n",
    "    clf_w_reg.fit(X_train, y_train)\n",
    "    w_reg_train.append(clf_w_reg.calc_loss(X_train, y_train))\n",
    "    w_reg_train.append(clf_w_reg.calc_loss(X_test, y_test))\n",
    "plt.plot(w_reg_train)\n",
    "plt.plot(w_reg_test)\n",
    "plt.show()"
   ]
  },
  {
   "cell_type": "markdown",
   "metadata": {},
   "source": [
    "Во всех тестах сверху модель дает inf loss функцию. Я пробовал использовать различные параметры. Не помогло. Я думаю дело в том, что данные не подходят."
   ]
  },
  {
   "cell_type": "markdown",
   "metadata": {},
   "source": [
    "## Часть 3. Метод опорных векторов"
   ]
  },
  {
   "cell_type": "markdown",
   "metadata": {},
   "source": [
    "__Задание 1.__ Обучение и применение метода опорных векторов.\n",
    "\n",
    "Обучите метод опорных векторов (в этот раз воспользуйтесь готовой реализацией LinearSVC из sklearn). Используйте уже загруженные и обработанные в предыдущей части данные."
   ]
  },
  {
   "cell_type": "code",
   "execution_count": 77,
   "metadata": {},
   "outputs": [],
   "source": [
    "from sklearn.svm import LinearSVC"
   ]
  },
  {
   "cell_type": "code",
   "execution_count": 78,
   "metadata": {},
   "outputs": [],
   "source": [
    "clf = LinearSVC()"
   ]
  },
  {
   "cell_type": "code",
   "execution_count": 79,
   "metadata": {},
   "outputs": [
    {
     "name": "stderr",
     "output_type": "stream",
     "text": [
      "/home/zhalgas/.local/lib/python3.6/site-packages/sklearn/svm/base.py:931: ConvergenceWarning: Liblinear failed to converge, increase the number of iterations.\n",
      "  \"the number of iterations.\", ConvergenceWarning)\n"
     ]
    },
    {
     "data": {
      "text/plain": [
       "LinearSVC(C=1.0, class_weight=None, dual=True, fit_intercept=True,\n",
       "     intercept_scaling=1, loss='squared_hinge', max_iter=1000,\n",
       "     multi_class='ovr', penalty='l2', random_state=None, tol=0.0001,\n",
       "     verbose=0)"
      ]
     },
     "execution_count": 79,
     "metadata": {},
     "output_type": "execute_result"
    }
   ],
   "source": [
    "clf.fit(X_train, y_train)"
   ]
  },
  {
   "cell_type": "markdown",
   "metadata": {},
   "source": [
    "На той же тестовой части посчитайте все те же метрики. Что вы можете сказать о полученных результатах?"
   ]
  },
  {
   "cell_type": "code",
   "execution_count": 80,
   "metadata": {},
   "outputs": [],
   "source": [
    "y_pred = clf.predict(X_test)"
   ]
  },
  {
   "cell_type": "code",
   "execution_count": 81,
   "metadata": {},
   "outputs": [
    {
     "name": "stdout",
     "output_type": "stream",
     "text": [
      "R2 :\t -0.9952800287320329\n",
      "RMSE :\t 0.49882\n",
      "MAE :\t 0.49882\n"
     ]
    }
   ],
   "source": [
    "print(\"R2 :\\t\", r2_score(y_test, y_pred))\n",
    "print(\"RMSE :\\t\", mean_squared_error(y_test, y_pred))\n",
    "print(\"MAE :\\t\", mean_absolute_error(y_test, y_pred))"
   ]
  },
  {
   "cell_type": "markdown",
   "metadata": {},
   "source": [
    "В названии метода присутствуют некоторые \"опорные векторы\". Сгенерируйте синтетический датасет с помощью make_classification с 2 признаками, обучите на нём метод опорных векторов с линейным ядром. Визуализируйте разделяющую прямую, все объекты и выделите опорные вектора (атрибут support\\_vectors\\_). В этот раз вместо LinearSVC воспользуйтесь SVC с линейным ядром, так как только в нём есть информация об опорных векторах."
   ]
  },
  {
   "cell_type": "code",
   "execution_count": 82,
   "metadata": {},
   "outputs": [],
   "source": [
    "from sklearn.datasets import make_classification"
   ]
  },
  {
   "cell_type": "code",
   "execution_count": 83,
   "metadata": {},
   "outputs": [],
   "source": [
    "X, y = make_classification(n_samples=1000, n_features=2, n_classes=2, n_redundant=0)"
   ]
  },
  {
   "cell_type": "code",
   "execution_count": 84,
   "metadata": {},
   "outputs": [],
   "source": [
    "X_train, X_test, y_train, y_test = train_test_split(X, y, test_size=0.7, random_state=300)"
   ]
  },
  {
   "cell_type": "code",
   "execution_count": 85,
   "metadata": {},
   "outputs": [],
   "source": [
    "from sklearn.svm import SVC"
   ]
  },
  {
   "cell_type": "code",
   "execution_count": 86,
   "metadata": {},
   "outputs": [
    {
     "data": {
      "image/png": "[encoded data removed]",
      "text/plain": [
       "<Figure size 432x288 with 1 Axes>"
      ]
     },
     "metadata": {
      "needs_background": "light"
     },
     "output_type": "display_data"
    }
   ],
   "source": [
    "clf = SVC(kernel='linear')\n",
    "clf.fit(X_train, y_train)\n",
    "\n",
    "# generate grid for plotting\n",
    "h = 0.2\n",
    "x_min, x_max = X_train[:, 0].min() - 1, X_train[:, 0].max() + 1\n",
    "y_min, y_max = X_train[:, 1].min() - 1, X_train[:, 1].max() + 1\n",
    "xx, yy = np.meshgrid(\n",
    "    np.arange(x_min, x_max, h),\n",
    "    np.arange(y_min, y_max, h))\n",
    "\n",
    "# create decision boundary plot\n",
    "Z = clf.predict(np.c_[xx.ravel(), yy.ravel()])\n",
    "Z = Z.reshape(xx.shape)\n",
    "contourf(xx,yy,Z,cmap=plt.cm.coolwarm, alpha=0.8)\n",
    "scatter(X_train[:,0], X_train[:,1],c=y_train)\n",
    "show()"
   ]
  },
  {
   "cell_type": "code",
   "execution_count": 87,
   "metadata": {
    "scrolled": true
   },
   "outputs": [
    {
     "data": {
      "text/plain": [
       "array([[-0.65698373,  0.78583715],\n",
       "       [-0.63278514,  0.86525024],\n",
       "       [-0.56809906,  0.76968068],\n",
       "       [-0.67728326,  1.02995173],\n",
       "       [ 0.98872735, -0.96169523],\n",
       "       [-0.7552918 ,  0.9934675 ],\n",
       "       [ 0.80203729,  0.59829243],\n",
       "       [ 0.04240169,  0.93726641],\n",
       "       [-0.04116666, -1.02370399],\n",
       "       [ 1.09861524,  0.69354997],\n",
       "       [-0.41704472,  0.87501388],\n",
       "       [ 0.34007791, -0.8458763 ],\n",
       "       [ 0.12774074,  0.65633453],\n",
       "       [ 0.77924808,  0.48355025],\n",
       "       [ 0.20622177, -0.97480552],\n",
       "       [-0.23563569,  0.90767083],\n",
       "       [ 0.07230598, -0.7792417 ],\n",
       "       [ 1.32036742,  0.5011873 ],\n",
       "       [-0.38996975, -0.37609672],\n",
       "       [-0.57055151,  0.9263926 ],\n",
       "       [-0.5356082 ,  0.87870828],\n",
       "       [-0.13881812,  0.78584084],\n",
       "       [ 0.05355828,  0.93721644],\n",
       "       [-0.13426888, -1.33343047],\n",
       "       [ 0.45867173,  0.86241627],\n",
       "       [-0.1010448 , -1.29180503],\n",
       "       [-0.20238477, -1.07421235],\n",
       "       [ 1.49193232,  0.49801586],\n",
       "       [-0.60487869,  0.84741532],\n",
       "       [ 1.20095322,  0.45975537],\n",
       "       [-0.48008132,  1.24420651],\n",
       "       [-0.12568142,  1.00837603],\n",
       "       [ 0.03145303,  0.56892011],\n",
       "       [-0.13189933, -1.37203977],\n",
       "       [-0.02753493,  0.72619039],\n",
       "       [ 0.53262743, -0.77033395],\n",
       "       [ 0.0619433 , -0.17544228],\n",
       "       [ 0.75235252, -1.25944604],\n",
       "       [ 0.18442158,  0.73578127],\n",
       "       [ 0.50875789, -1.0111266 ],\n",
       "       [-0.50391224,  0.83609206],\n",
       "       [ 0.26842085,  0.90222966],\n",
       "       [-0.48453521,  0.56910879],\n",
       "       [-0.59298221,  0.99645943],\n",
       "       [-0.3160157 ,  0.84601105],\n",
       "       [-0.32586003, -0.53277619],\n",
       "       [-0.5051426 ,  2.57722617],\n",
       "       [ 0.25761076,  1.50046025],\n",
       "       [ 0.58507561, -1.15762884],\n",
       "       [ 0.66920259, -0.29300267],\n",
       "       [-0.03224285,  1.55907915],\n",
       "       [-0.36176075,  0.55518648],\n",
       "       [ 0.21980727, -0.86479304],\n",
       "       [-0.61524147,  2.20736789],\n",
       "       [-0.93785667,  1.55444616],\n",
       "       [ 0.27773807, -0.55944426],\n",
       "       [-2.62246745,  2.6320384 ],\n",
       "       [-1.47679721,  2.12972732],\n",
       "       [-0.43065019,  1.8272613 ],\n",
       "       [ 0.80016946, -0.56794249],\n",
       "       [-0.76248787, -0.23612577],\n",
       "       [ 0.5304987 , -0.27140891],\n",
       "       [ 0.33280711,  0.59736119],\n",
       "       [-0.75052181,  0.57158667],\n",
       "       [-1.43169362,  1.21019026],\n",
       "       [ 0.61287552, -0.17790232],\n",
       "       [ 0.68263396, -1.353998  ],\n",
       "       [ 0.67858427, -1.14723072],\n",
       "       [-0.0661943 ,  1.9842187 ],\n",
       "       [-0.89503463,  1.56714321],\n",
       "       [-0.27596179,  1.44069092],\n",
       "       [ 0.50721723,  0.52471499],\n",
       "       [ 0.64566762, -1.22171133],\n",
       "       [ 0.68014164, -1.00067907],\n",
       "       [-0.04568585,  1.25237923],\n",
       "       [ 0.65524361, -1.11890494],\n",
       "       [ 0.65568051, -0.13955737],\n",
       "       [ 1.17491923, -2.09011102],\n",
       "       [ 0.61332034, -1.04656654],\n",
       "       [ 0.46336944, -1.28808035],\n",
       "       [ 0.77902122, -1.01514218],\n",
       "       [-0.23726501,  1.45562481],\n",
       "       [ 1.05002219, -1.51797519],\n",
       "       [ 0.4517115 ,  0.7531442 ],\n",
       "       [ 0.09400439, -0.26434479],\n",
       "       [ 0.51808239,  0.0212412 ],\n",
       "       [ 0.05572475,  0.502334  ],\n",
       "       [ 0.10338988,  0.08798291],\n",
       "       [-0.66879148,  1.95506554],\n",
       "       [ 0.48757629,  0.04032125],\n",
       "       [ 1.04779552, -1.51647139],\n",
       "       [ 0.62315506, -0.43895319]])"
      ]
     },
     "execution_count": 87,
     "metadata": {},
     "output_type": "execute_result"
    }
   ],
   "source": [
    "clf.support_vectors_"
   ]
  },
  {
   "cell_type": "markdown",
   "metadata": {},
   "source": [
    "## Часть 4. Работа с категориальными переменными"
   ]
  },
  {
   "cell_type": "markdown",
   "metadata": {},
   "source": [
    "В этой части мы научимся обрабатывать категориальные переменные, так как закодировать их в виде чисел недостаточно (это задаёт некоторый порядок, которого на категориальных переменных может и не быть). Существует два основных способа обработки категориальных значений:\n",
    "- One-hot-кодирование\n",
    "- Счётчики (CTR, mean-target кодирование, ...) — каждый категориальный признак заменяется на среднее значение целевой переменной по всем объектам, имеющим одинаковое значение в этом признаке.\n",
    "\n",
    "Начнём с one-hot-кодирования. Допустим наш категориальный признак $f_j(x)$ принимает значения из множества $C=\\{c_1, \\dots, c_m\\}$. Заменим его на $m$ бинарных признаков $b_1(x), \\dots, b_m(x)$, каждый из которых является индикатором одного из возможных категориальных значений:\n",
    "$$\n",
    "b_i(x) = [f_j(x) = c_i]\n",
    "$$\n",
    "\n",
    "__Задание 1.__ Закодируйте все категориальные признаки с помощью one-hot-кодирования. Обучите логистическую регрессию и посмотрите, как изменилось качество модели (с тем, что было ранее). Измерьте время, потребовавшееся на обучение модели."
   ]
  },
  {
   "cell_type": "code",
   "execution_count": 88,
   "metadata": {},
   "outputs": [],
   "source": [
    "from sklearn.preprocessing import OneHotEncoder"
   ]
  },
  {
   "cell_type": "code",
   "execution_count": 89,
   "metadata": {},
   "outputs": [],
   "source": [
    "enc = OneHotEncoder(categories='auto')"
   ]
  },
  {
   "cell_type": "code",
   "execution_count": 90,
   "metadata": {},
   "outputs": [
    {
     "data": {
      "text/plain": [
       "OneHotEncoder(categorical_features=None, categories='auto',\n",
       "       dtype=<class 'numpy.float64'>, handle_unknown='error',\n",
       "       n_values=None, sparse=True)"
      ]
     },
     "execution_count": 90,
     "metadata": {},
     "output_type": "execute_result"
    }
   ],
   "source": [
    "enc.fit(X)"
   ]
  },
  {
   "cell_type": "code",
   "execution_count": 91,
   "metadata": {},
   "outputs": [
    {
     "data": {
      "text/plain": [
       "[array([-4.55727429e+00, -4.12483197e+00, -3.69822822e+00, -3.56408097e+00,\n",
       "        -3.53759056e+00, -3.51694867e+00, -3.38952881e+00, -3.36462091e+00,\n",
       "        -3.00359815e+00, -2.98454209e+00, -2.94340344e+00, -2.89440001e+00,\n",
       "        -2.76543630e+00, -2.75794395e+00, -2.73574827e+00, -2.72443138e+00,\n",
       "        -2.71552798e+00, -2.67366743e+00, -2.65039813e+00, -2.64560286e+00,\n",
       "        -2.63588950e+00, -2.62246745e+00, -2.58106723e+00, -2.57114789e+00,\n",
       "        -2.54731088e+00, -2.54406400e+00, -2.50324558e+00, -2.50300669e+00,\n",
       "        -2.49627718e+00, -2.48548075e+00, -2.47259547e+00, -2.44898819e+00,\n",
       "        -2.36026825e+00, -2.31149732e+00, -2.30603764e+00, -2.30163515e+00,\n",
       "        -2.30131300e+00, -2.29343406e+00, -2.27883467e+00, -2.27172014e+00,\n",
       "        -2.24431017e+00, -2.21963222e+00, -2.21029704e+00, -2.18283553e+00,\n",
       "        -2.16622785e+00, -2.16271388e+00, -2.13981684e+00, -2.13059114e+00,\n",
       "        -2.11390992e+00, -2.09999731e+00, -2.09738221e+00, -2.06353487e+00,\n",
       "        -2.04269985e+00, -2.02909966e+00, -2.02540914e+00, -2.02303902e+00,\n",
       "        -2.02054989e+00, -2.01086068e+00, -2.01074565e+00, -1.99881832e+00,\n",
       "        -1.99606546e+00, -1.96430021e+00, -1.95469624e+00, -1.95027494e+00,\n",
       "        -1.93080517e+00, -1.92429471e+00, -1.91915484e+00, -1.91093339e+00,\n",
       "        -1.89157837e+00, -1.88946408e+00, -1.86783650e+00, -1.86130075e+00,\n",
       "        -1.86118463e+00, -1.85192718e+00, -1.84324980e+00, -1.83588438e+00,\n",
       "        -1.83528527e+00, -1.83503219e+00, -1.83228664e+00, -1.83207824e+00,\n",
       "        -1.81826525e+00, -1.81302629e+00, -1.80365649e+00, -1.78722691e+00,\n",
       "        -1.78036682e+00, -1.77967725e+00, -1.77812130e+00, -1.77161037e+00,\n",
       "        -1.76907433e+00, -1.76610648e+00, -1.76195279e+00, -1.75882054e+00,\n",
       "        -1.75765792e+00, -1.75734211e+00, -1.75111441e+00, -1.74602366e+00,\n",
       "        -1.71242917e+00, -1.71168534e+00, -1.70774647e+00, -1.67720336e+00,\n",
       "        -1.67656155e+00, -1.67244664e+00, -1.66887326e+00, -1.65507875e+00,\n",
       "        -1.64076330e+00, -1.63760983e+00, -1.63072374e+00, -1.61912289e+00,\n",
       "        -1.61693079e+00, -1.60599746e+00, -1.60255543e+00, -1.60064196e+00,\n",
       "        -1.59795558e+00, -1.59703171e+00, -1.58008322e+00, -1.57828012e+00,\n",
       "        -1.57463174e+00, -1.57086903e+00, -1.57057707e+00, -1.55773442e+00,\n",
       "        -1.55162375e+00, -1.54617315e+00, -1.54279318e+00, -1.53443860e+00,\n",
       "        -1.53371363e+00, -1.51738155e+00, -1.51254242e+00, -1.50903894e+00,\n",
       "        -1.50601154e+00, -1.50231150e+00, -1.49899588e+00, -1.49580273e+00,\n",
       "        -1.48033111e+00, -1.47679721e+00, -1.46383079e+00, -1.45505056e+00,\n",
       "        -1.45472679e+00, -1.45375719e+00, -1.43945987e+00, -1.43851463e+00,\n",
       "        -1.43449743e+00, -1.43169362e+00, -1.42447736e+00, -1.41882579e+00,\n",
       "        -1.40992758e+00, -1.40578235e+00, -1.40066118e+00, -1.40031233e+00,\n",
       "        -1.39372596e+00, -1.38948454e+00, -1.38943011e+00, -1.37402250e+00,\n",
       "        -1.37174579e+00, -1.35986885e+00, -1.35787096e+00, -1.34441416e+00,\n",
       "        -1.34187768e+00, -1.33679667e+00, -1.33059652e+00, -1.32818983e+00,\n",
       "        -1.32243389e+00, -1.31519112e+00, -1.31009546e+00, -1.29941574e+00,\n",
       "        -1.29810722e+00, -1.29575578e+00, -1.29437309e+00, -1.28765844e+00,\n",
       "        -1.27790323e+00, -1.27529437e+00, -1.27517807e+00, -1.26952749e+00,\n",
       "        -1.26903200e+00, -1.26616995e+00, -1.25832853e+00, -1.25718076e+00,\n",
       "        -1.25642105e+00, -1.25181544e+00, -1.24653298e+00, -1.24006848e+00,\n",
       "        -1.23732710e+00, -1.23611588e+00, -1.23163467e+00, -1.22116560e+00,\n",
       "        -1.20893712e+00, -1.20759367e+00, -1.20619402e+00, -1.20363302e+00,\n",
       "        -1.20288824e+00, -1.19838259e+00, -1.19475783e+00, -1.19374027e+00,\n",
       "        -1.19049480e+00, -1.19009207e+00, -1.18099402e+00, -1.17948971e+00,\n",
       "        -1.17901995e+00, -1.17675510e+00, -1.16712507e+00, -1.16654507e+00,\n",
       "        -1.16335101e+00, -1.16027595e+00, -1.14815528e+00, -1.14542904e+00,\n",
       "        -1.14263355e+00, -1.14148773e+00, -1.13708882e+00, -1.13120687e+00,\n",
       "        -1.12908346e+00, -1.11893030e+00, -1.11585210e+00, -1.11581473e+00,\n",
       "        -1.11423310e+00, -1.10723648e+00, -1.10612437e+00, -1.09840614e+00,\n",
       "        -1.09751963e+00, -1.09368440e+00, -1.08487737e+00, -1.08451971e+00,\n",
       "        -1.08296574e+00, -1.08027837e+00, -1.07966106e+00, -1.07958489e+00,\n",
       "        -1.07750987e+00, -1.07642661e+00, -1.07376868e+00, -1.07077752e+00,\n",
       "        -1.05442987e+00, -1.05199533e+00, -1.04959342e+00, -1.04564230e+00,\n",
       "        -1.04073232e+00, -1.03158689e+00, -1.03097737e+00, -1.02655409e+00,\n",
       "        -1.01742641e+00, -1.00883162e+00, -1.00280087e+00, -9.99175378e-01,\n",
       "        -9.98334045e-01, -9.94216791e-01, -9.92662124e-01, -9.86047394e-01,\n",
       "        -9.81499947e-01, -9.75423126e-01, -9.72905887e-01, -9.71695872e-01,\n",
       "        -9.68075325e-01, -9.62292593e-01, -9.60733041e-01, -9.58790144e-01,\n",
       "        -9.56968811e-01, -9.53221469e-01, -9.45823606e-01, -9.44050457e-01,\n",
       "        -9.38259964e-01, -9.37856672e-01, -9.36007572e-01, -9.31599813e-01,\n",
       "        -9.31343601e-01, -9.31174691e-01, -9.22353268e-01, -9.22333861e-01,\n",
       "        -9.19915715e-01, -9.19303356e-01, -9.19199675e-01, -9.16922135e-01,\n",
       "        -9.12619574e-01, -9.08341719e-01, -9.05756986e-01, -8.97425344e-01,\n",
       "        -8.97182133e-01, -8.95034626e-01, -8.78011512e-01, -8.77750773e-01,\n",
       "        -8.75506175e-01, -8.70054896e-01, -8.64813768e-01, -8.64650947e-01,\n",
       "        -8.57930154e-01, -8.45469966e-01, -8.42914626e-01, -8.38335382e-01,\n",
       "        -8.34228800e-01, -8.29081466e-01, -8.27228814e-01, -8.27168866e-01,\n",
       "        -8.23936383e-01, -8.20902861e-01, -8.20011872e-01, -8.19080430e-01,\n",
       "        -8.08416076e-01, -7.83797931e-01, -7.77877371e-01, -7.77253763e-01,\n",
       "        -7.75644737e-01, -7.73341853e-01, -7.70816005e-01, -7.67462833e-01,\n",
       "        -7.64776370e-01, -7.63708121e-01, -7.62487867e-01, -7.55291803e-01,\n",
       "        -7.50521806e-01, -7.43818598e-01, -7.43460314e-01, -7.43254374e-01,\n",
       "        -7.41292699e-01, -7.26448159e-01, -7.22004898e-01, -7.21873623e-01,\n",
       "        -7.20775152e-01, -7.12511868e-01, -7.03350497e-01, -7.03266830e-01,\n",
       "        -6.99367955e-01, -6.94848282e-01, -6.90408401e-01, -6.85246731e-01,\n",
       "        -6.79719159e-01, -6.77283258e-01, -6.76383376e-01, -6.69853752e-01,\n",
       "        -6.68791481e-01, -6.68462077e-01, -6.64655676e-01, -6.56983726e-01,\n",
       "        -6.55764949e-01, -6.52469935e-01, -6.44828245e-01, -6.36530297e-01,\n",
       "        -6.32785143e-01, -6.31703899e-01, -6.24481290e-01, -6.23612206e-01,\n",
       "        -6.15241474e-01, -6.08616721e-01, -6.04878695e-01, -5.92982211e-01,\n",
       "        -5.91710498e-01, -5.85281509e-01, -5.84207840e-01, -5.82880633e-01,\n",
       "        -5.80595996e-01, -5.76336355e-01, -5.70551515e-01, -5.68099061e-01,\n",
       "        -5.63112566e-01, -5.59229474e-01, -5.59028407e-01, -5.49788606e-01,\n",
       "        -5.39206168e-01, -5.37032852e-01, -5.35608199e-01, -5.32210042e-01,\n",
       "        -5.27438668e-01, -5.16476753e-01, -5.13328619e-01, -5.11578738e-01,\n",
       "        -5.07742288e-01, -5.07601865e-01, -5.06696817e-01, -5.05142600e-01,\n",
       "        -5.04743342e-01, -5.03912239e-01, -5.03717868e-01, -5.03300668e-01,\n",
       "        -5.03078692e-01, -5.02830593e-01, -5.02013083e-01, -5.01928468e-01,\n",
       "        -4.99483004e-01, -4.98909070e-01, -4.98632160e-01, -4.94608739e-01,\n",
       "        -4.94013893e-01, -4.92647591e-01, -4.84535214e-01, -4.81515800e-01,\n",
       "        -4.80775282e-01, -4.80081323e-01, -4.77531039e-01, -4.67309826e-01,\n",
       "        -4.66070494e-01, -4.49954747e-01, -4.42721398e-01, -4.37954315e-01,\n",
       "        -4.34233226e-01, -4.32060409e-01, -4.30650190e-01, -4.26559153e-01,\n",
       "        -4.26106993e-01, -4.17044717e-01, -4.15863473e-01, -4.11600001e-01,\n",
       "        -4.09798409e-01, -4.08244781e-01, -4.04544219e-01, -3.90197403e-01,\n",
       "        -3.89969750e-01, -3.88073213e-01, -3.86530813e-01, -3.80222670e-01,\n",
       "        -3.77141394e-01, -3.69231417e-01, -3.61760751e-01, -3.56316106e-01,\n",
       "        -3.37084161e-01, -3.27439666e-01, -3.26782328e-01, -3.26172877e-01,\n",
       "        -3.25860028e-01, -3.24896330e-01, -3.24553130e-01, -3.22469396e-01,\n",
       "        -3.16015699e-01, -3.14874717e-01, -3.14371159e-01, -3.05844124e-01,\n",
       "        -2.88398764e-01, -2.87903133e-01, -2.83908743e-01, -2.83349939e-01,\n",
       "        -2.79867892e-01, -2.75961790e-01, -2.74521448e-01, -2.74262630e-01,\n",
       "        -2.73579141e-01, -2.73351512e-01, -2.62381687e-01, -2.48297811e-01,\n",
       "        -2.42437332e-01, -2.42110649e-01, -2.40286416e-01, -2.37265010e-01,\n",
       "        -2.35635687e-01, -2.35337463e-01, -2.32157594e-01, -2.31954040e-01,\n",
       "        -2.21781948e-01, -2.04693773e-01, -2.02845701e-01, -2.02384774e-01,\n",
       "        -1.94138553e-01, -1.92475731e-01, -1.86861259e-01, -1.82234338e-01,\n",
       "        -1.67815945e-01, -1.38818116e-01, -1.34449816e-01, -1.34268877e-01,\n",
       "        -1.31899326e-01, -1.25784632e-01, -1.25681421e-01, -1.18393647e-01,\n",
       "        -1.13901872e-01, -1.12369892e-01, -1.03521912e-01, -1.01437971e-01,\n",
       "        -1.01044800e-01, -9.05532158e-02, -6.61942950e-02, -5.74573150e-02,\n",
       "        -5.28571964e-02, -4.88997433e-02, -4.87213342e-02, -4.56858457e-02,\n",
       "        -4.11666569e-02, -4.10922527e-02, -3.22428493e-02, -3.06583982e-02,\n",
       "        -2.75349287e-02, -2.59228048e-02, -2.41319205e-02, -1.05732049e-02,\n",
       "        -7.54071852e-03, -4.74373780e-03, -7.32794504e-04,  8.61029692e-03,\n",
       "         3.14530269e-02,  3.37980295e-02,  4.21717810e-02,  4.24016924e-02,\n",
       "         5.00016994e-02,  5.35582814e-02,  5.57247458e-02,  5.82186246e-02,\n",
       "         6.05870622e-02,  6.19432985e-02,  7.23059812e-02,  8.51433306e-02,\n",
       "         9.23001893e-02,  9.40043947e-02,  1.01195162e-01,  1.03200550e-01,\n",
       "         1.03389883e-01,  1.11432047e-01,  1.21575994e-01,  1.21879196e-01,\n",
       "         1.26274194e-01,  1.27740740e-01,  1.44426991e-01,  1.45585301e-01,\n",
       "         1.50548942e-01,  1.52073713e-01,  1.53656035e-01,  1.53664666e-01,\n",
       "         1.59634176e-01,  1.60643981e-01,  1.74002491e-01,  1.78427577e-01,\n",
       "         1.81345499e-01,  1.82742605e-01,  1.84421581e-01,  2.02634219e-01,\n",
       "         2.05473257e-01,  2.06221772e-01,  2.09531934e-01,  2.16322332e-01,\n",
       "         2.19807269e-01,  2.20264399e-01,  2.21288772e-01,  2.39687048e-01,\n",
       "         2.41876319e-01,  2.49248153e-01,  2.52608145e-01,  2.57610761e-01,\n",
       "         2.68420847e-01,  2.72590843e-01,  2.73354246e-01,  2.73884144e-01,\n",
       "         2.74315886e-01,  2.77738074e-01,  2.87620595e-01,  2.96959056e-01,\n",
       "         3.05778427e-01,  3.13362149e-01,  3.15626938e-01,  3.28142927e-01,\n",
       "         3.32807115e-01,  3.40077911e-01,  3.41813885e-01,  3.55401286e-01,\n",
       "         3.56060841e-01,  3.60572280e-01,  3.63002295e-01,  3.64026732e-01,\n",
       "         3.68912117e-01,  3.75915599e-01,  3.82059164e-01,  3.83804791e-01,\n",
       "         3.85567475e-01,  3.92903775e-01,  3.95303907e-01,  3.99582141e-01,\n",
       "         4.09833387e-01,  4.14547939e-01,  4.23680637e-01,  4.25896782e-01,\n",
       "         4.27556945e-01,  4.29566828e-01,  4.29931684e-01,  4.30601992e-01,\n",
       "         4.34449978e-01,  4.36811944e-01,  4.49426671e-01,  4.51711498e-01,\n",
       "         4.52072566e-01,  4.55958434e-01,  4.58671727e-01,  4.63369444e-01,\n",
       "         4.67442620e-01,  4.79016966e-01,  4.83892364e-01,  4.87050024e-01,\n",
       "         4.87576291e-01,  4.90036599e-01,  4.97328637e-01,  4.99787371e-01,\n",
       "         5.03099909e-01,  5.07217234e-01,  5.08757894e-01,  5.09891774e-01,\n",
       "         5.09923163e-01,  5.14081246e-01,  5.18082393e-01,  5.30498704e-01,\n",
       "         5.32627435e-01,  5.37231138e-01,  5.49009773e-01,  5.67976097e-01,\n",
       "         5.69111414e-01,  5.69948346e-01,  5.70028350e-01,  5.70407152e-01,\n",
       "         5.79486786e-01,  5.80275450e-01,  5.82889074e-01,  5.84649431e-01,\n",
       "         5.85075605e-01,  5.89900552e-01,  5.91546564e-01,  5.93392310e-01,\n",
       "         5.94907749e-01,  5.99419869e-01,  6.04045139e-01,  6.06202981e-01,\n",
       "         6.06645567e-01,  6.12875516e-01,  6.13320342e-01,  6.23155062e-01,\n",
       "         6.25651149e-01,  6.29168866e-01,  6.31096034e-01,  6.35213449e-01,\n",
       "         6.37732047e-01,  6.39611511e-01,  6.40514187e-01,  6.44991139e-01,\n",
       "         6.45667617e-01,  6.49125593e-01,  6.55243613e-01,  6.55680512e-01,\n",
       "         6.57991481e-01,  6.58073155e-01,  6.59048810e-01,  6.60012933e-01,\n",
       "         6.62032858e-01,  6.64330826e-01,  6.64398182e-01,  6.65050630e-01,\n",
       "         6.69202587e-01,  6.69416676e-01,  6.76077431e-01,  6.78584275e-01,\n",
       "         6.80141639e-01,  6.80282118e-01,  6.82633957e-01,  6.87648844e-01,\n",
       "         6.94360754e-01,  6.98280630e-01,  7.00182863e-01,  7.03329113e-01,\n",
       "         7.08274461e-01,  7.08327202e-01,  7.08458296e-01,  7.08546908e-01,\n",
       "         7.17665557e-01,  7.18168652e-01,  7.21272908e-01,  7.21275304e-01,\n",
       "         7.21642114e-01,  7.23757389e-01,  7.25490732e-01,  7.31795004e-01,\n",
       "         7.32489052e-01,  7.32794807e-01,  7.33968639e-01,  7.46869624e-01,\n",
       "         7.49381224e-01,  7.50873034e-01,  7.52352521e-01,  7.54590508e-01,\n",
       "         7.55748012e-01,  7.62932297e-01,  7.63071973e-01,  7.65044121e-01,\n",
       "         7.66168373e-01,  7.69413961e-01,  7.75138529e-01,  7.77928921e-01,\n",
       "         7.79021224e-01,  7.79114713e-01,  7.79248076e-01,  7.81012073e-01,\n",
       "         7.82861478e-01,  7.84507827e-01,  7.91893073e-01,  7.97437229e-01,\n",
       "         8.00169457e-01,  8.00918218e-01,  8.01825921e-01,  8.02037287e-01,\n",
       "         8.08853447e-01,  8.14501441e-01,  8.24549898e-01,  8.25147435e-01,\n",
       "         8.28085211e-01,  8.28571240e-01,  8.34897353e-01,  8.35749252e-01,\n",
       "         8.48430803e-01,  8.49768464e-01,  8.53890952e-01,  8.54176348e-01,\n",
       "         8.57330329e-01,  8.60860371e-01,  8.62181940e-01,  8.63807360e-01,\n",
       "         8.67988047e-01,  8.68588260e-01,  8.69621219e-01,  8.81671431e-01,\n",
       "         8.84080688e-01,  8.87489762e-01,  8.89367395e-01,  8.91746205e-01,\n",
       "         8.96446391e-01,  9.01721055e-01,  9.05440545e-01,  9.05707182e-01,\n",
       "         9.08965519e-01,  9.10836792e-01,  9.12747529e-01,  9.12921749e-01,\n",
       "         9.14069008e-01,  9.14969295e-01,  9.19142126e-01,  9.19355946e-01,\n",
       "         9.20199915e-01,  9.21620960e-01,  9.22629018e-01,  9.23325850e-01,\n",
       "         9.29791664e-01,  9.29885396e-01,  9.32066414e-01,  9.32555015e-01,\n",
       "         9.34416038e-01,  9.35428471e-01,  9.41725008e-01,  9.42838624e-01,\n",
       "         9.47241498e-01,  9.49273332e-01,  9.50896615e-01,  9.53328683e-01,\n",
       "         9.54406825e-01,  9.58322076e-01,  9.63828312e-01,  9.68004563e-01,\n",
       "         9.74977734e-01,  9.78475357e-01,  9.79177188e-01,  9.80237001e-01,\n",
       "         9.82808734e-01,  9.87984094e-01,  9.88727353e-01,  9.88936731e-01,\n",
       "         9.97223493e-01,  9.97615516e-01,  1.00054384e+00,  1.00267842e+00,\n",
       "         1.00457487e+00,  1.00873243e+00,  1.01527565e+00,  1.01597353e+00,\n",
       "         1.01853111e+00,  1.01955335e+00,  1.02655127e+00,  1.02659892e+00,\n",
       "         1.02678191e+00,  1.02896118e+00,  1.02976617e+00,  1.03071546e+00,\n",
       "         1.03938434e+00,  1.04226027e+00,  1.04517726e+00,  1.04779552e+00,\n",
       "         1.04857537e+00,  1.05002219e+00,  1.05382594e+00,  1.05494957e+00,\n",
       "         1.05798034e+00,  1.06598948e+00,  1.06950254e+00,  1.06999475e+00,\n",
       "         1.07166168e+00,  1.07225619e+00,  1.07247998e+00,  1.07265578e+00,\n",
       "         1.07335326e+00,  1.07616172e+00,  1.07661656e+00,  1.08067855e+00,\n",
       "         1.08115568e+00,  1.08328843e+00,  1.08438627e+00,  1.08578210e+00,\n",
       "         1.09861524e+00,  1.10557495e+00,  1.11282096e+00,  1.11489349e+00,\n",
       "         1.11738041e+00,  1.11776546e+00,  1.11957798e+00,  1.12223449e+00,\n",
       "         1.12362880e+00,  1.13165015e+00,  1.13718317e+00,  1.13791501e+00,\n",
       "         1.14772688e+00,  1.14934907e+00,  1.15872196e+00,  1.16387669e+00,\n",
       "         1.16414727e+00,  1.16485021e+00,  1.16562904e+00,  1.17124870e+00,\n",
       "         1.17179758e+00,  1.17491923e+00,  1.17614927e+00,  1.18075830e+00,\n",
       "         1.18154892e+00,  1.18221638e+00,  1.18263771e+00,  1.18321475e+00,\n",
       "         1.18575869e+00,  1.18973168e+00,  1.19034953e+00,  1.19375632e+00,\n",
       "         1.20095322e+00,  1.20363989e+00,  1.20795601e+00,  1.21015967e+00,\n",
       "         1.21017556e+00,  1.21468928e+00,  1.21920453e+00,  1.21963911e+00,\n",
       "         1.22214292e+00,  1.22532551e+00,  1.23035293e+00,  1.23188783e+00,\n",
       "         1.23295499e+00,  1.23322216e+00,  1.25185410e+00,  1.25414091e+00,\n",
       "         1.25504689e+00,  1.25882745e+00,  1.26034583e+00,  1.26695980e+00,\n",
       "         1.26919678e+00,  1.27000735e+00,  1.27502686e+00,  1.27935862e+00,\n",
       "         1.28081296e+00,  1.28443579e+00,  1.28464101e+00,  1.28523347e+00,\n",
       "         1.28648884e+00,  1.28950915e+00,  1.29528077e+00,  1.30020886e+00,\n",
       "         1.30072379e+00,  1.30111955e+00,  1.30543207e+00,  1.30739419e+00,\n",
       "         1.30994619e+00,  1.31341834e+00,  1.31384451e+00,  1.31575852e+00,\n",
       "         1.32011862e+00,  1.32036742e+00,  1.32400585e+00,  1.33059402e+00,\n",
       "         1.33852409e+00,  1.34050877e+00,  1.34494425e+00,  1.34533717e+00,\n",
       "         1.34916727e+00,  1.35997604e+00,  1.36379364e+00,  1.36685538e+00,\n",
       "         1.37533191e+00,  1.37606065e+00,  1.37676106e+00,  1.38103331e+00,\n",
       "         1.38280272e+00,  1.38334239e+00,  1.38828413e+00,  1.39211965e+00,\n",
       "         1.39284214e+00,  1.39790198e+00,  1.40112745e+00,  1.40358354e+00,\n",
       "         1.40769301e+00,  1.41905376e+00,  1.42125408e+00,  1.42147143e+00,\n",
       "         1.42283450e+00,  1.42357618e+00,  1.42490773e+00,  1.43373871e+00,\n",
       "         1.43713670e+00,  1.44145223e+00,  1.44330462e+00,  1.44536539e+00,\n",
       "         1.45363849e+00,  1.45630704e+00,  1.45774242e+00,  1.45954607e+00,\n",
       "         1.46041103e+00,  1.46099278e+00,  1.46122739e+00,  1.46232767e+00,\n",
       "         1.46333403e+00,  1.46381484e+00,  1.46494534e+00,  1.46553570e+00,\n",
       "         1.46655099e+00,  1.47129768e+00,  1.47601262e+00,  1.48186921e+00,\n",
       "         1.48235734e+00,  1.48586019e+00,  1.49157760e+00,  1.49193232e+00,\n",
       "         1.49276487e+00,  1.50149833e+00,  1.50652888e+00,  1.50822023e+00,\n",
       "         1.51091702e+00,  1.51902403e+00,  1.53114186e+00,  1.53210819e+00,\n",
       "         1.54102588e+00,  1.54388470e+00,  1.54672765e+00,  1.54707459e+00,\n",
       "         1.54953351e+00,  1.56558546e+00,  1.56684538e+00,  1.57472138e+00,\n",
       "         1.58894745e+00,  1.58966260e+00,  1.59186123e+00,  1.59602163e+00,\n",
       "         1.59620294e+00,  1.60081172e+00,  1.60306236e+00,  1.60784737e+00,\n",
       "         1.63140024e+00,  1.63348572e+00,  1.63565305e+00,  1.65417920e+00,\n",
       "         1.66862247e+00,  1.66885801e+00,  1.66963486e+00,  1.69078109e+00,\n",
       "         1.69368965e+00,  1.70401937e+00,  1.70748306e+00,  1.70959618e+00,\n",
       "         1.71857114e+00,  1.72871176e+00,  1.73413006e+00,  1.74071620e+00,\n",
       "         1.74232859e+00,  1.74403896e+00,  1.74454732e+00,  1.76321063e+00,\n",
       "         1.76899719e+00,  1.77609841e+00,  1.77952709e+00,  1.77987830e+00,\n",
       "         1.78235898e+00,  1.79793464e+00,  1.80168027e+00,  1.80845964e+00,\n",
       "         1.81040970e+00,  1.81422838e+00,  1.82536779e+00,  1.83049582e+00,\n",
       "         1.84871868e+00,  1.84911285e+00,  1.86297648e+00,  1.86607726e+00,\n",
       "         1.87835073e+00,  1.88371181e+00,  1.97702527e+00,  1.98413751e+00,\n",
       "         1.98663095e+00,  1.98856299e+00,  2.04828116e+00,  2.05150587e+00,\n",
       "         2.06324979e+00,  2.06905563e+00,  2.07026727e+00,  2.07707353e+00,\n",
       "         2.09388188e+00,  2.11393535e+00,  2.12603809e+00,  2.16355372e+00,\n",
       "         2.19695176e+00,  2.21907632e+00,  2.22007523e+00,  2.32046351e+00,\n",
       "         2.39784431e+00,  2.40895364e+00,  2.51795712e+00,  3.01592825e+00]),\n",
       " array([-3.90700596, -3.60758023, -3.25168574, -3.20947545, -3.12159313,\n",
       "        -3.00455479, -2.88163662, -2.86196636, -2.75110331, -2.74539724,\n",
       "        -2.73158243, -2.71647041, -2.66947358, -2.55201393, -2.53870345,\n",
       "        -2.51567579, -2.48592226, -2.48354979, -2.45168774, -2.44788653,\n",
       "        -2.37483112, -2.30719783, -2.30529833, -2.27986288, -2.26626993,\n",
       "        -2.21072931, -2.18377279, -2.18285304, -2.13162805, -2.10195111,\n",
       "        -2.09011102, -2.08535056, -2.05734762, -2.05371678, -2.03779017,\n",
       "        -2.02688663, -2.02615131, -2.00590836, -2.00309444, -1.96709806,\n",
       "        -1.96579723, -1.96198363, -1.95976006, -1.94822198, -1.93600846,\n",
       "        -1.92649883, -1.91888064, -1.91317009, -1.91277483, -1.89301995,\n",
       "        -1.89259787, -1.87840507, -1.87547791, -1.86086727, -1.84140168,\n",
       "        -1.83425323, -1.80751109, -1.79054398, -1.76235462, -1.74846445,\n",
       "        -1.7447957 , -1.73682754, -1.73421877, -1.70823523, -1.70195819,\n",
       "        -1.6889815 , -1.68292837, -1.68250486, -1.67592287, -1.67239249,\n",
       "        -1.66848054, -1.66037636, -1.64077881, -1.63159577, -1.61322154,\n",
       "        -1.60781958, -1.60368785, -1.58356708, -1.56840583, -1.56584749,\n",
       "        -1.56425387, -1.55559309, -1.55504707, -1.5495172 , -1.54695305,\n",
       "        -1.54538964, -1.52586764, -1.51797519, -1.51647139, -1.50628622,\n",
       "        -1.50627463, -1.50432553, -1.49968996, -1.48127706, -1.48057617,\n",
       "        -1.47454388, -1.4723485 , -1.46844607, -1.46355824, -1.46294658,\n",
       "        -1.46243126, -1.45458438, -1.45382733, -1.45339875, -1.44841202,\n",
       "        -1.4416969 , -1.43446428, -1.43350402, -1.43342526, -1.43303171,\n",
       "        -1.43067911, -1.42638624, -1.42207921, -1.42121711, -1.41573775,\n",
       "        -1.40848811, -1.40658544, -1.39946673, -1.39766618, -1.39557891,\n",
       "        -1.39539811, -1.39373762, -1.39221092, -1.39078351, -1.38372689,\n",
       "        -1.378273  , -1.37703207, -1.37211491, -1.37203977, -1.37021676,\n",
       "        -1.35925304, -1.35754112, -1.353998  , -1.35271591, -1.35023314,\n",
       "        -1.34992057, -1.34636037, -1.34467369, -1.34406049, -1.34229644,\n",
       "        -1.3352743 , -1.33365171, -1.33343047, -1.33036401, -1.3302039 ,\n",
       "        -1.3288874 , -1.32577177, -1.32460557, -1.3222869 , -1.32206554,\n",
       "        -1.31026484, -1.30838936, -1.30735659, -1.30422407, -1.30201341,\n",
       "        -1.29222262, -1.29180503, -1.28808035, -1.28758192, -1.28682041,\n",
       "        -1.28512413, -1.28507371, -1.27765632, -1.27692499, -1.27562649,\n",
       "        -1.27561535, -1.27326938, -1.27055875, -1.26953239, -1.26391567,\n",
       "        -1.26390273, -1.25944604, -1.25912127, -1.25575825, -1.25474549,\n",
       "        -1.25358417, -1.25159961, -1.2504387 , -1.2498792 , -1.24859888,\n",
       "        -1.24800235, -1.24756483, -1.24354528, -1.23789499, -1.23372053,\n",
       "        -1.23259239, -1.22903799, -1.22787039, -1.22733574, -1.2227818 ,\n",
       "        -1.22171133, -1.22003392, -1.21994835, -1.21732389, -1.21531534,\n",
       "        -1.21510487, -1.20836451, -1.20757015, -1.2057939 , -1.20291998,\n",
       "        -1.20039761, -1.19575849, -1.19437746, -1.19196371, -1.1903127 ,\n",
       "        -1.18092369, -1.17660884, -1.17395586, -1.17391581, -1.16766818,\n",
       "        -1.16513127, -1.15762884, -1.15297156, -1.14917635, -1.14908192,\n",
       "        -1.14723072, -1.14623121, -1.14473129, -1.14428972, -1.14312732,\n",
       "        -1.13615804, -1.13349841, -1.13171976, -1.12768826, -1.12582434,\n",
       "        -1.12479426, -1.12300656, -1.12105026, -1.11890494, -1.11886592,\n",
       "        -1.11754352, -1.1167502 , -1.11569591, -1.11423355, -1.11421354,\n",
       "        -1.11341557, -1.10777084, -1.09452673, -1.08913312, -1.07871217,\n",
       "        -1.07712384, -1.07421235, -1.07313962, -1.07288617, -1.06543538,\n",
       "        -1.06056128, -1.05801672, -1.05693761, -1.04720445, -1.04656654,\n",
       "        -1.04619714, -1.03753836, -1.03610299, -1.03127118, -1.02906993,\n",
       "        -1.02891146, -1.02370399, -1.02013235, -1.019816  , -1.01968624,\n",
       "        -1.01514218, -1.01240727, -1.01139059, -1.0111266 , -1.00609996,\n",
       "        -1.00478452, -1.00086247, -1.00067907, -1.00029256, -0.99524147,\n",
       "        -0.99176451, -0.99017614, -0.99013673, -0.98144532, -0.97937602,\n",
       "        -0.97552994, -0.97480552, -0.96928641, -0.96877667, -0.9633748 ,\n",
       "        -0.96301796, -0.96169523, -0.95520833, -0.95027097, -0.94790302,\n",
       "        -0.94681275, -0.93733594, -0.93432126, -0.92052986, -0.92034163,\n",
       "        -0.91965022, -0.91889502, -0.91567313, -0.90974336, -0.90880827,\n",
       "        -0.90586819, -0.9005141 , -0.90018225, -0.88844937, -0.88586274,\n",
       "        -0.88498793, -0.8815286 , -0.88083889, -0.87852014, -0.87391872,\n",
       "        -0.87388117, -0.86619265, -0.86479304, -0.85426872, -0.85236356,\n",
       "        -0.85049962, -0.8458763 , -0.84267892, -0.83950372, -0.83069366,\n",
       "        -0.82279053, -0.82261881, -0.81640259, -0.8142797 , -0.81002779,\n",
       "        -0.80905259, -0.80673933, -0.80428742, -0.79449802, -0.79375757,\n",
       "        -0.79296517, -0.79029773, -0.78462159, -0.7811996 , -0.78102699,\n",
       "        -0.78047688, -0.7792417 , -0.77920174, -0.77827579, -0.77370418,\n",
       "        -0.7733943 , -0.77087505, -0.77033395, -0.76009805, -0.75567017,\n",
       "        -0.75328275, -0.75185371, -0.7471814 , -0.74573881, -0.73481935,\n",
       "        -0.7329321 , -0.72860282, -0.72330134, -0.72325175, -0.7227102 ,\n",
       "        -0.72230521, -0.71992509, -0.71781838, -0.71605688, -0.71076059,\n",
       "        -0.69275841, -0.69108494, -0.69037106, -0.68674282, -0.67837583,\n",
       "        -0.67654624, -0.66864764, -0.66420184, -0.65999642, -0.65985676,\n",
       "        -0.64540449, -0.63390898, -0.63097346, -0.62428047, -0.62066371,\n",
       "        -0.61448321, -0.61171098, -0.60234409, -0.59958898, -0.59869783,\n",
       "        -0.59510498, -0.59213006, -0.58844497, -0.58810467, -0.58669859,\n",
       "        -0.5830041 , -0.57864743, -0.57703874, -0.57260379, -0.56794249,\n",
       "        -0.56027438, -0.55944426, -0.55770133, -0.55449047, -0.55397408,\n",
       "        -0.55358985, -0.55231022, -0.5497817 , -0.54810409, -0.54543067,\n",
       "        -0.53799777, -0.53308625, -0.53277619, -0.53145479, -0.53059362,\n",
       "        -0.52523922, -0.52483956, -0.52310656, -0.52086719, -0.52017672,\n",
       "        -0.51891853, -0.48659595, -0.48514292, -0.48234681, -0.47335895,\n",
       "        -0.47251367, -0.46523626, -0.46107018, -0.43895319, -0.43206739,\n",
       "        -0.43135609, -0.42973229, -0.4269427 , -0.42691363, -0.41886754,\n",
       "        -0.40608484, -0.40577547, -0.38740954, -0.37698994, -0.37609672,\n",
       "        -0.37553939, -0.36957021, -0.36793337, -0.36072006, -0.35911643,\n",
       "        -0.35902609, -0.3486966 , -0.34819216, -0.34292932, -0.34047851,\n",
       "        -0.33622379, -0.33192526, -0.33111011, -0.33039788, -0.32509486,\n",
       "        -0.32454996, -0.31692426, -0.30952233, -0.30184978, -0.30126061,\n",
       "        -0.29300267, -0.28634648, -0.28483241, -0.27140891, -0.26784139,\n",
       "        -0.26434479, -0.26357939, -0.25812772, -0.25753046, -0.25747953,\n",
       "        -0.25707463, -0.24821805, -0.23612577, -0.22523326, -0.22402658,\n",
       "        -0.22147548, -0.20739985, -0.20287856, -0.19208524, -0.18944406,\n",
       "        -0.18688677, -0.17790232, -0.17644547, -0.17544228, -0.1750288 ,\n",
       "        -0.16427487, -0.15323041, -0.15282976, -0.14345612, -0.13955737,\n",
       "        -0.1318034 , -0.13108698, -0.12694584, -0.12148611, -0.12117216,\n",
       "        -0.10517083, -0.09413459, -0.08119538, -0.0736886 , -0.06165682,\n",
       "        -0.05757471, -0.05365737, -0.04447572, -0.03935336, -0.03790739,\n",
       "        -0.02397546, -0.02362571, -0.01314622,  0.01039324,  0.01114578,\n",
       "         0.01878564,  0.02076533,  0.0212412 ,  0.02497809,  0.03644363,\n",
       "         0.04032125,  0.05555331,  0.06088276,  0.07477651,  0.08763728,\n",
       "         0.08798291,  0.10065715,  0.10137313,  0.10173952,  0.10719845,\n",
       "         0.12165895,  0.13725891,  0.14803358,  0.15463618,  0.17081657,\n",
       "         0.18917317,  0.20072531,  0.21078749,  0.21190877,  0.22297916,\n",
       "         0.24915914,  0.29198178,  0.31063885,  0.32187032,  0.32920919,\n",
       "         0.33607103,  0.34901701,  0.35333518,  0.35751984,  0.36572533,\n",
       "         0.37578689,  0.37695377,  0.37823667,  0.37896919,  0.39045279,\n",
       "         0.3910941 ,  0.40090211,  0.40117794,  0.43610026,  0.43871064,\n",
       "         0.44506752,  0.44894815,  0.45975537,  0.46907101,  0.47740444,\n",
       "         0.48355025,  0.48743879,  0.49196376,  0.49801586,  0.5011873 ,\n",
       "         0.502334  ,  0.50262564,  0.50799266,  0.52215881,  0.5232184 ,\n",
       "         0.52471499,  0.54210631,  0.5485655 ,  0.55276894,  0.55518648,\n",
       "         0.56136164,  0.56331633,  0.56572329,  0.56597202,  0.56892011,\n",
       "         0.56910879,  0.57158667,  0.57585935,  0.57631605,  0.58840663,\n",
       "         0.59117647,  0.59429388,  0.59736119,  0.59829243,  0.60904713,\n",
       "         0.6095686 ,  0.62665078,  0.62787237,  0.64213585,  0.64292621,\n",
       "         0.64321691,  0.64331289,  0.6443022 ,  0.64625117,  0.64900803,\n",
       "         0.65307974,  0.65633453,  0.65909033,  0.66714634,  0.6675768 ,\n",
       "         0.67624858,  0.6769344 ,  0.68691563,  0.69354997,  0.6978611 ,\n",
       "         0.70054537,  0.70366685,  0.71549221,  0.71809508,  0.7182326 ,\n",
       "         0.71923817,  0.72135491,  0.7261237 ,  0.72619039,  0.73075582,\n",
       "         0.73101718,  0.7326297 ,  0.73578127,  0.73717807,  0.7531442 ,\n",
       "         0.76315257,  0.76343517,  0.76554527,  0.76641032,  0.76968068,\n",
       "         0.77006834,  0.7730526 ,  0.77895476,  0.78583715,  0.78584084,\n",
       "         0.78898943,  0.79048575,  0.79507018,  0.79676704,  0.79896467,\n",
       "         0.80060331,  0.8016842 ,  0.8021063 ,  0.80452683,  0.80721152,\n",
       "         0.80802013,  0.80911404,  0.81041225,  0.81561557,  0.8172388 ,\n",
       "         0.81921352,  0.82171514,  0.82296447,  0.82787605,  0.83247201,\n",
       "         0.834778  ,  0.83543271,  0.83609206,  0.83611915,  0.83768119,\n",
       "         0.84516028,  0.84601105,  0.84741532,  0.84948335,  0.85150563,\n",
       "         0.85157294,  0.8527582 ,  0.85639651,  0.85670793,  0.85788377,\n",
       "         0.85859696,  0.85932916,  0.86052398,  0.86241627,  0.86525024,\n",
       "         0.86642807,  0.86716478,  0.86897801,  0.87405855,  0.87501388,\n",
       "         0.87568652,  0.87603894,  0.87728236,  0.87870828,  0.88015435,\n",
       "         0.88162649,  0.88447476,  0.88501235,  0.88659577,  0.887613  ,\n",
       "         0.89069421,  0.89124742,  0.89329176,  0.8943571 ,  0.90222966,\n",
       "         0.9042738 ,  0.90457245,  0.90619766,  0.90736744,  0.90767083,\n",
       "         0.91862581,  0.920914  ,  0.92162922,  0.92267532,  0.9263926 ,\n",
       "         0.92788926,  0.92945823,  0.93013528,  0.93052118,  0.93084583,\n",
       "         0.93167577,  0.93347367,  0.93474493,  0.93631964,  0.93721644,\n",
       "         0.93726641,  0.94359053,  0.94386177,  0.94504894,  0.94506668,\n",
       "         0.94551579,  0.94735104,  0.94818273,  0.95067254,  0.95263573,\n",
       "         0.95699066,  0.9570345 ,  0.95777707,  0.9611093 ,  0.96115351,\n",
       "         0.96349815,  0.96739246,  0.96845465,  0.96867418,  0.97043315,\n",
       "         0.97072717,  0.97578378,  0.97692055,  0.97715263,  0.98336123,\n",
       "         0.98459227,  0.98975041,  0.98978004,  0.9904581 ,  0.99244114,\n",
       "         0.9934675 ,  0.99387639,  0.99459366,  0.99515391,  0.99645943,\n",
       "         0.99760859,  1.00106875,  1.00268729,  1.0047723 ,  1.00769627,\n",
       "         1.00837603,  1.00930218,  1.01292024,  1.01564655,  1.01704999,\n",
       "         1.02076278,  1.02090449,  1.02545758,  1.02698312,  1.02985318,\n",
       "         1.02995173,  1.03107596,  1.03587238,  1.03973912,  1.04117125,\n",
       "         1.04199419,  1.04413503,  1.04456909,  1.04724249,  1.04964481,\n",
       "         1.05060863,  1.05140726,  1.05326447,  1.05358269,  1.05466899,\n",
       "         1.05593278,  1.05646439,  1.05812293,  1.05900618,  1.06078973,\n",
       "         1.06226636,  1.06638003,  1.0666303 ,  1.06680543,  1.06699458,\n",
       "         1.07143945,  1.07441783,  1.07691471,  1.07979056,  1.08166337,\n",
       "         1.08251727,  1.0838664 ,  1.09101435,  1.096091  ,  1.09638336,\n",
       "         1.0968174 ,  1.09783766,  1.09816913,  1.09908123,  1.09926255,\n",
       "         1.10490147,  1.11030663,  1.11292287,  1.11507476,  1.11771555,\n",
       "         1.12031144,  1.1208784 ,  1.12486029,  1.12533606,  1.1259168 ,\n",
       "         1.12743733,  1.12948032,  1.1398534 ,  1.14577631,  1.14612198,\n",
       "         1.14635212,  1.14992734,  1.15019461,  1.15027681,  1.15716435,\n",
       "         1.15937798,  1.16016441,  1.16277499,  1.16657396,  1.1666993 ,\n",
       "         1.16957144,  1.17011471,  1.17235408,  1.17338008,  1.17396084,\n",
       "         1.17525619,  1.17790975,  1.17822847,  1.18184949,  1.18275045,\n",
       "         1.18366493,  1.1879782 ,  1.19847806,  1.19948231,  1.19982453,\n",
       "         1.20457852,  1.20605076,  1.20753046,  1.20756907,  1.20856589,\n",
       "         1.20992168,  1.21019026,  1.21137469,  1.21902928,  1.22017269,\n",
       "         1.22252287,  1.22983758,  1.23009145,  1.23230538,  1.23481262,\n",
       "         1.24137656,  1.24327269,  1.24420651,  1.24553079,  1.24826021,\n",
       "         1.24827581,  1.25204977,  1.25237923,  1.25337441,  1.25343331,\n",
       "         1.25464739,  1.25551644,  1.25757376,  1.25840404,  1.25842986,\n",
       "         1.2616626 ,  1.26462364,  1.2682564 ,  1.27107379,  1.27406755,\n",
       "         1.27714209,  1.28026737,  1.28189423,  1.29568126,  1.29988569,\n",
       "         1.30077421,  1.30890682,  1.31006874,  1.31457336,  1.31521617,\n",
       "         1.31811093,  1.32538006,  1.3374015 ,  1.34249621,  1.35018689,\n",
       "         1.35043376,  1.35908095,  1.36150059,  1.36395318,  1.36757455,\n",
       "         1.37166071,  1.37293752,  1.37642556,  1.38171192,  1.39952653,\n",
       "         1.40206066,  1.40266006,  1.4096633 ,  1.41003484,  1.42196109,\n",
       "         1.43950237,  1.44069092,  1.44347234,  1.44938151,  1.45414642,\n",
       "         1.45562481,  1.46240195,  1.46320053,  1.46525056,  1.46853771,\n",
       "         1.48745697,  1.49157402,  1.49479174,  1.50046025,  1.51977986,\n",
       "         1.52206577,  1.5230599 ,  1.52502259,  1.53831607,  1.55444616,\n",
       "         1.55518718,  1.55907915,  1.56027715,  1.56714321,  1.57681997,\n",
       "         1.60054893,  1.61885375,  1.61904738,  1.65725956,  1.68229584,\n",
       "         1.69875455,  1.70104469,  1.71102366,  1.73254001,  1.73664045,\n",
       "         1.74110668,  1.74495391,  1.74926309,  1.76069028,  1.76467147,\n",
       "         1.77201857,  1.77888107,  1.78997532,  1.79403707,  1.79434136,\n",
       "         1.79563921,  1.80929818,  1.81125631,  1.82331725,  1.8272613 ,\n",
       "         1.85203833,  1.88157994,  1.89651048,  1.90357262,  1.91253317,\n",
       "         1.9153288 ,  1.9215819 ,  1.94376856,  1.95274877,  1.95506554,\n",
       "         1.96191965,  1.97245267,  1.9842187 ,  1.98789116,  2.01067523,\n",
       "         2.0155997 ,  2.03764203,  2.04091607,  2.10577442,  2.12972732,\n",
       "         2.13176251,  2.14468485,  2.18179575,  2.20486268,  2.20736789,\n",
       "         2.22659068,  2.25129251,  2.25445762,  2.2672967 ,  2.27594497,\n",
       "         2.29321242,  2.2971938 ,  2.30483711,  2.3176818 ,  2.33002166,\n",
       "         2.356861  ,  2.43497883,  2.43950819,  2.44193209,  2.48454663,\n",
       "         2.54715692,  2.57722617,  2.61426379,  2.6320384 ,  2.80302844,\n",
       "         2.8291397 ,  2.87977715,  2.8845377 ,  3.01979315,  3.07258599,\n",
       "         3.15904922,  3.40226333,  3.45034275,  3.53887913,  3.75814923])]"
      ]
     },
     "execution_count": 91,
     "metadata": {},
     "output_type": "execute_result"
    }
   ],
   "source": [
    "enc.categories_"
   ]
  },
  {
   "cell_type": "code",
   "execution_count": 92,
   "metadata": {},
   "outputs": [],
   "source": [
    "X_clean_train = enc.transform(X_train).toarray()"
   ]
  },
  {
   "cell_type": "code",
   "execution_count": 93,
   "metadata": {},
   "outputs": [
    {
     "data": {
      "text/plain": [
       "array([[0., 0., 0., ..., 0., 0., 0.],\n",
       "       [0., 0., 0., ..., 0., 0., 0.],\n",
       "       [0., 0., 0., ..., 0., 0., 0.],\n",
       "       ...,\n",
       "       [0., 0., 0., ..., 0., 0., 0.],\n",
       "       [0., 0., 0., ..., 0., 0., 0.],\n",
       "       [0., 0., 0., ..., 0., 0., 0.]])"
      ]
     },
     "execution_count": 93,
     "metadata": {},
     "output_type": "execute_result"
    }
   ],
   "source": [
    "X_clean_train"
   ]
  },
  {
   "cell_type": "code",
   "execution_count": 94,
   "metadata": {},
   "outputs": [
    {
     "data": {
      "text/plain": [
       "(300, 2000)"
      ]
     },
     "execution_count": 94,
     "metadata": {},
     "output_type": "execute_result"
    }
   ],
   "source": [
    "X_clean_train.shape"
   ]
  },
  {
   "cell_type": "code",
   "execution_count": 95,
   "metadata": {},
   "outputs": [],
   "source": [
    "clf = LogReg(gd_type='full')"
   ]
  },
  {
   "cell_type": "code",
   "execution_count": 96,
   "metadata": {},
   "outputs": [
    {
     "name": "stdout",
     "output_type": "stream",
     "text": [
      "The slowest run took 34.97 times longer than the fastest. This could mean that an intermediate result is being cached.\n",
      "268 ms ± 174 ms per loop (mean ± std. dev. of 7 runs, 1 loop each)\n"
     ]
    }
   ],
   "source": [
    "%%timeit\n",
    "clf.fit(X_clean_train, y_train)"
   ]
  },
  {
   "cell_type": "code",
   "execution_count": 97,
   "metadata": {},
   "outputs": [],
   "source": [
    "X_clean_test = enc.transform(X_test).toarray()"
   ]
  },
  {
   "cell_type": "code",
   "execution_count": 98,
   "metadata": {},
   "outputs": [],
   "source": [
    "y_pred = [0 if i[0] > i[1] else 1 for i in clf.predict_proba(X_clean_test)]"
   ]
  },
  {
   "cell_type": "code",
   "execution_count": 99,
   "metadata": {},
   "outputs": [
    {
     "name": "stdout",
     "output_type": "stream",
     "text": [
      "R2:\t -1.017291066282421\n",
      "RMSE:\t 0.5042857142857143\n",
      "MAE:\t 0.5042857142857143\n"
     ]
    }
   ],
   "source": [
    "print(\"R2:\\t\", r2_score(y_test, y_pred))\n",
    "print(\"RMSE:\\t\", mean_squared_error(y_test, y_pred))\n",
    "print(\"MAE:\\t\", mean_absolute_error(y_test, y_pred))"
   ]
  },
  {
   "cell_type": "markdown",
   "metadata": {},
   "source": [
    "Как можно было заменить, one-hot-кодирование может сильно увеличивать количество признаков в датасете, что сказывается на памяти, особенно, если некоторый признак имеет большое количество значений. Эту проблему решает другой способ кодирование категориальных признаков — счётчики. Основная идея в том, что нам важны не сами категории, а значения целевой переменной, которые имеют объекты этой категории. Каждый категориальный признак мы заменим средним значением целевой переменной по всем объектам этой же категории:\n",
    "$$\n",
    "g_j(x, X) = \\frac{\\sum_{i=1}^{l} [f_j(x) = f_j(x_i)][y_i = +1]}{\\sum_{i=1}^{l} [f_j(x) = f_j(x_i)]}\n",
    "$$\n",
    "\n",
    "__Задание 2.__ Закодируйте категориальные переменные с помощью счётчиков (ровно так, как описано выше без каких-либо хитростей). Обучите логистическую регрессию и посмотрите на качество модели на тестовом множестве. Сравните время обучения с предыдущим экспериментов. Заметили ли вы что-то интересное?"
   ]
  },
  {
   "cell_type": "code",
   "execution_count": 100,
   "metadata": {},
   "outputs": [],
   "source": [
    "var_dict = {}\n",
    "def encode(x, X, y):\n",
    "    if x in var_dict:\n",
    "        return\n",
    "    counter1 = 0\n",
    "    counter2 = 0\n",
    "    for i in range(X.shape[1]):\n",
    "        for j in range(X[:, i].shape[0]):\n",
    "            if X[:, i][j] == x:\n",
    "                counter1 += 1\n",
    "                if y[j] == 1:\n",
    "                    counter2 += 1\n",
    "    var_dict[x] = counter2 / counter1"
   ]
  },
  {
   "cell_type": "code",
   "execution_count": 101,
   "metadata": {},
   "outputs": [],
   "source": [
    "for i in X:\n",
    "    for j in i:\n",
    "        encode(j, X, y)"
   ]
  },
  {
   "cell_type": "code",
   "execution_count": 102,
   "metadata": {},
   "outputs": [
    {
     "name": "stdout",
     "output_type": "stream",
     "text": [
      "{-0.6904084008028661: 0.0, -0.6783758291271671: 0.0, 1.0152756529773508: 1.0, -1.019816004818274: 1.0, -1.0088316159001258: 0.0, -1.3352742998602243: 0.0, -0.664655676237158: 0.0, 0.9061976636008082: 0.0, 0.4838923636455109: 1.0, 1.5250225900830374: 1.0, 1.2146892819030333: 1.0, -2.55201393094974: 1.0, -0.18686125925285335: 0.0, 0.9294582279348891: 0.0, 0.79743722949007: 1.0, -1.0891331206926869: 1.0, -0.8780115122818889: 0.0, 0.8578837727696322: 0.0, 1.0477955191666768: 1.0, -1.5164713857377647: 1.0, -0.9754231255483535: 0.0, -0.5248395587315526: 0.0, -1.7576579178638925: 0.0, 1.1818494876847208: 0.0, -0.41704471695147327: 0.0, 0.875013876659636: 0.0, 1.3453371720937946: 1.0, 1.4915740235656962: 1.0, 0.7083272018151872: 0.0, 0.5232183990665114: 0.0, 1.1937563166396743: 1.0, 0.2107874876955449: 1.0, 0.7845078272963028: 1.0, -0.4725136687853726: 1.0, -0.3802226701750191: 1.0, 1.4020606627212053: 1.0, 1.4604110254562486: 1.0, -0.7556701748484544: 1.0, 1.2318878320189126: 1.0, -0.530593623700157: 1.0, -1.8358843774330613: 0.0, 1.1627749949114596: 0.0, 1.0026784227049979: 1.0, 0.86642807327659: 1.0, 0.9057071819154732: 1.0, -0.4320673905257775: 1.0, 1.0289611825396963: 1.0, 1.6190473828709218: 1.0, 0.9054405451165004: 0.0, 0.7154922087145135: 0.0, 1.0393843425327727: 1.0, -0.3607200621664989: 1.0, 1.744038962040642: 1.0, -2.4478865284978113: 1.0, -1.8894640761292125: 0.0, -1.2029199789667895: 0.0, 0.4258967824858183: 1.0, 0.8740585506668996: 1.0, 0.6643981821703393: 0.0, 0.815615565769773: 0.0, -0.9223338612053646: 0.0, 1.001068746648694: 0.0, 2.196951764588603: 0.0, 0.8045268319424498: 0.0, 1.801680273251403: 1.0, 0.8192135191261957: 1.0, -0.16781594547258227: 1.0, 0.8932917604295574: 1.0, 1.0726557806793309: 1.0, -2.131628047893167: 1.0, 1.0722561876709102: 1.0, 2.3568609999481076: 1.0, -1.1937402684662461: 0.0, -0.08119537664911525: 0.0, 2.0632497914299597: 1.0, 0.7967670400599602: 1.0, -3.5640809701176837: 0.0, 1.1259168006129245: 0.0, 0.7918930730945525: 1.0, 0.10719844872366724: 1.0, -0.4994830040985503: 0.0, -1.4335040213626762: 0.0, 0.834897353206668: 1.0, 1.1398534016894697: 1.0, 1.2518540989271711: 1.0, -1.1766088388131517: 1.0, 1.1815489242553199: 1.0, 1.0769147123591276: 1.0, 1.8304958215285039: 1.0, 2.4349788274935555: 1.0, 0.9129217486373415: 1.0, 1.4395023662864959: 1.0, -1.4188257911821853: 0.0, -1.6684805362420998: 0.0, -0.19413855348810205: 0.0, -0.8426789184872553: 0.0, -0.4807752815468863: 0.0, 0.9473510380008658: 0.0, -0.5274386682866152: 0.0, 0.9611092992775412: 0.0, -1.7573421060807592: 0.0, 0.9481827287764634: 0.0, 0.33280711474713554: 1.0, 0.5973611869922895: 1.0, -2.30603763840702: 0.0, 1.1779097543295762: 0.0, -0.06619429504941232: 1.0, 1.9842187040935642: 1.0, 2.408953638271614: 0.0, 0.4011779356093056: 0.0, 1.081155677621444: 1.0, 0.9845922704592168: 1.0, -0.6236122062645333: 0.0, -1.4745438768436028: 0.0, -2.0635348670895075: 0.0, -0.6339089760384715: 0.0, 0.43444997753589154: 1.0, 1.952748770786204: 1.0, -0.04889974334262481: 0.0, 0.8080201345688424: 0.0, 0.2202643993236002: 0.0, 0.5527689433177306: 0.0, 0.17842757664820463: 1.0, -1.0060999630249439: 1.0, 1.4536384927783441: 1.0, 0.9577770673551591: 1.0, -1.8322866395043143: 0.0, -1.3907835110945455: 0.0, -1.766106475248578: 0.0, 1.3253800559809763: 0.0, -0.5051425995827883: 1.0, 2.577226172774865: 1.0, 0.6643308256701992: 1.0, 0.4009021061659892: 1.0, 1.7341300604133083: 1.0, 1.33740150460291: 1.0, -0.2733515117000447: 0.0, 1.0358723774463188: 0.0, 1.9885629908938012: 1.0, -3.9070059579059784: 1.0, 1.1177654572293931: 1.0, -2.669473582491807: 1.0, 1.8253677915141981: 1.0, -2.4516877386099063: 1.0, 0.9972234926088326: 1.0, -0.6927584056398723: 1.0, 0.2738841443675095: 1.0, 0.7989646668261607: 1.0, 1.2101755559288354: 1.0, 1.4219610864604149: 1.0, -0.9169221347231539: 0.0, -1.546953054931949: 0.0, 0.9325550149055957: 1.0, 2.2759449747790264: 1.0, -1.9242947131943575: 0.0, 1.0472424888009024: 0.0, 0.721642114460882: 1.0, 0.6095685987027217: 1.0, 0.7523525212311399: 0.0, -1.2594460429221137: 0.0, 1.0766165582512135: 1.0, -1.8342532292470808: 1.0, -3.0035981493571984: 0.0, 1.243272688527289: 0.0, -0.9057569859194363: 0.0, -0.6599964212356051: 0.0, -1.4385146308385859: 0.0, 1.0590061814944345: 0.0, -0.2046937726490048: 0.0, -1.2200339169133054: 0.0, -1.0174264062331286: 0.0, -0.6686476395286618: 0.0, -1.7511144094972848: 0.0, -1.0196862352245395: 0.0, 1.1641472680147718: 1.0, 1.795639214593875: 1.0, 0.47901696593933996: 1.0, 1.560277151725381: 1.0, -1.8519271806589992: 0.0, -0.46107017831097974: 0.0, 1.4655357048949242: 1.0, -1.6036878451870933: 1.0, 2.1260380946803634: 1.0, 1.9215818982362243: 1.0, 0.03145302687698903: 0.0, 0.5689201079414801: 0.0, -0.4379543152889802: 1.0, 2.884537701907907: 1.0, -1.3740225026475406: 0.0, -1.1188659248374746: 0.0, -0.9926621243588176: 0.0, -0.9633747982040707: 0.0, -1.2690319960171246: 0.0, -0.6144832104604612: 0.0, -1.3894301109042182: 0.0, 0.9045724530898279: 0.0, -0.8200118721878258: 0.0, 1.2998856892612372: 0.0, 0.645667617138334: 1.0, -1.2217113274191767: 1.0, -0.945823605936641: 0.0, 0.8494833539618742: 0.0, 1.3305940166128343: 1.0, -0.25747953100065213: 1.0, 0.5850756053861389: 1.0, -1.1576288357955449: 1.0, -1.1809940180554825: 0.0, -1.113415573703971: 0.0, -0.3143711594753327: 1.0, 0.943861768918307: 1.0, 0.9784753571409684: 1.0, -1.1167502000897371: 1.0, 0.869621219364178: 1.0, -0.17644547149820866: 1.0, 1.4228344966944382: 1.0, 3.0725859859938365: 1.0, -0.7637081205863975: 0.0, -1.190312697574518: 0.0, 0.7791147134764316: 1.0, -0.01314622123815612: 1.0, -0.337084161405209: 0.0, 0.8756865184072556: 0.0, 1.3138445116458735: 1.0, -1.7082352276591566: 1.0, 0.3820591639671991: 1.0, 0.2491591352147704: 1.0, 2.070267269434926: 1.0, -2.731582433941716: 1.0, -1.5090389418126127: 0.0, 1.0825172718193818: 0.0, -1.0775098689861589: 0.0, -0.549781695848753: 0.0, -2.50300668877835: 0.0, 1.2956812629525565: 0.0, 0.7545905076708763: 1.0, 0.02076533309706141: 1.0, 0.8001694568130466: 1.0, -0.5679424942075029: 1.0, 0.5140812461962687: 1.0, 0.9771526263529364: 1.0, 0.887489762069472: 1.0, 2.3300216608326445: 1.0, 0.20622177199945813: 0.0, -0.9748055242332423: 0.0, 1.506528878546903: 1.0, -1.7484644540506489: 1.0, -1.1947578272577588: 0.0, 1.4685377086781046: 0.0, 1.0307154584927098: 1.0, -1.8075110879668437: 1.0, -1.3305965238679511: 0.0, -1.0047845186305646: 0.0, -0.6365302967875366: 1.0, 3.4022633302097387: 1.0, -1.3598688482208596: 0.0, -0.710760591590958: 0.0, -2.311497323119073: 0.0, 1.402660055843676: 0.0, 1.5495335053511279: 1.0, -1.4812770588433528: 1.0, -0.8342287997562561: 0.0, -0.7532827457588648: 0.0, -1.9988183219104045: 0.0, -0.5481040859937694: 0.0, -0.5076018646623928: 1.0, 1.208565893812961: 1.0, 0.7792480759253704: 0.0, 0.48355025360828385: 0.0, 0.9802370010885714: 1.0, -1.0945267295911467: 1.0, -1.1189302962807521: 0.0, -0.4823468060046261: 0.0, 1.782358980670577: 1.0, -2.7453972371636954: 1.0, 0.9344160381830144: 1.0, 1.8520383252635755: 1.0, -0.9313436008924423: 0.0, 0.9757837847288691: 0.0, 0.8009182177461236: 1.0, 2.8030284412709574: 1.0, 0.7630719727445843: 1.0, 0.22297915682561165: 1.0, -1.7077464673396006: 0.0, -1.2851241302198595: 0.0, -2.448988193538527: 0.0, 1.2682564016565983: 0.0, 1.2895091495238717: 1.0, 1.1463521152598433: 1.0, -0.4320604086836637: 0.0, 0.8016842016255566: 0.0, 1.8629764796739599: 1.0, -0.878520141398679: 1.0, 0.6802821175652556: 1.0, -0.3245499566675015: 1.0, -2.7654362976055475: 0.0, 1.4947917368642458: 0.0, 0.5372311379079863: 1.0, 1.5197798630117592: 1.0, -1.3367966660740704: 0.0, 1.173960840735763: 0.0, 0.8088534474038749: 1.0, 0.055553309704751364: 1.0, -0.3880732132394338: 0.0, -0.023975463227262628: 0.0, -1.7803668181670638: 0.0, -1.2485988762605424: 0.0, 0.6133203424420095: 1.0, -1.0465665360920746: 1.0, 0.35540128630000545: 1.0, 0.3360710276243807: 1.0, 0.2418763194450846: 0.0, 0.37896919386037775: 0.0, -0.8190804302140128: 0.0, 0.8801543535659895: 0.0, 1.6686224721962049: 1.0, -1.9360084613626372: 1.0, -2.6358894983137624: 0.0, -1.1210502577669952: 0.0, -0.5497886058820637: 0.0, -1.322286895322222: 0.0, -3.516948673042588: 0.0, 1.350433759822558: 0.0, -1.2089371193394614: 0.0, 1.254647394810164: 0.0, -1.2564210491683687: 0.0, 0.856707933534065: 0.0, -1.2943730901796142: 0.0, 1.0076962650073291: 0.0, 0.28762059471535795: 1.0, 0.5485655048727831: 1.0, 0.10320055037463916: 0.0, -1.2756264861949687: 0.0, -0.5033006679464469: 1.0, 1.2575737597115506: 1.0, 0.6291688663330616: 1.0, -0.3169242552417917: 1.0, -0.2735791405474518: 0.0, 0.8376811920169251: 0.0, 1.4633340293282715: 1.0, -0.4652362580877838: 1.0, -0.5805959956612377: 0.0, -0.33622378733060376: 0.0, -1.5979555837780763: 0.0, 1.0910143504956966: 0.0, 1.0857820973261656: 1.0, -1.3592530404903114: 1.0, -1.203633019427882: 0.0, -0.900182253049971: 0.0, 1.3833423932738187: 1.0, 2.304837113621107: 1.0, -1.1370888171298732: 0.0, 1.1879781981867925: 0.0, 0.6785842747599868: 1.0, -1.1472307217464945: 1.0, 0.45171149799280264: 1.0, 0.75314419870339: 1.0, -0.6048786945169383: 0.0, 0.8474153167788501: 0.0, 1.301119553132957: 1.0, -1.7368275442644816: 1.0, -1.6376098251945104: 0.0, 1.261662604572816: 0.0, -1.160275946369174: 0.0, 0.9278892554782663: 0.0, 1.2221429203911343: 1.0, -0.18688677169652534: 1.0, -0.23533746313331438: 0.0, 0.7634351680120344: 0.0, -0.24829781135399187: 0.0, 0.7789547583363663: 0.0, 0.6650506304147408: 1.0, 0.365725326886883: 1.0, 1.7407162037514348: 1.0, -3.2094754545456214: 1.0, -0.5705515146856368: 0.0, 0.9263926043117562: 0.0, 1.6008117231351364: 1.0, -1.8414016761771974: 1.0, 1.5190240257220817: 1.0, -2.483549789950453: 1.0, -0.8700548959570499: 0.0, -0.5544904733561544: 0.0, -0.369231417495013: 0.0, -1.3976661809362076: 0.0, -1.0028008746615655: 0.0, -0.8042874248992599: 0.0, 0.7779289206801485: 1.0, -0.722305214858143: 1.0, 0.5304987042303718: 1.0, -0.2714089101405909: 1.0, 1.3240058544535156: 1.0, -1.4723484972242902: 1.0, -1.6191228946763454: 0.0, -1.0731396234641368: 0.0, 0.7324890515799519: 1.0, -0.3481921595365901: 1.0, -0.37714139369539323: 0.0, -1.131719755222487: 0.0, 0.947241497699094: 1.0, -1.3955789142946018: 1.0, 1.182637707668127: 1.0, -2.861966358829803: 1.0, -0.38653081303158066: 0.0, 1.1571643502515334: 0.0, -1.179019948327679: 0.0, 0.859329155534134: 0.0, -2.278834667967436: 0.0, -1.2515996128687887: 0.0, -0.4775310389247369: 1.0, 0.3769537658648514: 1.0, -0.9814999467931944: 0.0, -1.46243126392443: 0.0, 0.5846494305543678: 1.0, 0.5942938811259224: 1.0, 0.9889367310959779: 1.0, -2.307197829956854: 1.0, 0.10119516174856247: 1.0, -0.17502880120676179: 1.0, 1.6356530480323803: 1.0, -0.5577013336244051: 1.0, -1.3578709579322599: 0.0, 1.2201726924892586: 0.0, 0.2198072686406517: 1.0, -0.8647930386754914: 1.0, -0.3160156990104279: 0.0, 0.8460110548365658: 0.0, 0.8245498983491227: 1.0, 0.07477651197125423: 1.0, 0.06058706215908982: 0.0, -1.4263862362187671: 0.0, 1.776098406603758: 1.0, -0.6910849424355274: 1.0, -0.4673098263638872: 0.0, -1.2557582547420405: 0.0, -0.0007327945035919825: 1.0, 0.718232595433006: 1.0, 1.4011274544476535: 1.0, -2.085350564249836: 1.0, 1.1648502050835874: 0.0, 0.3904527876397442: 0.0, 0.8285712402939341: 1.0, -0.7178183811401553: 1.0, 1.3449442515921044: 0.0, 0.731017183281333: 0.0, 0.055724745759482386: 1.0, 0.5023339996720311: 1.0, -1.1767551020797786: 0.0, -1.2850737148801041: 0.0, -1.8130262890519075: 0.0, -0.9692864097045865: 0.0, 1.7074830585109328: 1.0, 0.4774044419898307: 1.0, -0.4045442189315547: 0.0, -1.2278703944725788: 0.0, -1.16712507099619: 0.0, -0.4851429213940316: 0.0, 0.7212729075332757: 1.0, 0.35333518362863536: 1.0, 0.32814292692662184: 1.0, 2.2544576175280024: 1.0, -0.9860473944778589: 0.0, -1.433031709284313: 0.0, 0.9417250075555362: 1.0, -0.4865959458728507: 1.0, 1.3405087651975918: 0.0, 0.4874387883826323: 0.0, -0.537032852143944: 0.0, -0.9687766699499086: 0.0, 0.594907748536252: 1.0, 1.5220657735594587: 1.0, -1.9308051672135638: 0.0, -1.3102648433235313: 0.0, -0.5631125660051459: 0.0, 1.0546689948589847: 0.0, 0.34007791102133833: 0.0, -0.8458763000055057: 0.0, 1.704019373925909: 1.0, -1.4996899605962863: 1.0, 0.14442699136158155: 1.0, 1.410034837497724: 1.0, 0.7339686394213571: 1.0, -1.682928369915191: 1.0, 0.9191421261249068: 1.0, 1.8965104844726175: 1.0, -1.431693619236672: 1.0, 1.2101902563353022: 1.0, -1.5782801166604332: 0.0, 1.099081226247633: 0.0, -1.0984061425796778: 0.0, -0.24821804513716006: 0.0, -0.20238477427790913: 0.0, -1.0742123459047148: 0.0, -0.592982210610296: 0.0, 0.9964594325669927: 0.0, 1.0806785484569048: 1.0, 1.6987545545893643: 1.0, -1.1794897066591552: 0.0, -1.1334984114710969: 0.0, -1.2518154395172378: 0.0, 0.9526357298353283: 0.0, -2.219632217701685: 0.0, 1.2045785170137382: 0.0, 0.6692025871668392: 1.0, -0.29300266863592606: 1.0, -1.787226911685566: 0.0, -0.7199250921752061: 0.0, 1.4760126193623622: 1.0, -0.03935335941750395: 1.0, 0.7694139609004403: 1.0, -0.2863464769468914: 1.0, 0.6405141867821573: 1.0, -0.12148610904337642: 1.0, -0.3245531299423814: 0.0, 0.8689780088431909: 0.0, -1.4244773576261436: 0.0, -0.7329321029630071: 0.0, 1.284435788390581: 0.0, 0.6443021982426855: 0.0, -1.8182652485001938: 0.0, -1.6723924876249394: 0.0, 1.158721959751756: 1.0, -1.912774829521653: 1.0, -0.22178194847958832: 0.0, -0.8542687196523553: 0.0, -1.7124291702555101: 0.0, -0.7902977335790714: 0.0, -1.9109333858956272: 0.0, 1.3152161738532095: 0.0, 1.0699947451693184: 1.0, 1.794037073170223: 1.0, -1.0407323201575156: 0.0, 1.2455307853094264: 0.0, 0.7327948073988204: 1.0, -2.0261513103425264: 1.0, 1.0087324259300798: 1.0, -0.8090525882603126: 1.0, 1.2603458323924583: 1.0, -1.2705587510747045: 1.0, -1.60064195504235: 0.0, -1.2868204059642283: 0.0, 0.1596341756918479: 1.0, 3.0197931521352555: 1.0, -1.079584887338297: 0.0, 1.0968174021720085: 0.0, 1.6078473663713602: 1.0, 0.627872367024922: 1.0, 1.1656290386644415: 1.0, -1.2153153373522017: 1.0, -2.0205498901589025: 0.0, -1.6603763605954722: 0.0, 0.36300229483509816: 0.0, 0.5911764651013462: 0.0, 0.6943607540075345: 1.0, 0.12165895088966594: 1.0, -2.7155279779446593: 0.0, 1.1723540766003886: 0.0, -0.6948482817188615: 0.0, -1.4084881103282356: 0.0, -1.0975196296320406: 0.0, -0.7708750477828774: 0.0, 1.709596176780487: 0.0, -0.426913630653899: 0.0, 0.9583220760236658: 1.0, -0.6206637102193147: 1.0, 1.1195779849710858: 1.0, 2.439508190076883: 1.0, 1.1128209551192099: 1.0, -2.026886628157615: 1.0, 1.3054320724547945: 1.0, -0.8815285957770309: 1.0, -0.8971821330965168: 0.0, -0.33039787600001636: 0.0, 0.6579914814951862: 1.0, 0.6869156298390556: 1.0, -0.9680753250567424: 0.0, -1.2378949861595276: 0.0, 0.487050024321695: 1.0, 0.9951539063438941: 1.0, -1.542793179628313: 0.0, -1.2639027321678975: 0.0, 0.49003659926875065: 1.0, 0.9316757692130606: 1.0, -1.145429041003358: 0.0, -0.26357938931039315: 0.0, -0.9607330408453398: 0.0, -1.3463603717542845: 0.0, -0.048721334173898345: 0.0, 0.8850123487049845: 0.0, 0.9127475292233564: 1.0, 1.972452673379083: 1.0, -1.1290834590702548: 0.0, -1.5043255337228592: 0.0, 1.2750268628592372: 1.0, 0.9704331520450203: 1.0, -0.9729058872169253: 0.0, 0.6769344015394069: 0.0, -1.8611846282801237: 0.0, 1.1274373293801225: 0.0, -0.6086167206261994: 0.0, -0.1528297642835329: 0.0, 1.0185311122562046: 1.0, -0.8738811675467221: 1.0, 0.9017210546130738: 0.0, 0.6590903315769396: 0.0, 0.30577842660855636: 1.0, 0.0187856355337499: 1.0, 1.8142283820315832: 1.0, 0.01039324381389628: 1.0, -2.6503981294171335: 0.0, -0.9901761427552492: 0.0, 0.20263421859611586: 1.0, 1.7366404506402677: 1.0, 0.04217178104603336: 1.0, -0.3018497767946833: 1.0, -0.2879031334367097: 0.0, -0.7846215877510536: 0.0, -0.9199157147575987: 0.0, 1.0816633721255984: 0.0, 0.9201999150025199: 1.0, -0.35911642903472796: 1.0, -0.6569837255483274: 0.0, 0.7858371482209905: 0.0, -0.32246939559475196: 0.0, 0.7631525738194371: 0.0, -0.5392061679087263: 0.0, 0.9570345003915972: 0.0, 0.5802754497871876: 1.0, 1.0535826880056234: 1.0, -1.439459874896692: 0.0, 1.1501946090767565: 0.0, -0.23195403983317775: 0.0, 0.8816264916270008: 0.0, -1.29941573712254: 0.0, -1.2535841674964563: 0.0, 0.3953039065402878: 1.0, 0.4361002606920754: 1.0, -0.4499547474282023: 0.0, 1.0744178347950286: 0.0, 1.0733532626919549: 0.0, 0.44506752332604627: 0.0, 1.5311418627164208: 1.0, -0.2581277150447643: 1.0, -0.0528571964453759: 0.0, -0.5330862529941454: 0.0, -0.442721397769654: 0.0, -0.5535898542084227: 0.0, 0.5828890737582797: 1.0, 2.293212424705482: 1.0, 1.3203674186337264: 0.0, 0.5011872973555285: 0.0, 0.27773807389972605: 1.0, -0.559444261469835: 1.0, 1.2808129611957564: 1.0, -0.5314547910517421: 1.0, -0.23726501048438786: 1.0, 1.455624811969064: 1.0, 0.15366466598749784: 1.0, 1.7943413612788643: 1.0, -0.5030786919716519: 0.0, -0.7600980544914879: 0.0, -0.3901974031859068: 0.0, -0.33192525680006124: 0.0, -1.9960654641895688: 0.0, 1.2113746884398668: 0.0, 0.5030999092366921: 1.0, 1.209921683919607: 1.0, -0.03224284932886867: 1.0, 1.5590791519730525: 1.0, 1.5747213813330374: 1.0, -2.881636616763041: 1.0, 0.27259084304205516: 0.0, 0.8172387974995818: 0.0, -1.1414877331034339: 0.0, 0.8515729405949175: 0.0, 0.9140690084849185: 1.0, 2.1817957497995284: 1.0, -0.1010448000843962: 0.0, -1.2918050295138312: 0.0, 1.5889474457828796: 1.0, -0.8164025924880232: 1.0, 0.8018259208314248: 1.0, -0.5252392172945645: 1.0, 1.171248704892097: 1.0, 1.0129202405363922: 1.0, -1.0544298693748497: 0.0, 0.8006033121441247: 0.0, -1.3151911185543907: 0.0, 1.1177155457536223: 0.0, 1.1222344917277205: 1.0, -0.5884449673063072: 1.0, -0.6763833757353209: 0.0, -1.2591212667612979: 0.0, 1.5470745918951074: 0.0, 0.391094096191667: 0.0, -0.1822343377324931: 0.0, -1.194377460216914: 0.0, -1.6307237357794009: 0.0, -1.5555930921383236: 0.0, 0.9828087335093192: 1.0, -0.8227905320326645: 1.0, -0.5019284677777934: 0.0, 1.12533605785618: 0.0, -1.1072364798877288: 0.0, 0.9301352847809375: 0.0, -1.6765615482657057: 0.0, -1.5495172007237947: 0.0, 0.18274260489442007: 0.0, -1.762354624508434: 0.0, 1.4249077277428635: 1.0, 1.1733800777989678: 1.0, -0.7624878673681958: 1.0, -0.23612576848385558: 1.0, -0.8383353818076922: 0.0, -1.3837268855278844: 0.0, 1.6696348583045237: 1.0, 2.317681799129761: 1.0, -0.49890906970773663: 0.0, 1.1294803184173159: 0.0, -2.2443101654424824: 0.0, 1.1695714389124015: 0.0, 0.631096034385157: 1.0, 0.6671463424912001: 1.0, -0.4800813232175346: 0.0, 1.2442065056934206: 0.0, -1.0845197084494165: 0.0, -1.6407788133110814: 0.0, 1.763210626424989: 1.0, -1.9188806405366194: 1.0, -1.2075936685231339: 0.0, -0.9468127548820272: 0.0, 1.0986152432596517: 0.0, 0.6935499717287061: 0.0, -1.257180764561018: 0.0, 1.004772304538311: 0.0, -0.5917104975221754: 0.0, 0.7950701806175311: 0.0, -1.6025554270071365: 0.0, 1.083866395171622: 0.0, 0.39290377454800307: 1.0, 0.7730526008320364: 1.0, -1.1158521032409219: 0.0, 0.968674180121005: 0.0, -2.6456028582590037: 0.0, -0.7937575650736748: 0.0, 0.3855674754305646: 1.0, -1.6759228716286012: 1.0, -0.6327851427879089: 0.0, 0.8652502436748879: 0.0, -0.13189932595678466: 0.0, -1.3720397704663712: 0.0, -0.6797191588324145: 0.0, -0.810027791120332: 0.0, -0.5852815090657263: 0.0, 1.002687290294179: 0.0, 1.1371831736923004: 1.0, -1.5062862185530466: 1.0, -1.344414163185781: 0.0, -0.13180340496848542: 0.0, 1.9866309506967375: 1.0, 1.096090998796512: 1.0, -0.28839876373378703: 0.0, -0.8739187195472515: 0.0, -0.6448282448668315: 0.0, -0.33111010717883615: 0.0, -2.724431376545815: 0.0, -0.7811996031126576: 0.0, -2.0230390174908948: 0.0, 1.1827504468316454: 0.0, 0.8964463912900571: 1.0, 1.4624019484086395: 1.0, 0.42368063746809115: 1.0, 1.145776307968597: 1.0, 0.5700283496900662: 1.0, 3.450342748408886: 1.0, -2.571147891316978: 0.0, -0.9917645052799958: 0.0, 1.421471427930835: 1.0, -1.1247942617411226: 1.0, -0.9382599640971887: 0.0, 1.0093021773947455: 0.0, -0.025922804789527576: 0.0, -0.7233013402302049: 0.0, -0.024131920518104755: 1.0, 1.7110236575114075: 1.0, -1.832078240737872: 0.0, -1.0569376140331888: 0.0, -2.7357482735847793: 0.0, 1.198478064703605: 0.0, 2.2190763235124464: 1.0, 2.614263789214585: 1.0, 0.8638073598903138: 0.0, 0.609047130440906: 0.0, -0.6772832580423345: 0.0, 1.029951729580913: 0.0, 1.045177255315766: 1.0, -1.229037991884427: 1.0, -1.5970317123433864: 0.0, 1.3615005945819483: 0.0, 2.0770735308226826: 0.0, 0.4919637579001762: 0.0, 0.7001828631992472: 1.0, 0.3490170085781207: 1.0, -0.1139018715290151: 0.0, 0.6978611001349773: 0.0, 0.9193559462771704: 1.0, -2.0030944377210096: 1.0, 1.7423285898336784: 1.0, 0.32920919339446186: 1.0, -0.5115787376126855: 0.0, -2.0059083629619963: 0.0, 2.0938818777562966: 1.0, -1.1258243376445205: 1.0, 0.48757629087679255: 1.0, 0.040321250667197495: 1.0, 0.463369443826225: 1.0, -1.2880803475686118: 1.0, 2.113935347286487: 1.0, 2.484546629860751: 1.0, 1.9770252700523443: 1.0, 1.576819972334884: 1.0, -1.4547267934990988: 1.0, 2.040916073359419: 1.0, -0.19247573149468455: 1.0, 1.9619196466805082: 1.0, -1.1904948026904356: 0.0, -0.9343212585911159: 0.0, -1.7796772543132096: 0.0, 0.8844747612602313: 0.0, -1.2465329785495243: 0.0, -1.222781804074571: 0.0, -0.8777507732187761: 0.0, -0.5208671915371474: 0.0, 0.39958214086846777: 1.0, 0.8605239794933828: 1.0, -1.2751780747672343: 0.0, -1.1676681798156285: 0.0, 1.3491672682493665: 1.0, -2.1837727878841986: 1.0, 1.072479984932931: 1.0, 1.7010446887786679: 1.0, 1.464945342133233: 1.0, -0.3429293174124416: 1.0, -2.3016351517659177: 0.0, 1.1150747588525909: 0.0, 1.7689971902388315: 1.0, 1.1461219815239303: 1.0, 1.2036398894369733: 1.0, 1.3995265294584063: 1.0, 0.9297916640341493: 1.0, -1.4344642789343696: 1.0, 0.09230018925425842: 1.0, 0.5421063074611332: 1.0, 1.7798783030450243: 1.0, -2.7511033057533596: 1.0, 1.6334857246687684: 1.0, 2.131762513334597: 1.0, -0.8579301539341181: 0.0, 1.1782284653554804: 0.0, -0.4815158004007083: 1.0, 1.381711918283878: 1.0, 0.6580731551223328: 1.0, -0.7232517531365337: 1.0, -0.9991753777103272: 0.0, -1.0375383605662984: 0.0, -1.0315868949309157: 0.0, -0.9502709741131599: 0.0, -0.35631610611811126: 1.0, 1.2818942339867352: 1.0, 1.4453653867016907: 1.0, -1.3527159096273136: 1.0, -1.5344386003061063: 0.0, -1.200397612385717: 0.0, -1.1900920726874433: 0.0, -0.979376024042749: 0.0, 0.7751385294233112: 1.0, -0.2570746339804447: 1.0, 1.8783507277969957: 1.0, 0.802106295073878: 1.0, -1.5173815485937037: 0.0, -0.6598567614159949: 0.0, 1.2253255090703248: 1.0, -1.0312711759747917: 1.0, 0.6552436129825758: 1.0, -1.1189049435814917: 1.0, -0.9191996753220002: 0.0, 0.7005453716604179: 0.0, 0.2684208466604543: 0.0, 0.9022296620890142: 0.0, -0.2833499389088582: 0.0, 1.0269831192381713: 0.0, 1.4235761820301696: 1.0, -1.1276882645028754: 1.0, 0.7650441206068723: 1.0, 0.35751984380858604: 1.0, 1.1493490721863158: 1.0, 0.13725891304163984: 1.0, 0.17400249120577316: 0.0, -1.277656324550147: 0.0, -1.5060115412374446: 0.0, 1.2413765554992122: 0.0, 1.8084596406110478: 1.0, -0.09413458667963881: 1.0, -1.131206870526263: 0.0, 0.9924411380969704: 0.0, -0.04568584574702994: 1.0, 1.2523792261343445: 1.0, 1.2793586179163128: 1.0, 0.6266507839332904: 1.0, -0.2623816873580248: 0.0, -0.8067393345561936: 0.0, -1.2361158829844072: 0.0, -1.3575411155905701: 0.0, -1.4344974272554047: 0.0, 1.0622663633688516: 0.0, 0.24924815276013645: 0.0, -1.3721149126640286: 0.0, 0.36057228006241493: 1.0, 1.0559327848580304: 1.0, 0.05355828140572716: 0.0, 0.9372164416735663: 0.0, -2.0254091357877435: 0.0, -0.664201835818107: 0.0, -0.5039122391036926: 0.0, 0.8360920581090603: 0.0, 1.2691967849608967: 1.0, 0.17081657399584116: 1.0, -0.7733418533312195: 0.0, -0.9188950239363818: 0.0, -2.360268251341436: 0.0, -1.330203899066634: 0.0, 0.41454793895699116: 1.0, 0.1891731681692832: 1.0, -0.7412926989018076: 0.0, -1.5684058277008681: 0.0, 1.4638148380217586: 1.0, -0.10517082564247504: 1.0, 2.0690556311837525: 1.0, -1.5642538660369563: 1.0, -1.4638307948803342: 0.0, -1.2173238867738687: 0.0, 0.22128877168955396: 1.0, 0.5884066306804803: 1.0, 0.05821862460723959: 1.0, -0.20739984607686268: 1.0, 2.51795712301692: 1.0, 0.03644362975975557: 1.0, -1.1983825874454905: 0.0, 0.95067253785354: 0.0, 0.3418138854518109: 1.0, 0.7180950832579234: 1.0, 0.3759155992573623: 1.0, -0.05365737354366351: 1.0, -2.6224674472717804: 1.0, 2.632038395999734: 1.0, -1.240068483004299: 0.0, -1.3303640119610614: 0.0, -2.5473108792786525: 0.0, 1.4096632964155462: 0.0, -0.13444981614647034: 0.0, -1.254745486965527: 0.0, 1.4858601946769725: 1.0, -1.4334252606921223: 1.0, 0.6066455669935995: 1.0, 0.8671647836672867: 1.0, -1.480331112414829: 0.0, -1.6078195831110298: 0.0, 0.7493812240152297: 1.0, 2.2048626824153894: 1.0, 2.0515058669077124: 1.0, -2.5387034498052357: 1.0, -0.6317038985861507: 0.0, -1.1739558551579647: 0.0, 1.5321081876052496: 1.0, -2.305298330402095: 1.0, 1.4433046185477456: 1.0, 1.350186890674904: 1.0, 1.176149265685364: 1.0, -1.9131700868932575: 1.0, 0.6590488099045824: 1.0, 0.9897800405042848: 1.0, 0.3156269376146642: 1.0, 1.4874569666767137: 1.0, 1.2864888411917814: 1.0, -0.6454044867130913: 1.0, 0.7810120732689181: 1.0, -0.7471813993241128: 1.0, -1.115814727668607: 0.0, 1.2482758050238423: 0.0, -0.7778773709185063: 1.0, 3.538879132118882: 1.0, 1.5962029380362823: 1.0, 2.251292505861578: 1.0, 1.5082202304260277: 1.0, -3.1215931279409426: 1.0, -0.2356356872261548: 0.0, 0.9076708291372846: 0.0, 1.5896625976940657: 1.0, -2.485922263822336: 1.0, 0.4559584342837233: 1.0, 1.9153288008966007: 1.0, 1.0159735324910175: 1.0, 1.7606902813185608: 1.0, 0.9638283120123049: 1.0, 1.0666303001464807: 1.0, -0.6244812904891572: 0.0, 0.8527581952293415: 0.0, 0.2396870478485087: 0.0, -1.058016724985519: 0.0, 1.0659894792901392: 1.0, -1.072886172852233: 1.0, -0.3258600283540153: 0.0, -0.5327761941015825: 0.0, 0.6128755159841248: 1.0, -0.17790231652450528: 1.0, 0.04240169238225011: 0.0, 0.9372664149323546: 0.0, -1.0707775229483132: 0.0, 1.1665739601114538: 0.0, -0.3248963299108416: 1.0, 1.9125331692489735: 1.0, 0.6982806304796934: 1.0, 2.1057744228570505: 1.0, 1.6314002363545632: 1.0, 3.7581492267111707: 1.0, -0.6852467305718009: 0.0, -0.8849879254187074: 0.0, -1.3418776821662082: 0.0, -1.292222624487914: 0.0, -2.503245584938811: 0.0, 1.3675745455177433: 0.0, 1.2952807690632904: 1.0, 0.9769205495105288: 1.0, -1.891578373223695: 0.0, -0.7286028214612101: 0.0, -1.77812130402938: 0.0, -1.3953981068176864: 0.0, 1.4609927825188853: 1.0, -1.3288874018871393: 1.0, -0.24028641555067032: 1.0, 1.7646714725515729: 1.0, 0.8621819402001971: 1.0, 2.0106752288031116: 1.0, -0.05745731499815776: 0.0, -0.9755299420043504: 0.0, -0.5842078403973245: 0.0, 0.8772823602541784: 0.0, -0.03065839819408822: 1.0, 0.43871064294066864: 1.0, 0.7254907315170913: 0.0, -0.426942702806029: 0.0, -2.0108606795420476: 0.0, 1.2190292798007722: 0.0, -0.8755061750981668: 0.0, -1.0290699314439558: 0.0, 1.3921196489879153: 1.0, -1.9657972312101557: 1.0, 1.1379150141878769: 1.0, -0.6765462386643877: 1.0, -0.7708160051306105: 0.0, 0.8912474210148738: 0.0, 1.7445473203028214: 1.0, 1.618853754594371: 1.0, -0.576336355093329: 0.0, 0.8760389376722146: 0.0, -1.39372596348461: 0.0, 1.0981691341206692: 0.0, 2.2200752322539365: 1.0, 0.10137312955630706: 1.0, -0.24211064906302648: 1.0, 3.1590492185049603: 1.0, -0.007540718516489964: 0.0, 0.653079743371404: 0.0, 0.7790212243080761: 1.0, -1.0151421816551724: 1.0, 0.12627419408278584: 0.0, -1.1361580411008503: 0.0, 0.49978737122076855: 1.0, 1.881579940045506: 1.0, 1.0579803379881407: 1.0, -1.0289114560397647: 1.0, -3.364620906976222: 0.0, 1.4632005289632959: 0.0, -0.2798678921077038: 0.0, -1.3042240710074102: 0.0, 0.6062029813137044: 1.0, -0.05757470992208502: 1.0, -0.3617607514734227: 1.0, 0.5551864847994104: 1.0, -1.7716103722998011: 0.0, -0.7737041821093: 0.0, -1.8352852688672519: 0.0, 1.0714394455526477: 0.0, -0.27452144817136004: 0.0, 1.0209044870518242: 0.0, -1.4099275834802465: 0.0, 1.041994190209126: 0.0, 0.5087578938536812: 0.0, -1.0111266034622015: 0.0, -0.9532214690634307: 0.0, -0.5986978296898732: 0.0, -1.2373271013858498: 0.0, -1.0113905852279208: 0.0, 0.7085469080277775: 1.0, -1.3446736853596837: 1.0, 0.5699483459814256: 1.0, 1.823317247827235: 1.0, -0.6687914810640756: 1.0, 1.9550655403797865: 1.0, -0.962292593426177: 0.0, -0.6242804746534367: 0.0, -0.30584412413672735: 1.0, 1.3181109348980105: 1.0, -0.5028305934293775: 0.0, -0.4188675353292298: 0.0, 1.492764867938179: 1.0, 1.1994823134670864: 1.0, 0.5098917738033306: 1.0, 0.0608827579695046: 1.0, 2.3204635073315405: 1.0, -0.8523635582601208: 1.0, 1.2846410114969478: 1.0, -1.1490819183045209: 1.0, -0.5828806327248377: 0.0, -0.37698993807193293: 0.0, 0.05000169944884458: 0.0, -0.5830041009576292: 0.0, 0.9749777339253043: 1.0, -0.7733943040708974: 1.0, -2.097382207776321: 0.0, 1.0441350339968862: 0.0, -0.11236989169345801: 0.0, 0.8563965139237739: 0.0, 1.375331910830589: 1.0, -1.9264988269276517: 1.0, 0.8251474354538062: 1.0, 1.1049014726734165: 1.0, -1.835032188678728: 0.0, 1.2225228678067095: 0.0, 0.29695905642824405: 1.0, 2.829139701626188: 1.0, 1.0265512693364163: 0.0, 0.5758593481593755: 0.0, 0.8145014411883564: 1.0, 0.1017395211270995: 1.0, -1.084877371723641: 0.0, 1.112922870451003: 0.0, -1.557734424266707: 0.0, -1.1142135365005097: 0.0, 0.6826339573670179: 1.0, -1.3539979986967623: 1.0, -0.5322100419755109: 0.0, 0.8876129971050416: 0.0, -0.4082447809583014: 0.0, -1.4212171073537194: 0.0, 1.3385240851000315: 1.0, -1.7905439776856789: 1.0, -0.5133286187067034: 0.0, -1.2075701452760152: 0.0, -0.12578463212087865: 0.0, -0.6867428212535001: 0.0, -1.1633510108069: 0.0, 0.983361232080623: 0.0, 0.7661683733495115: 1.0, 0.7326297009510898: 1.0, -1.0936844021546732: 0.0, 0.9976085893790805: 0.0, -2.1305911417352457: 0.0, 1.0445690905138116: 0.0, 0.2054732574895407: 1.0, 0.3782366668755136: 1.0, 1.8491128532737908: 1.0, -1.8930199494220088: 1.0, 0.42755694549142087: 1.0, 1.199824529852125: 1.0, -0.7032668300165033: 0.0, 1.0564643859508083: 0.0, -0.04116665686031984: 0.0, -1.0237039889948762: 0.0, -0.5020130827048763: 1.0, 1.682295840302173: 1.0, 0.1813454989741583: 0.0, -1.275615347521834: 0.0, -1.2028882439536228: 0.0, -1.3770320662366342: 0.0, 1.8487186819311046: 1.0, 0.9435905299774674: 1.0, -2.0426998499155307: 0.0, 1.308906818848546: 0.0, -0.5590284065656014: 0.0, -0.9373359407355032: 0.0, 0.2733542457390089: 1.0, 1.7788810720609067: 1.0, 0.3560608406520879: 1.0, 0.5657232915758295: 1.0, -1.4767972107486727: 1.0, 2.1297273157601624: 1.0, 0.1520737132976815: 0.0, 0.9455157852115006: 0.0, -0.6684620766680625: 0.0, -1.3246055730147543: 0.0, 0.5704071521508387: 1.0, 1.2075304606499258: 1.0, -1.9191548415572646: 0.0, 1.110306634585633: 0.0, -0.8429146259021771: 0.0, 0.920914004255916: 0.0, 0.21632233218491992: 1.0, 0.8515056305232328: 1.0, -0.13426887703333246: 0.0, -1.333430473466556: 0.0, -0.6524699350063773: 0.0, -0.5881046731332795: 0.0, -2.0107456521857565: 0.0, 0.9347449272026522: 0.0, 1.2079560113010936: 1.0, -1.3499205692256169: 1.0, -0.9942167914733473: 0.0, -0.5951049831635198: 0.0, -1.3894845387554675: 0.0, -1.8754779095678542: 0.0, 0.12157599377913231: 1.0, 0.8104122513108689: 1.0, 1.5014983321304114: 1.0, 1.0963833582190685: 1.0, -0.23215759366654098: 1.0, 1.8092981835225426: 1.0, -0.9440504566780976: 0.0, -1.6825048626179542: 0.0, 1.4035835438497364: 1.0, -1.967098061574829: 1.0, -0.958790144483503: 0.0, -0.36793337323434905: 0.0, -2.943403438948395: 0.0, 1.1836649284167424: 0.0, -0.041092252680652974: 1.0, 2.4419320880209323: 1.0, -0.8209028606779584: 0.0, -0.5523102242032807: 0.0, -0.864650946654508: 0.0, -1.1175435235501072: 0.0, -2.271720135348869: 0.0, 1.3639531844262271: 0.0, 1.4915775961340703: 1.0, -0.5201767227045746: 1.0, -0.7432543740833174: 0.0, -0.9205298599739942: 0.0, 1.5960216348703709: 1.0, -1.631595766042187: 1.0, 0.00861029691962556: 1.0, 1.73254000510888: 1.0, -2.1828355348757764: 0.0, -1.0605612777750184: 0.0, 0.89174620494269: 1.0, -0.6903710588951595: 1.0, 0.4586717270540459: 0.0, 0.8624162684921133: 0.0, -2.47259547350151: 0.0, 1.258404039847449: 0.0, 0.12774074013482206: 0.0, 0.6563345338008726: 0.0, 0.10338988306263086: 1.0, 0.08798290672387643: 1.0, 1.0843862678066225: 0.0, 0.8585969608722077: 0.0, -1.29810722267852: 0.0, -0.4313560890897017: 0.0, 0.6449911389478644: 1.0, 0.3106388488034635: 1.0, -2.162713880101012: 0.0, 1.2060507609954048: 0.0, -2.673667431657395: 0.0, 1.3764255560279663: 0.0, 0.6396115106433955: 0.0, 0.6433128851264007: 0.0, 0.6491255934229938: 1.0, -0.9058681879081132: 1.0, 1.2700073480371816: 1.0, -1.506274629726672: 1.0, 1.5918612261625058: 1.0, -0.061656823869351784: 1.0, 1.6907810881075216: 1.0, -0.2028785608570527: 1.0, -0.5680990607003584: 0.0, 0.7696806771872886: 0.0, -0.8648137677659565: 0.0, -0.5786474267410939: 0.0, -1.080278373588127: 0.0, -1.2151048705791259: 0.0, -1.166545069964063: 0.0, 0.9334736663575154: 0.0, 0.7212753040337123: 0.0, 0.8324720089044059: 0.0, 0.9791771878780304: 1.0, -0.6309734553459763: 1.0, -1.3224338904354027: 0.0, -0.5995889812920779: 0.0, -1.1481552790556604: 0.0, 1.20756906892909: 0.0, 0.42993168358351286: 1.0, -1.5550470682698099: 1.0, -2.113909921633189: 0.0, -1.2475648319874255: 0.0, -0.40979840920633415: 0.0, -0.3250948625610922: 0.0, 0.8497684641226073: 1.0, -0.9097433610128639: 1.0, -1.079661058257438: 0.0, -0.5866985860368632: 0.0, -1.5800832188420313: 1.0, 1.280267368400856: 1.0, -2.2102970357401297: 0.0, -0.2678413859302139: 0.0, -1.049593415103075: 0.0, -1.7019581922984592: 0.0, -0.2759617899686473: 1.0, 1.4406909205756906: 1.0, 2.163553719346715: 1.0, 2.267296700005117: 1.0, 0.687648844491678: 1.0, -0.12117215714687202: 1.0, -0.09055321582140263: 1.0, 0.936319642515935: 1.0, -0.8454699662491731: 0.0, 1.0310759585664664: 0.0, 0.9976155161505345: 1.0, -1.9619836278830398: 1.0, -0.6557649486730588: 0.0, 1.0411712538522333: 0.0, 1.4212540822737103: 1.0, 2.297193799992697: 1.0, -4.557274291801413: 0.0, 1.7492630857060776: 0.0, 0.9089655190109153: 1.0, -1.273269383604202: 1.0, 1.0549495739864843: 1.0, -0.908808271841714: 1.0, -1.073768683766084: 0.0, 0.7889894274509652: 0.0, 1.2550468911228148: 1.0, -1.1077708391016445: 1.0, 0.8484308027190374: 1.0, -0.8226188081798749: 1.0, 0.5994198693882447: 1.0, -0.9901367257252208: 1.0, -1.5708690277185324: 0.0, -1.1462312086553519: 0.0, -2.099997312823736: 0.0, 1.2520497735683023: 0.0, 1.3134183362221545: 1.0, 0.6490080282215667: 1.0, 0.07230598115462383: 0.0, -0.779241698211723: 0.0, 1.3760606500130133: 1.0, -2.1828530390309817: 1.0, 1.2329549916537603: 1.0, -2.101951110544208: 1.0, 1.1148934904890744: 1.0, 1.7449539143349775: 1.0, 1.2852334662505311: 1.0, -1.302013413782632: 1.0, 1.433738713325671: 1.0, -0.5189185320143295: 1.0, -1.7116853438032167: 0.0, -1.2337205298551488: 0.0, -0.49863215961717466: 0.0, 1.0797905634287484: 0.0, -1.861300749433287: 0.0, -1.00086246608489: 0.0, 1.0005438395279238: 1.0, 0.4489481506559265: 1.0, 1.462327671114291: 1.0, -1.5258676359329475: 1.0, -1.6059974635307677: 0.0, -1.2199483500916923: 0.0, -0.3267823282988528: 0.0, -0.9479030193682891: 0.0, -0.12568142102466917: 0.0, 1.0083760298225055: 0.0, -0.9126195735000473: 1.0, 1.0532644666534738: 1.0, 0.7181686522905391: 0.0, 0.6429262130223731: 0.0, 0.5180823930407193: 1.0, 0.021241196985165245: 1.0, -1.3100954579321615: 0.0, 1.0669945823357838: 0.0, -2.7579439503609997: 0.0, -1.1442897190840575: 0.0, -0.3261728772049681: 0.0, 0.9450666784887501: 0.0, -0.7220048980966521: 0.0, -0.34047850721782136: 0.0, 1.392842137834962: 1.0, 0.9673924591277465: 1.0, 1.2196391149227426: 1.0, -0.03790739215250316: 1.0, 0.5794867863895823: 1.0, 0.5633163291351488: 1.0, -2.2934340591478755: 0.0, -0.7804768782756301: 0.0, -1.5337136322574358: 0.0, 1.124860291218695: 0.0, 0.723757388952518: 1.0, -0.044475716930432396: 1.0, -1.7460236587586866: 0.0, -1.5658474860354523: 0.0, 0.8573303287630005: 1.0, -2.0537167791808697: 1.0, 1.3979019791183402: 1.0, -1.4635582404784706: 1.0, -0.6152414740978962: 1.0, 2.2073678909221304: 1.0, -0.4926475906798109: 0.0, -0.9630179583850655: 0.0, 1.3828027219080432: 1.0, -1.9597600559983197: 1.0, 1.233222158520499: 0.0, -0.7227101974730197: 0.0, 0.3133621489964523: 1.0, -0.13108698467581903: 1.0, 1.419053757241884: 1.0, -1.4538273336911984: 1.0, 0.604045139372949: 1.0, 1.0663800343653644: 1.0, 0.14558530052301577: 1.0, 2.1446848508612923: 1.0, 1.050022186823567: 1.0, -1.5179751892860227: 1.0, 0.8538909524148091: 1.0, -0.3012606105922735: 1.0, -0.5037178682904706: 1.0, 1.7411066792999415: 1.0, -0.7756447368133575: 0.0, -1.3502331367228684: 0.0, -1.328189834409338: 0.0, -1.3422964433024849: 0.0, -1.3717457881564978: 0.0, -0.9203416250602551: 0.0, 0.4494266710353704: 1.0, 0.9186258109439034: 1.0, 0.5072172337926795: 1.0, 0.5247149878235045: 1.0, 0.27431588590727607: 1.0, 0.6432169060358999: 1.0, -0.9223532682987563: 0.0, 1.234812621348852: 0.0, 1.3767610614709807: 1.0, -1.2325923945908148: 1.0, 0.0940043946838941: 1.0, -0.26434479474988604: 1.0, -1.6550787489984247: 0.0, -0.8884493710079452: 0.0, -0.7125118679322388: 0.0, 0.9305211835252594: 0.0, 0.8608603707426115: 1.0, -1.2435452840005154: 1.0, 1.363793643172: 1.0, 0.8217151380044043: 1.0, -0.6993679554776151: 0.0, 0.9073674370003595: 0.0, 0.9887273532234115: 0.0, -0.9616952276659368: 0.0, -1.6688732611036505: 0.0, 1.2323053778157995: 0.0, -1.2752943697283248: 0.0, -1.205793895850069: 0.0, 0.8816714310675625: 1.0, -1.6132215427742378: 1.0, 0.6620328581818812: 1.0, 1.9437685607129533: 1.0, 0.9298853959787153: 1.0, -0.3095223265816578: 1.0, -0.5066968168677601: 1.0, -0.3695702075020104: 1.0, -1.4550505622389285: 0.0, 0.80721151700108: 0.0, 1.6688580112974303: 1.0, 1.1601644114964955: 1.0, -0.8271688657080519: 0.0, 1.02985318388131: 0.0, 1.1749192343087338: 1.0, -2.0901110186462355: 1.0, 1.1316501528671323: 1.0, -2.37483112103223: 1.0, 1.0267819118117303: 1.0, -0.9952414730408717: 1.0, -0.703350497167975: 0.0, -1.3083893569735374: 0.0, 1.4076930066540756: 1.0, 0.922675324468107: 1.0, -4.124831968904016: 0.0, 1.443472340901706: 0.0, -1.2661699528525074: 0.0, -1.2639156714049595: 0.0, -1.0829657376817343: 0.0, -0.8504996217681308: 0.0, 1.230352925587698: 1.0, -1.892597867849502: 1.0, 0.8679880468474841: 0.0, 0.7261236976816243: 0.0, 1.1717975755133276: 1.0, -0.2252332576684628: 1.0, 0.7629322968635655: 1.0, -1.0787121688108732: 1.0, 0.4098333867203634: 0.0, -0.900514098575602: 0.0, 0.7084582961128041: 1.0, 1.0397391242294274: 1.0, 1.3201186176354538: 1.0, -1.7342187673433416: 1.0, -0.5356081994306984: 0.0, 0.8787082780839508: 0.0, 0.8020372868142787: 0.0, 0.598292426729168: 0.0, -0.8950346257820285: 1.0, 1.5671432118135586: 1.0, 0.5915465643445208: 1.0, -1.180923689219199: 1.0, 0.368912117141431: 1.0, 1.0514072597820585: 1.0, -0.10352191201984917: 1.0, 1.5230599028050533: 1.0, 0.8840806884964503: 1.0, -0.7944980167600649: 1.0, 1.7185711392479364: 1.0, -3.0045547940788246: 1.0, 1.4712976795298982: 1.0, 0.5613616387424583: 1.0, 0.6256511487049368: 1.0, 0.5026256362494415: 1.0, -1.0456423031725914: 0.0, -1.4157377519540368: 0.0, -1.231634674965701: 0.0, -1.1491763465265947: 0.0, 0.9108367915713588: 1.0, 0.6462511664541912: 1.0, -0.010573204870402919: 0.0, 0.7664103151787962: 0.0, -1.1426335545363338: 0.0, -0.781026985516893: 0.0, -1.1061243673891399: 0.0, -1.4220792053154994: 0.0, 1.4919323212722548: 0.0, 0.49801586201603854: 0.0, 1.866077256332153: 1.0, -3.6075802300544275: 1.0, -0.02753492865623286: 0.0, 0.7261903890973229: 0.0, -0.4261069932858509: 0.0, 1.1502768129888996: 0.0, 0.6600129325429167: 0.0, 0.8229644685222275: 0.0, -0.7505218064264021: 1.0, 0.5715866746430551: 1.0, -0.5047433415436523: 0.0, 0.9569906602959503: 0.0, -1.9546962366962988: 0.0, 1.2555164379889625: 0.0, -0.10143797145059774: 1.0, -0.19208523654395337: 1.0, 1.6030623614973125: 1.0, 0.8278760525493873: 1.0, -0.7772537626658167: 0.0, -1.0361029906042059: 0.0, -1.4989958774965548: 0.0, -0.4297322850632046: 0.0, -0.7264481590423102: 0.0, -1.4684460723589454: 0.0, -0.4845352140116962: 0.0, 0.5691087902995491: 0.0, -0.41160000071200686: 1.0, -0.35902608780954504: 1.0, -2.5440640019082137: 0.0, 1.248260211386798: 0.0, 1.3810333146085974: 1.0, 1.4493815135053252: 1.0, -1.4003123311727632: 0.0, 1.0207627770177368: 0.0, 1.048575366916568: 1.0, -0.2214754761030101: 1.0, -1.5516237546778553: 0.0, 0.8865957681366876: 0.0, -2.89440000521685: 0.0, 1.264623643489573: 0.0, 1.0195533471385485: 1.0, 0.576316049716676: 1.0, 0.7557480121704493: 1.0, -0.28483241234097667: 1.0, -0.7207751523445246: 0.0, -1.7447957034221435: 0.0, 1.189731677542595: 1.0, -1.3994667268005918: 1.0, -0.24243733169170067: 0.0, -1.1919637102651146: 0.0, -0.8084160762853041: 0.0, 0.9308458253617797: 0.0, -2.1398168398241495: 0.0, -1.0771238416342843: 0.0, -0.20284570119427237: 0.0, -1.4484120222313952: 0.0, 0.6760774314930915: 1.0, 2.0376420265166226: 1.0, 1.5668453822995474: 1.0, 0.9634981484644922: 1.0, -1.5705770749418606: 0.0, 1.271073789688089: 0.0, -1.03097737107338: 0.0, 0.9684546490790981: 0.0, 1.0716616806515304: 1.0, -0.7348193458612386: 1.0, -0.11839364731548674: 0.0, -1.5453896445665543: 0.0, -1.8036564926483953: 0.0, 1.3007742079477638: 0.0, 0.7033291130888515: 0.0, 0.836119148533568: 0.0, -0.13881811588668003: 0.0, 0.7858408446710006: 0.0, 1.2101596690422327: 1.0, -1.325771766397894: 1.0, -0.5592294744571655: 0.0, -1.1142335476012568: 0.0, 0.8893673951659455: 1.0, 0.8906942124176335: 1.0, 1.3099461910079992: 1.0, -1.3440604935977498: 1.0, 1.219204532126325: 1.0, -0.25753046417426306: 1.0, -1.2695274859717915: 0.0, 0.9938763914718859: 0.0, -0.9569688107915295: 0.0, 1.0254575754644362: 0.0, 0.497328636588218: 1.0, -0.5379977669847849: 1.0, -1.0519953319233195: 0.0, -0.9814453154060607: 0.0, 0.9226290182951112: 1.0, 1.2771420899610542: 1.0, 0.5099231633785791: 1.0, 0.14803357871701905: 1.0, -2.984542089907907: 0.0, -1.3336517066985718: 0.0, 0.6352134485121406: 1.0, -0.5454306747776352: 1.0, -0.8239363827736773: 0.0, 0.9945936634493046: 0.0, 0.9216209595538798: 0.0, 0.8943570970519695: 0.0, 1.6936896532377614: 1.0, 1.371660714400415: 1.0, 0.9492733321198216: 1.0, -0.3755393852828215: 1.0, 0.6801416389027279: 1.0, -1.0006790705619462: 1.0, 0.4674426198881667: 1.0, -1.2083645122552928: 1.0, -0.7434603144228368: 0.0, 0.8354327095247154: 0.0, 3.0159282519669652: 1.0, 0.6762485750857927: 1.0, -0.7552918031601495: 0.0, 0.9934674984364833: 0.0, 0.8357492516600139: 1.0, 0.32187032303212937: 1.0, -0.9315998127394045: 0.0, 0.9897504081262544: 0.0, 1.026598916577607: 0.0, 0.6675767988442964: 0.0, -0.004743737803625359: 0.0, -1.1529715626136958: 0.0, 0.3640267320792645: 1.0, -0.07368859744556822: 1.0, -1.4537571874657989: 0.0, 0.9216292164350881: 0.0, 1.5109170243951873: 1.0, -2.266269930980647: 1.0, -1.5023114957474473: 0.0, -1.287581922645762: 0.0, 1.315758524840144: 1.0, -1.4306791059812323: 1.0, -0.42655915256961896: 0.0, -0.7160568768270483: 0.0, 1.117380406051196: 1.0, -1.1739158105331526: 1.0, -3.389528805593568: 0.0, -0.866192647610442: 0.0, 0.7082744607003328: 1.0, 0.9611535066347973: 1.0, -0.8974253443331451: 0.0, -1.1431273159199584: 0.0, -1.7619527905508456: 0.0, 1.0581229345933951: 0.0, -1.6407633048120684: 0.0, -1.2498791951860533: 0.0, -1.7690743311477188: 0.0, 1.0978376633689395: 0.0, -1.9643002145660913: 0.0, 1.2298375762145655: 0.0, -0.9311746905845719: 0.0, 1.066805432149785: 0.0, 0.8280852111155892: 1.0, -0.7792017369529497: 1.0, 0.9233258504788431: 1.0, 0.291981778818001: 1.0, 0.4306019918021382: 1.0, -0.34869659959110777: 1.0, -2.4854807479573546: 0.0, 1.170114707835546: 0.0, 0.20953193430697103: 1.0, -0.473358949009124: 1.0, -0.7647763698990564: 0.0, 1.0506086285976954: 0.0, 1.0045748718619723: 1.0, -0.9196502223518737: 1.0, 0.18442158079785553: 0.0, 0.735781266268227: 0.0, 0.932066414069649: 1.0, -0.40577546900369843: 1.0, -1.400661175669558: 0.0, -1.0201323536234457: 0.0, -0.7674628333663444: 0.0, 1.060789729326886: 0.0, 1.0422602719941008: 1.0, -1.4065854447534074: 1.0, -0.8290814657140122: 0.0, -1.3073565942735947: 0.0, -1.4057823484791592: 0.0, -0.7782757878515141: 0.0, 0.2576107611958206: 1.0, 1.5004602538766059: 1.0, 1.5467276451730663: 1.0, -2.05734762246756: 1.0, -2.496277178881657: 0.0, 1.1593779785339433: 0.0, -2.1662278498536973: 0.0, 1.2584298644709317: 0.0, 0.9508966152686393: 1.0, 0.011145776027603693: 1.0, 0.033798029499887194: 1.0, 1.98789116476358: 1.0, 0.1505489419409708: 1.0, 0.5221588088906943: 1.0, 1.4665509945682755: 0.0, 0.7904857500886712: 0.0, 0.6694166762344853: 1.0, 1.7899753150302362: 1.0, -0.2839087426484217: 0.0, -0.5231065603835731: 0.0, -1.114233103561793: 0.0, 1.1499273407233617: 0.0, 0.4520725657648812: 1.0, 0.9450489378954101: 1.0, 0.43681194388690625: 0.0, -0.5921300582304135: 0.0, -0.9193033561499595: 0.0, -0.1894440605762343: 0.0, 0.11143204732449341: 0.0, -1.227335743275865: 0.0, -1.5746317409196673: 0.0, -0.2240265755168599: 0.0, 1.8837118078095663: 1.0, -2.5156757900802793: 1.0, -2.5810672280133704: 0.0, -0.1642748667149838: 0.0, 0.6556805117146808: 1.0, -0.13955737455480965: 1.0, 1.1055749497049268: 1.0, 2.015599700968183: 1.0, -0.5164767532835088: 1.0, 1.6572595646833612: 1.0, 0.42956682840310045: 0.0, 0.9904581012621876: 0.0, -1.2876584353912168: 0.0, -1.3220655427125303: 0.0, -0.46607049375065557: 0.0, -1.1230065630597572: 0.0, -0.9083417187136514: 0.0, -1.1447312923782045: 0.0, 0.9354284705181881: 1.0, 0.024978089507002865: 1.0, 0.5899005519300221: 1.0, -1.3937376225098073: 1.0, 0.08514333064575508: 1.0, 1.2534333111293012: 1.0, 1.3073941879462359: 1.0, -1.269532394546487: 1.0, -0.9983340453030538: 0.0, -0.8306936627092292: 0.0, 0.15365603547178608: 1.0, 0.5659720184011632: 1.0, 1.0695025444096686: 1.0, -0.7518537084220498: 1.0, 1.1903495293158006: 1.0, -2.7164704085817206: 1.0, 0.9149692954828013: 1.0, -1.4416969032507982: 1.0, 1.076161716973254: 0.0, 0.8451602789047529: 0.0, -0.9360075721193407: 0.0, 0.9707271745316933: 0.0, 1.4818692143931016: 1.0, 0.7371780693544694: 1.0, -0.7837979313820993: 0.0, -1.370216755117027: 0.0, -0.38996974992917754: 0.0, -0.3760967192534953: 0.0, -1.7588205415473694: 0.0, -0.5602743847991147: 0.0, 1.2588274452815873: 1.0, 2.8797771455159715: 1.0, -2.3013129994938497: 0.0, 1.46525055642201: 0.0, 1.1832147521502734: 1.0, 0.1006571493108146: 1.0, 1.200953224621593: 0.0, 0.45975537105525066: 0.0, 1.8104096962956033: 1.0, 1.8112563124628087: 1.0, 0.06194329852599334: 0.0, -0.17544228494368141: 0.0, 1.9841375085270654: 1.0, 1.230091449863043: 1.0, 1.1638766912290497: 1.0, 1.7720185707177845: 1.0, -1.295755780638642: 0.0, -0.880838887821469: 0.0, 1.1857586904515165: 1.0, 1.2740675463768585: 1.0, -1.9502749421714949: 0.0, 1.1208783981229415: 0.0, 0.954406824511005: 1.0, -0.9156731268630257: 1.0, -0.7438185983410087: 0.0, -1.4545843770516753: 0.0, 0.6231550618731123: 1.0, -0.43895319494755347: 1.0, 1.4612273852487416: 1.0, -1.2504387007712907: 1.0, 1.77952709377803: 1.0, -0.6117109777898118: 1.0, 1.1807583012927882: 1.0, -2.2798628798775256: 1.0, 0.5691114136552543: 1.0, 2.547156919669545: 1.0, 0.5326274348937117: 0.0, -0.7703339537962698: 0.0, -1.2779032251988616: 0.0, -1.1651312707180288: 0.0, 1.7979346418870916: 1.0, -2.2107293133949852: 1.0, 1.482357337640499: 0.0, 0.7192381675330406: 0.0, 1.0832884266748408: 1.0, 0.08763727905045515: 1.0, -0.31487471657098964: 0.0, -0.8395037177579554: 0.0, -1.5125424201792597: 0.0, -0.572603790749882: 0.0, -0.4342332259989954: 0.0, -1.462946579327694: 0.0, 0.7317950036838958: 1.0, 1.1752561906151089: 1.0, 1.2669598032038294: 1.0, -0.8142796986882568: 1.0, -1.2583285318469724: 0.0, -1.0461971368694583: 0.0, 1.6541791995928858: 1.0, 1.6005489293437583: 1.0, 1.4414522346108454: 1.0, 1.049644805775967: 1.0, -0.4306501904776403: 1.0, 1.8272613011069643: 1.0, -1.5461731504463898: 0.0, 0.904273803547009: 0.0, 1.3007237917847037: 1.0, 1.34249620767346: 1.0, 1.456307036348292: 1.0, -3.251685740875668: 1.0, -1.0265540941911349: 0.0, -0.5770387373888515: 0.0, 1.1477268815232342: 1.0, -1.0654353822047176: 1.0, -3.5375905557804903: 0.0, 1.2533744062576648: 0.0, -1.867836500058918: 0.0, -0.40608484352157115: 0.0, 0.9879840938207797: 1.0, -1.480576165451704: 1.0, 0.7468696242517829: 1.0, 0.15463618105987986: 1.0, -0.6698537519667533: 0.0, 0.8091140390187626: 0.0, -1.6772033614716229: 0.0, -0.7457388125134753: 0.0, 1.3882841339955272: 1.0, -0.8858627399596114: 1.0, -1.495802725379205: 0.0, 1.3100687407617098: 0.0, 0.5679760972314879: 1.0, 1.454146421380611: 1.0, 1.1236287955011486: 0.0, 0.6421358483797623: 0.0, -0.8272288135071577: 0.0, -1.115695906923496: 0.0, -1.2211655992556538: 0.0, -1.2769249890312557: 0.0, -3.6982282176066588: 0.0, 1.5383160696480522: 0.0, -0.2742626303255751: 1.0, 0.21190877469057257: 1.0, 0.6377320472123917: 1.0, -0.14345612013602038: 1.0, -0.7218736230364833: 0.0, 0.8347779994754904: 0.0, -0.4940138926335833: 1.0, 0.5079926557488106: 1.0, 0.2526081447202584: 1.0, 1.1666993030232318: 1.0, -2.029099658908694: 0.0, 1.0992625538137129: 0.0, 0.549009773149914: 1.0, -0.15323041399523518: 1.0, 0.160643980747466: 0.0, 0.7700683424173567: 0.0, 1.7287117590077277: 1.0, -1.5835670829186814: 1.0, 0.12187919628511334: 0.0, -1.0124072683074625: 0.0, 1.5655854551280015: 1.0, 1.9035726158103978: 1.0, 1.2541409129361623: 1.0, -1.39221092214322: 1.0, 1.3668553775889758: 1.0, 0.7036668491038809: 1.0, 1.437136695890394: 1.0, -1.8784050699820778: 1.0, -1.0764266149289226: 0.0, 0.7213549130127845: 0.0, 0.717665556515942: 1.0, -1.2480023511804204: 1.0, 0.8685882602749897: 1.0, -1.4533987527789172: 1.0, 1.4595460681531751: 1.0, -0.5539740814892535: 1.0, 0.9428386235226597: 1.0, -0.6023440899838262: 1.0, -1.6169307852943622: 0.0, -1.6889815028914679: 0.0, -1.6724466430687592: 0.0, 1.0156465483822357: 0.0, 0.9680045627354975: 1.0, 1.0170499857541242: 1.0, -0.3274396659897443: 1.0, 1.3590809523243588: 1.0, -0.9716958717290842: 0.0, -1.0002925617602039: 0.0, 1.029766170255616: 1.0, -1.378272996914138: 1.0, 1.5410258755824566: 1.0, -2.037790170758778: 1.0, 0.7508730343750877: 1.0, -0.023625713658672276: 1.0, 2.3978443122304407: 1.0, 0.4690710083352283: 1.0, 2.0482811642802528: 1.0, 2.2265906834140274: 1.0, 0.9533286825844897: 1.0, 1.3729375163807207: 1.0, 0.5933923097961937: 1.0, 0.37578688887292033: 1.0, 1.5438846996544542: 1.0, 0.7655452699165662: 1.0, -0.9378566721588446: 1.0, 1.5544461573897936: 1.0, 1.3002088612246039: 1.0, -1.9482219810293877: 1.0, 0.3838047910661875: 1.0, 0.200725307038351: 1.0, -0.5077422877103042: 0.0, -1.047204445184254: 0.0, 0.7828614777796934: 1.0, 1.314573357909424: 1.0, -0.49460873877539846: 0.0, -1.1957584932432763: 0.0, -1.2061940228497097: 0.0, -0.12694584465257885: 0.0, 1.053825940000793: 0.0, 0.7307558168762753: 0.0, -0.4158634726343695: 0.0, -0.9552083280935662: 0.0, -1.8432497977875664: 0.0, 1.1203114350478904: 0.0, 1.1822163771956884: 1.0, -0.7929651717460203: 1.0, 1.3599760449510943: 1.0, -1.8608672711594973: 1.0, 1.4577424238894956: 1.0, 1.555187177831307: 1.0, 0.8541763477793063: 1.0, -0.3874095416004203: 1.0}\n"
     ]
    }
   ],
   "source": [
    "print(var_dict)"
   ]
  },
  {
   "cell_type": "markdown",
   "metadata": {},
   "source": [
    "Отметим, что такие признаки сами по себе являются классификаторами и, обучаясь на них, мы допускаем \"утечку\" целевой переменной в признаки. Это ведёт к переобучению, поэтому считать такие признаки необходимо таким образом, чтобы при вычислении для конкретного объекта его целевая метка не использовалась. Это можно делать следующими способами:\n",
    "- вычислять значение счётчика по всем объектам расположенным выше в датасете (например, если у нас выборка отсортирована по времени)\n",
    "- вычислять по фолдам, то есть делить выборку на некоторое количество частей и подсчитывать значение признаков по всем фолдам кроме текущего (как делается в кросс-валидации)\n",
    "- внесение некоторого шума в посчитанные признаки. "
   ]
  },
  {
   "cell_type": "markdown",
   "metadata": {},
   "source": [
    "## Часть 5 (бонус). Vowpal Wabbit"
   ]
  },
  {
   "cell_type": "markdown",
   "metadata": {},
   "source": [
    "В этой части мы научимся использовать библиотеку [vowpal wabbit](https://github.com/JohnLangford/vowpal_wabbit). У неё есть несколько особенностей:\n",
    "- можно обучать только линейные модели, но за счёт большого количества опций и возможностей по усложнению, можно построить и довольно сложные вещи\n",
    "- можно обучаться на выборках, которые не помещаются в оперативную память\n",
    "- можно обрабатывать большое количество признаков (например, мешки слов текстов) и \"на ходу\" строить на них комбинации (не переделывать датасет)\n",
    "- другие особенности, как например, активное обучение и возможность распараллеленного обучения.\n",
    "\n",
    "Основные особенности при использовании следующие:\n",
    "- Свой формат данных: \"label |A feature1:value1 |B feature2:value2\", позволяющий, во-первых, указывать не все признаки (не нужно хранить много нулей в разреженных данных), а во-вторых, группировать и иметь возможность отключать или взаимодействовать (\"отключать\", добавлять квадратичные признаки и т.д.) сразу со всей группой признаков. По этой причине вам понадобится реализовать конвертер датасета и загрузку своих предсказаний, чтобы посчитать качество предсказаний.\n",
    "- Запуск обучения из командной строки (однако можно запускать эти же команды из ноутбука).\n",
    "\n",
    "В этот раз мы будем использовать данные с конкурса [Kaggle Avazu Click-Through Rate Prediction](https://www.kaggle.com/c/avazu-ctr-prediction) по предсказанию кликов (бинарная классификация). В обучающей выборке 40kk строк, так что у вас не должно быть желания загружать их в оперативную память. Предлагается взять первые 30kk строк в качестве обучающей выборке и оставшуюся часть для тестирования.\n",
    "\n",
    "__Задание 1.__ Работа с vowpal wabbit. \n",
    "\n",
    "- Скачайте данные, разделите их на обучающую и тестовую выборки.\n",
    "- Подготовьте функции для конвертирования датасета в формат vowpal wabbit и для загрузки предсказаний в ноутбук для подсчёта функционала.\n",
    "- Сделайте простейшее решение на vowpal wabbit. Оцените качество.\n",
    "- Изучите возможности и параметры vowpal wabbit. Поэксперементируйте. \n",
    "- Расскажите, что интересного вы узнали (какие-нибудь особенности, режимы работы, фишки, параметры).\n",
    "- Удалось ли вам улучшить качество базовой модели? Насколько? Что ещё можно было бы попробовать?\n",
    "\n",
    "В этом задании предусмотрены баллы за достижение ROC-AUC на отложенной выборки более 0.738"
   ]
  },
  {
   "cell_type": "code",
   "execution_count": 103,
   "metadata": {},
   "outputs": [],
   "source": [
    "# Your code here\n",
    "# ..."
   ]
  }
 ],
 "metadata": {
  "kernelspec": {
   "display_name": "Python 3",
   "language": "python",
   "name": "python3"
  },
  "language_info": {
   "codemirror_mode": {
    "name": "ipython",
    "version": 3
   },
   "file_extension": ".py",
   "mimetype": "text/x-python",
   "name": "python",
   "nbconvert_exporter": "python",
   "pygments_lexer": "ipython3",
   "version": "3.6.7"
  }
 },
 "nbformat": 4,
 "nbformat_minor": 2
}
