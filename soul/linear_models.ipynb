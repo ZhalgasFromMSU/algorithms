{
 "cells": [
  {
   "cell_type": "markdown",
   "metadata": {},
   "source": [
    "## Машинное обучение, ВМК МГУ\n",
    "\n",
    "## Практическое задание 1\n",
    "\n",
    "### Общая информация\n",
    "Дата выдачи: 9 февраля 2019 г.\n",
    "\n",
    "Дедлайн: 9 марта 2019 г."
   ]
  },
  {
   "cell_type": "markdown",
   "metadata": {},
   "source": [
    "### О задании\n",
    "\n",
    "В этом задании вы:\n",
    "- обучите линейную регрессию, познакомитесь с метриками качества в задачах регресии\n",
    "- реализуете логистическую регрессию и её обучение градиентным спуском\n",
    "- настроите метод опорных векторов, визуализируете опорные вектора\n",
    "- познакомитесь с калибровочными кривыми и сравните вероятности, выдаваемые логистической регрессией и методом опорных векторов\n",
    "- изучите методы работы с категориальными переменными\n",
    "- в качестве бонуса попробуете библиотеку vowpal wabbit.\n",
    "\n",
    "\n",
    "### Оценивание и штрафы\n",
    "Сдавать задание после указанного срока сдачи нельзя. При выставлении неполного балла за задание в связи с наличием ошибок на усмотрение проверяющего предусмотрена возможность исправить работу на указанных в ответном письме условиях.\n",
    "\n",
    "Задание выполняется самостоятельно. «Похожие» решения считаются плагиатом и все задействованные студенты (в том числе те, у кого списали) не могут получить за него больше 0 баллов (подробнее о плагиате см. на странице курса).\n",
    "\n",
    "Неэффективная реализация кода может негативно отразиться на оценке."
   ]
  },
  {
   "cell_type": "code",
   "execution_count": 1,
   "metadata": {},
   "outputs": [
    {
     "name": "stdout",
     "output_type": "stream",
     "text": [
      "Populating the interactive namespace from numpy and matplotlib\n"
     ]
    }
   ],
   "source": [
    "%pylab inline\n",
    "import pandas as pd\n",
    "import numpy as np\n",
    "\n",
    "from sklearn.base import BaseEstimator\n",
    "from sklearn.datasets import load_diabetes\n",
    "from sklearn.model_selection import train_test_split\n",
    "from scipy import stats"
   ]
  },
  {
   "cell_type": "markdown",
   "metadata": {},
   "source": [
    "## Часть 1. Линейная регрессия"
   ]
  },
  {
   "cell_type": "markdown",
   "metadata": {},
   "source": [
    "В этой части мы кратко познакомимся с линейной регрессией.\n",
    "\n",
    "Для начала загрузим данные и разделим их на обучающую и тестовую выборки в соотношении 7 к 3."
   ]
  },
  {
   "cell_type": "code",
   "execution_count": 2,
   "metadata": {},
   "outputs": [
    {
     "name": "stderr",
     "output_type": "stream",
     "text": [
      "/home/zhalgas/.local/lib/python3.6/site-packages/sklearn/model_selection/_split.py:2179: FutureWarning: From version 0.21, test_size will always complement train_size unless both are specified.\n",
      "  FutureWarning)\n"
     ]
    }
   ],
   "source": [
    "data = load_diabetes()\n",
    "X_train, X_test, y_train, y_test = train_test_split(data.data, data.target, train_size=0.7, random_state=318)"
   ]
  },
  {
   "cell_type": "code",
   "execution_count": 3,
   "metadata": {
    "scrolled": true
   },
   "outputs": [
    {
     "name": "stdout",
     "output_type": "stream",
     "text": [
      ".. _diabetes_dataset:\n",
      "\n",
      "Diabetes dataset\n",
      "----------------\n",
      "\n",
      "Ten baseline variables, age, sex, body mass index, average blood\n",
      "pressure, and six blood serum measurements were obtained for each of n =\n",
      "442 diabetes patients, as well as the response of interest, a\n",
      "quantitative measure of disease progression one year after baseline.\n",
      "\n",
      "**Data Set Characteristics:**\n",
      "\n",
      "  :Number of Instances: 442\n",
      "\n",
      "  :Number of Attributes: First 10 columns are numeric predictive values\n",
      "\n",
      "  :Target: Column 11 is a quantitative measure of disease progression one year after baseline\n",
      "\n",
      "  :Attribute Information:\n",
      "      - Age\n",
      "      - Sex\n",
      "      - Body mass index\n",
      "      - Average blood pressure\n",
      "      - S1\n",
      "      - S2\n",
      "      - S3\n",
      "      - S4\n",
      "      - S5\n",
      "      - S6\n",
      "\n",
      "Note: Each of these 10 feature variables have been mean centered and scaled by the standard deviation times `n_samples` (i.e. the sum of squares of each column totals 1).\n",
      "\n",
      "Source URL:\n",
      "http://www4.stat.ncsu.edu/~boos/var.select/diabetes.html\n",
      "\n",
      "For more information see:\n",
      "Bradley Efron, Trevor Hastie, Iain Johnstone and Robert Tibshirani (2004) \"Least Angle Regression,\" Annals of Statistics (with discussion), 407-499.\n",
      "(http://web.stanford.edu/~hastie/Papers/LARS/LeastAngle_2002.pdf)\n"
     ]
    }
   ],
   "source": [
    "print(data.DESCR)"
   ]
  },
  {
   "cell_type": "code",
   "execution_count": 4,
   "metadata": {},
   "outputs": [
    {
     "data": {
      "text/plain": [
       "['age', 'sex', 'bmi', 'bp', 's1', 's2', 's3', 's4', 's5', 's6']"
      ]
     },
     "execution_count": 4,
     "metadata": {},
     "output_type": "execute_result"
    }
   ],
   "source": [
    "data.feature_names"
   ]
  },
  {
   "cell_type": "code",
   "execution_count": 5,
   "metadata": {
    "scrolled": false
   },
   "outputs": [
    {
     "name": "stdout",
     "output_type": "stream",
     "text": [
      "[[ 0.03807591  0.05068012  0.06169621  0.02187235 -0.0442235  -0.03482076\n",
      "  -0.04340085 -0.00259226  0.01990842 -0.01764613]\n",
      " [-0.00188202 -0.04464164 -0.05147406 -0.02632783 -0.00844872 -0.01916334\n",
      "   0.07441156 -0.03949338 -0.06832974 -0.09220405]\n",
      " [ 0.08529891  0.05068012  0.04445121 -0.00567061 -0.04559945 -0.03419447\n",
      "  -0.03235593 -0.00259226  0.00286377 -0.02593034]\n",
      " [-0.08906294 -0.04464164 -0.01159501 -0.03665645  0.01219057  0.02499059\n",
      "  -0.03603757  0.03430886  0.02269202 -0.00936191]\n",
      " [ 0.00538306 -0.04464164 -0.03638469  0.02187235  0.00393485  0.01559614\n",
      "   0.00814208 -0.00259226 -0.03199144 -0.04664087]\n",
      " [-0.09269548 -0.04464164 -0.04069594 -0.01944209 -0.06899065 -0.07928784\n",
      "   0.04127682 -0.0763945  -0.04118039 -0.09634616]\n",
      " [-0.04547248  0.05068012 -0.04716281 -0.01599922 -0.04009564 -0.02480001\n",
      "   0.00077881 -0.03949338 -0.06291295 -0.03835666]\n",
      " [ 0.06350368  0.05068012 -0.00189471  0.06662967  0.09061988  0.10891438\n",
      "   0.02286863  0.01770335 -0.03581673  0.00306441]\n",
      " [ 0.04170844  0.05068012  0.06169621 -0.04009932 -0.01395254  0.00620169\n",
      "  -0.02867429 -0.00259226 -0.01495648  0.01134862]\n",
      " [-0.07090025 -0.04464164  0.03906215 -0.03321358 -0.01257658 -0.03450761\n",
      "  -0.02499266 -0.00259226  0.06773633 -0.01350402]]\n"
     ]
    }
   ],
   "source": [
    "print(data.data[:10])"
   ]
  },
  {
   "cell_type": "code",
   "execution_count": 6,
   "metadata": {},
   "outputs": [
    {
     "data": {
      "text/plain": [
       "DescribeResult(nobs=442, minmax=(25.0, 346.0), mean=152.13348416289594, variance=5943.331347923785, skewness=0.43906639932477265, kurtosis=-0.8866436055681386)"
      ]
     },
     "execution_count": 6,
     "metadata": {},
     "output_type": "execute_result"
    }
   ],
   "source": [
    "stats.describe(data.target[:])"
   ]
  },
  {
   "cell_type": "code",
   "execution_count": 7,
   "metadata": {},
   "outputs": [
    {
     "data": {
      "text/plain": [
       "(2,)"
      ]
     },
     "execution_count": 7,
     "metadata": {},
     "output_type": "execute_result"
    }
   ],
   "source": [
    "np.unique(data.data[:, 1]).shape"
   ]
  },
  {
   "cell_type": "markdown",
   "metadata": {},
   "source": [
    "Видимо 0.05 для мужского, -0.04 для женского"
   ]
  },
  {
   "cell_type": "markdown",
   "metadata": {},
   "source": [
    "__Задание 1.__ Обучение линейной регрессии.\n",
    "\n",
    "Обучите линейную регрессию с $L_1$ (Lasso, http://scikit-learn.org/stable/modules/generated/sklearn.linear_model.Lasso.html) и $L_2$ (Ridge, http://scikit-learn.org/stable/modules/generated/sklearn.linear_model.Ridge.html) регуляризаторами (используйте параметры по умолчанию). Посмотрите, какое количество коэффициентов близко к 0 (степень близости к 0 определите сами из разумных пределов). Постройте график зависимости числа ненулевых коэффициентов от коэффицента регуляризации (перебирайте значения по логарифмической сетке от $10^{-3}$ до $10^3$). Согласуются ли результаты с вашими ожиданиями?"
   ]
  },
  {
   "cell_type": "code",
   "execution_count": 8,
   "metadata": {},
   "outputs": [],
   "source": [
    "from sklearn.linear_model import Lasso\n",
    "from sklearn.linear_model import Ridge"
   ]
  },
  {
   "cell_type": "code",
   "execution_count": 9,
   "metadata": {},
   "outputs": [],
   "source": [
    "from functools import reduce"
   ]
  },
  {
   "cell_type": "code",
   "execution_count": 10,
   "metadata": {},
   "outputs": [],
   "source": [
    "import matplotlib.pyplot as plt"
   ]
  },
  {
   "cell_type": "code",
   "execution_count": 11,
   "metadata": {},
   "outputs": [],
   "source": [
    "def coefs0_to_alpha(a):\n",
    "    clf = Lasso(alpha=a)\n",
    "    clf.fit(X_train, y_train)\n",
    "    return reduce(lambda x, y: x + (1 if abs(y) < 0.001 else 0), clf.coef_, 0)"
   ]
  },
  {
   "cell_type": "code",
   "execution_count": 12,
   "metadata": {
    "scrolled": true
   },
   "outputs": [
    {
     "data": {
      "image/png": "[encoded data removed]",
      "text/plain": [
       "<Figure size 432x288 with 1 Axes>"
      ]
     },
     "metadata": {
      "needs_background": "light"
     },
     "output_type": "display_data"
    }
   ],
   "source": [
    "a = [10**i for i in range(-3, 4)]\n",
    "plt.plot(a, list(map(coefs0_to_alpha, a)))\n",
    "plt.xscale(\"log\")\n",
    "plt.grid(True)\n",
    "plt.xlabel(\"Alpha\")\n",
    "plt.ylabel(\"Num of zero coefs\")\n",
    "plt.show()"
   ]
  },
  {
   "cell_type": "markdown",
   "metadata": {},
   "source": [
    "Посчитайте для Ridge-регрессии следующие метрики: $RMSE$, $MAE$, $R^2$."
   ]
  },
  {
   "cell_type": "code",
   "execution_count": 13,
   "metadata": {},
   "outputs": [],
   "source": [
    "from sklearn.metrics import mean_squared_error\n",
    "from sklearn.metrics import mean_absolute_error\n",
    "from sklearn.metrics import r2_score"
   ]
  },
  {
   "cell_type": "code",
   "execution_count": 14,
   "metadata": {},
   "outputs": [
    {
     "name": "stdout",
     "output_type": "stream",
     "text": [
      "RMSE: \t 3319.405217723009\n",
      "MAE: \t 47.7824170753989\n",
      "R2: \t 0.41154718374963595\n"
     ]
    }
   ],
   "source": [
    "clf = Ridge()\n",
    "clf.fit(X_train, y_train)\n",
    "y_pred = clf.predict(X_test)\n",
    "print(\"RMSE: \\t\", mean_squared_error(y_test, y_pred))\n",
    "print(\"MAE: \\t\", mean_absolute_error(y_test, y_pred))\n",
    "print(\"R2: \\t\", r2_score(y_test, y_pred))"
   ]
  },
  {
   "cell_type": "markdown",
   "metadata": {},
   "source": [
    "Подберите на обучающей выборке для Ridge-регрессии коэффициент регуляризации (перебирайте значения по логарифмической сетке от $10^{-3}$ до $10^3$) для каждой из метрик. Для этого воспользуйтесь GridSearchCV и KFold из sklearn. Постройте графики зависимости фукнции потерь от коэффициента регуляризации. Посчитайте те же метрики снова. Заметно ли изменилось качество?"
   ]
  },
  {
   "cell_type": "code",
   "execution_count": 15,
   "metadata": {},
   "outputs": [],
   "source": [
    "from sklearn.model_selection import GridSearchCV\n",
    "from sklearn.model_selection import KFold"
   ]
  },
  {
   "cell_type": "code",
   "execution_count": 16,
   "metadata": {},
   "outputs": [],
   "source": [
    "params = {\n",
    "    \"alpha\" : [10**i for i in range(-3, 4)]\n",
    "}"
   ]
  },
  {
   "cell_type": "code",
   "execution_count": 17,
   "metadata": {},
   "outputs": [],
   "source": [
    "X = data.data\n",
    "y = data.target"
   ]
  },
  {
   "cell_type": "code",
   "execution_count": 18,
   "metadata": {},
   "outputs": [],
   "source": [
    "kf = KFold(n_splits=10)"
   ]
  },
  {
   "cell_type": "code",
   "execution_count": 19,
   "metadata": {},
   "outputs": [],
   "source": [
    "metrics = ('neg_mean_absolute_error',\n",
    "          'neg_mean_squared_error',\n",
    "          'r2'\n",
    ")"
   ]
  },
  {
   "cell_type": "code",
   "execution_count": 20,
   "metadata": {},
   "outputs": [],
   "source": [
    "clf = GridSearchCV(Ridge(), params, scoring=metrics, refit='r2', cv=kf.split(X))"
   ]
  },
  {
   "cell_type": "code",
   "execution_count": 21,
   "metadata": {
    "scrolled": true
   },
   "outputs": [
    {
     "name": "stderr",
     "output_type": "stream",
     "text": [
      "/home/zhalgas/.local/lib/python3.6/site-packages/sklearn/model_selection/_search.py:841: DeprecationWarning: The default of the `iid` parameter will change from True to False in version 0.22 and will be removed in 0.24. This will change numeric results when test-set sizes are unequal.\n",
      "  DeprecationWarning)\n"
     ]
    },
    {
     "data": {
      "text/plain": [
       "GridSearchCV(cv=<generator object _BaseKFold.split at 0x7fc7af478c50>,\n",
       "       error_score='raise-deprecating',\n",
       "       estimator=Ridge(alpha=1.0, copy_X=True, fit_intercept=True, max_iter=None,\n",
       "   normalize=False, random_state=None, solver='auto', tol=0.001),\n",
       "       fit_params=None, iid='warn', n_jobs=None,\n",
       "       param_grid={'alpha': [0.001, 0.01, 0.1, 1, 10, 100, 1000]},\n",
       "       pre_dispatch='2*n_jobs', refit='r2', return_train_score='warn',\n",
       "       scoring=('neg_mean_absolute_error', 'neg_mean_squared_error', 'r2'),\n",
       "       verbose=0)"
      ]
     },
     "execution_count": 21,
     "metadata": {},
     "output_type": "execute_result"
    }
   ],
   "source": [
    "clf.fit(X, y)"
   ]
  },
  {
   "cell_type": "code",
   "execution_count": 22,
   "metadata": {
    "scrolled": true
   },
   "outputs": [
    {
     "name": "stdout",
     "output_type": "stream",
     "text": [
      "{'mean_fit_time': array([0.00056953, 0.00050735, 0.00043743, 0.00042622, 0.00043004,\n",
      "       0.0004106 , 0.0004343 ]), 'std_fit_time': array([1.67653117e-04, 4.83898098e-05, 2.42728498e-05, 2.52316367e-05,\n",
      "       6.39418049e-05, 2.13673598e-05, 8.55989241e-05]), 'mean_score_time': array([0.00062706, 0.00070145, 0.0006031 , 0.00055513, 0.00055225,\n",
      "       0.000544  , 0.00057118]), 'std_score_time': array([5.44379581e-05, 1.43324965e-04, 3.53226921e-05, 3.02504606e-05,\n",
      "       2.35460649e-05, 1.11242389e-05, 3.53826426e-05]), 'param_alpha': masked_array(data=[0.001, 0.01, 0.1, 1, 10, 100, 1000],\n",
      "             mask=[False, False, False, False, False, False, False],\n",
      "       fill_value='?',\n",
      "            dtype=object), 'params': [{'alpha': 0.001}, {'alpha': 0.01}, {'alpha': 0.1}, {'alpha': 1}, {'alpha': 10}, {'alpha': 100}, {'alpha': 1000}], 'split0_test_neg_mean_absolute_error': array([-41.06669238, -41.53303858, -42.21428642, -45.78291192,\n",
      "       -57.03221478, -62.76918402, -63.54974385]), 'split1_test_neg_mean_absolute_error': array([-43.56097288, -43.19475026, -43.5216644 , -46.82301244,\n",
      "       -53.03853262, -55.95290131, -56.37803884]), 'split2_test_neg_mean_absolute_error': array([-48.9691061 , -48.51297504, -47.69544137, -47.38789662,\n",
      "       -56.0636687 , -61.54180341, -62.27451389]), 'split3_test_neg_mean_absolute_error': array([-42.49270682, -42.90740868, -43.6577255 , -48.48427569,\n",
      "       -66.79763813, -73.83678224, -74.82516624]), 'split4_test_neg_mean_absolute_error': array([-50.67934318, -50.54113237, -50.3967024 , -52.72173179,\n",
      "       -57.20997808, -59.07422169, -59.49296965]), 'split5_test_neg_mean_absolute_error': array([-45.02175249, -44.7162844 , -45.35901593, -52.01986609,\n",
      "       -67.58020834, -73.78805558, -74.65867537]), 'split6_test_neg_mean_absolute_error': array([-46.87512816, -46.28828323, -46.7608881 , -53.00527543,\n",
      "       -65.33396435, -70.43249784, -71.11084231]), 'split7_test_neg_mean_absolute_error': array([-38.43444724, -38.69572501, -38.22835481, -38.30457619,\n",
      "       -48.92267801, -54.5862162 , -55.38557508]), 'split8_test_neg_mean_absolute_error': array([-52.47609763, -52.56018181, -52.58333109, -57.36419817,\n",
      "       -71.22973443, -76.38560449, -77.07954012]), 'split9_test_neg_mean_absolute_error': array([-32.52103901, -32.97204189, -34.20407139, -42.77214074,\n",
      "       -57.78613784, -63.20487127, -63.90427055]), 'mean_test_neg_mean_absolute_error': array([-44.20114987, -44.18390933, -44.45493469, -48.45679834,\n",
      "       -60.07656104, -65.13098679, -65.83922752]), 'std_test_neg_mean_absolute_error': array([5.67977316, 5.46183078, 5.1701789 , 5.25574235, 6.82282389,\n",
      "       7.47857802, 7.56950675]), 'rank_test_neg_mean_absolute_error': array([2, 1, 3, 4, 5, 6, 7], dtype=int32), 'split0_train_neg_mean_absolute_error': array([-43.74077261, -43.77779661, -44.12052965, -48.36017774,\n",
      "       -60.18357115, -65.3178776 , -66.03356445]), 'split1_train_neg_mean_absolute_error': array([-43.3722585 , -43.48153066, -43.8723568 , -48.09970465,\n",
      "       -60.65722168, -66.37284249, -67.16885628]), 'split2_train_neg_mean_absolute_error': array([-42.75984444, -42.88998328, -43.29167482, -47.90061478,\n",
      "       -60.10684237, -65.24765365, -65.9661254 ]), 'split3_train_neg_mean_absolute_error': array([-43.37232941, -43.41145709, -43.74042739, -48.23229402,\n",
      "       -59.22147203, -63.83597048, -64.47483079]), 'split4_train_neg_mean_absolute_error': array([-42.4336487 , -42.499546  , -42.9162901 , -47.30612147,\n",
      "       -60.00654878, -65.6961009 , -66.47323312]), 'split5_train_neg_mean_absolute_error': array([-43.02524443, -43.15509273, -43.57725545, -47.95752666,\n",
      "       -59.20227925, -63.97117098, -64.62907035]), 'split6_train_neg_mean_absolute_error': array([-43.00591761, -43.07919706, -43.44003917, -47.44004021,\n",
      "       -59.24304018, -64.39017651, -65.10664077]), 'split7_train_neg_mean_absolute_error': array([-43.80854757, -43.8416335 , -44.19534835, -48.78974436,\n",
      "       -60.92510113, -65.96244112, -66.65807603]), 'split8_train_neg_mean_absolute_error': array([-42.21758617, -42.25995893, -42.59821492, -46.92408015,\n",
      "       -58.5928891 , -63.63390835, -64.33606222]), 'split9_train_neg_mean_absolute_error': array([-44.57999272, -44.59856175, -44.96562734, -48.90619319,\n",
      "       -60.11857385, -65.1720784 , -65.88203146]), 'mean_train_neg_mean_absolute_error': array([-43.23161422, -43.29947576, -43.6717764 , -47.99164972,\n",
      "       -59.82575395, -64.96002205, -65.67284909]), 'std_train_neg_mean_absolute_error': array([0.6656498 , 0.64912019, 0.64225463, 0.60017679, 0.69561235,\n",
      "       0.9012823 , 0.93496101]), 'split0_test_neg_mean_squared_error': array([-2543.72148595, -2590.06134929, -2702.79005594, -3301.96494269,\n",
      "       -4798.8270357 , -5637.539312  , -5763.5357654 ]), 'split1_test_neg_mean_squared_error': array([-2859.10983049, -2820.135045  , -2816.94451556, -3102.53213528,\n",
      "       -4033.85714674, -4605.8296422 , -4694.02096845]), 'split2_test_neg_mean_squared_error': array([-3495.21984883, -3429.45682256, -3349.96032893, -3488.67311549,\n",
      "       -4607.08733604, -5360.61907107, -5476.75260989]), 'split3_test_neg_mean_squared_error': array([-2771.23802255, -2818.87002656, -2870.96358115, -3556.84409157,\n",
      "       -6088.54860502, -7391.26805179, -7578.51357228]), 'split4_test_neg_mean_squared_error': array([-3550.07612191, -3527.38653156, -3457.75302351, -3463.40031474,\n",
      "       -4265.37288899, -4819.99853246, -4906.07072365]), 'split5_test_neg_mean_squared_error': array([-2891.23438009, -2863.19058498, -2901.59768969, -3689.87961719,\n",
      "       -6176.43116193, -7424.42855953, -7603.54329649]), 'split6_test_neg_mean_squared_error': array([-3685.1758825 , -3646.00156761, -3613.2476307 , -3886.31144729,\n",
      "       -5348.06988718, -6212.79643834, -6341.50291888]), 'split7_test_neg_mean_squared_error': array([-2290.90099057, -2324.27544648, -2255.46867777, -2083.09960985,\n",
      "       -3217.27557469, -4080.55755448, -4212.96596633]), 'split8_test_neg_mean_squared_error': array([-4129.7823984 , -4158.55279255, -4140.44542176, -4398.96266916,\n",
      "       -6169.30455351, -7175.48088874, -7323.01462846]), 'split9_test_neg_mean_squared_error': array([-1773.63018588, -1796.55783956, -1900.41267891, -2673.64219081,\n",
      "       -4563.68591872, -5481.49907757, -5614.83866918]), 'mean_test_neg_mean_squared_error': array([-2997.66233889, -2996.12594721, -2999.86745055, -3363.79670357,\n",
      "       -4924.53603836, -5815.84643121, -5948.20578726]), 'std_test_neg_mean_squared_error': array([ 676.53753029,  660.56829293,  624.92493037,  607.22002931,\n",
      "        949.6171828 , 1134.41889792, 1159.99037698]), 'rank_test_neg_mean_squared_error': array([2, 1, 3, 4, 5, 6, 7], dtype=int32), 'split0_train_neg_mean_squared_error': array([-2904.89295405, -2909.38444167, -2929.96112323, -3310.57831824,\n",
      "       -4890.18486262, -5797.67561836, -5932.20677471]), 'split1_train_neg_mean_squared_error': array([-2863.56330028, -2873.74381138, -2905.59418326, -3306.42753204,\n",
      "       -4953.76472901, -5918.60597444, -6063.16862558]), 'split2_train_neg_mean_squared_error': array([-2802.86187648, -2814.00572732, -2848.28886375, -3263.41791405,\n",
      "       -4899.65343657, -5826.0740384 , -5963.13556046]), 'split3_train_neg_mean_squared_error': array([-2879.61108562, -2882.63165484, -2903.09399708, -3309.85218402,\n",
      "       -4800.99771497, -5614.93768726, -5734.62371416]), 'split4_train_neg_mean_squared_error': array([-2788.08832813, -2796.23425845, -2825.98655181, -3250.01485874,\n",
      "       -4918.95912161, -5881.88592336, -6025.95205335]), 'split5_train_neg_mean_squared_error': array([-2865.19112945, -2874.51977109, -2905.20504911, -3301.02349496,\n",
      "       -4784.49865015, -5607.21909914, -5728.71925437]), 'split6_train_neg_mean_squared_error': array([-2785.7063499 , -2795.07520266, -2825.74071323, -3235.97034688,\n",
      "       -4832.93327891, -5733.45177101, -5867.17952634]), 'split7_train_neg_mean_squared_error': array([-2930.22465726, -2935.24333873, -2957.67513834, -3396.86310097,\n",
      "       -5061.99774119, -5970.9508668 , -6104.51038621]), 'split8_train_neg_mean_squared_error': array([-2723.11602579, -2728.22438269, -2751.550562  , -3176.80039353,\n",
      "       -4755.62570668, -5629.97197937, -5759.45207513]), 'split9_train_neg_mean_squared_error': array([-2985.349837  , -2991.62535535, -3016.2329145 , -3398.70225192,\n",
      "       -4926.92762826, -5814.81103915, -5947.52504033]), 'mean_train_neg_mean_squared_error': array([-2852.8605544 , -2860.06879442, -2886.93290963, -3294.96503953,\n",
      "       -4882.554287  , -5779.55839973, -5912.64730107]), 'std_train_neg_mean_squared_error': array([ 74.34164834,  73.5520655 ,  71.97107897,  64.99008888,\n",
      "        87.03751123, 123.07462991, 129.4265016 ]), 'split0_test_r2': array([ 0.55441459,  0.5462972 ,  0.52655044,  0.42159257,  0.15938622,\n",
      "        0.01246842, -0.00960246]), 'split1_test_r2': array([ 0.23368553,  0.24413177,  0.24498691,  0.16844213, -0.08117676,\n",
      "       -0.23448   , -0.25811753]), 'split2_test_r2': array([ 0.35679885,  0.36890076,  0.38352995,  0.3580036 ,  0.15218956,\n",
      "        0.01352232, -0.00784893]), 'split3_test_r2': array([ 0.62025913,  0.61373215,  0.60659381,  0.51260807,  0.16569031,\n",
      "       -0.01282045, -0.03847858]), 'split4_test_r2': array([ 0.2670326 ,  0.27171721,  0.28609411,  0.28492814,  0.11934866,\n",
      "        0.00483773, -0.01293318]), 'split5_test_r2': array([ 0.61939736,  0.62308905,  0.61803313,  0.51426355,  0.18693344,\n",
      "        0.02264683, -0.00093187]), 'split6_test_r2': array([0.41990738, 0.42607391, 0.43122979, 0.38824614, 0.15814714,\n",
      "       0.0220284 , 0.0017684 ]), 'split7_test_r2': array([ 0.43301859,  0.42475865,  0.44178783,  0.48444792,  0.20374758,\n",
      "       -0.00990846, -0.04267858]), 'split8_test_r2': array([ 0.43343111,  0.42948407,  0.43196824,  0.396502  ,  0.15362707,\n",
      "        0.01558875, -0.00465155]), 'split9_test_r2': array([0.68498427, 0.68091207, 0.66246634, 0.52513249, 0.18944046,\n",
      "       0.02642701, 0.00274447]), 'mean_test_r2': array([ 0.46198415,  0.46260337,  0.46297312,  0.40491712,  0.14027351,\n",
      "       -0.01440803, -0.03751093]), 'std_test_r2': array([0.14598881, 0.14156377, 0.13282064, 0.10872728, 0.07784603,\n",
      "       0.07513707, 0.0757639 ]), 'rank_test_r2': array([3, 2, 1, 4, 5, 6, 7], dtype=int32), 'split0_train_r2': array([0.51160837, 0.51085323, 0.50739373, 0.44340162, 0.17782673,\n",
      "       0.02525282, 0.00263447]), 'split1_train_r2': array([0.52902171, 0.52734729, 0.52210877, 0.45618259, 0.18524042,\n",
      "       0.02655027, 0.00277364]), 'split2_train_r2': array([0.53122318, 0.52935937, 0.52362554, 0.45419548, 0.18053615,\n",
      "       0.02559291, 0.00266946]), 'split3_train_r2': array([0.49907192, 0.49854647, 0.49498691, 0.42422853, 0.16483355,\n",
      "       0.02324312, 0.00242291]), 'split4_train_r2': array([0.5386065 , 0.53725845, 0.53233482, 0.46216348, 0.18597422,\n",
      "       0.02662197, 0.00278084]), 'split5_train_r2': array([0.50108693, 0.49946254, 0.49411935, 0.42519585, 0.1668797 ,\n",
      "       0.02362015, 0.00246344]), 'split6_train_r2': array([0.5264629 , 0.52487031, 0.51965754, 0.44992335, 0.17845856,\n",
      "       0.02538108, 0.00264895]), 'split7_train_r2': array([0.5212092 , 0.52038916, 0.51672386, 0.44496173, 0.17288323,\n",
      "       0.02436274, 0.00253947]), 'split8_train_r2': array([0.52842682, 0.52754218, 0.52350269, 0.44986043, 0.17644877,\n",
      "       0.02503464, 0.00261204]), 'split9_train_r2': array([0.49935445, 0.49830204, 0.49417533, 0.43003492, 0.17375031,\n",
      "       0.02485155, 0.00259531]), 'mean_train_r2': array([0.5186072 , 0.51739311, 0.51286285, 0.4440148 , 0.17628316,\n",
      "       0.02505112, 0.00261405]), 'std_train_r2': array([0.01393106, 0.01374313, 0.01343415, 0.0126195 , 0.00660964,\n",
      "       0.00104827, 0.00011096])}\n"
     ]
    }
   ],
   "source": [
    "print(clf.cv_results_)"
   ]
  },
  {
   "cell_type": "code",
   "execution_count": 23,
   "metadata": {},
   "outputs": [
    {
     "name": "stderr",
     "output_type": "stream",
     "text": [
      "/home/zhalgas/.local/lib/python3.6/site-packages/sklearn/utils/deprecation.py:125: FutureWarning: You are accessing a training score ('mean_train_neg_mean_absolute_error'), which will not be available by default any more in 0.21. If you need training scores, please set return_train_score=True\n",
      "  warnings.warn(*warn_args, **warn_kwargs)\n"
     ]
    },
    {
     "data": {
      "image/png": "[encoded data removed]",
      "text/plain": [
       "<Figure size 432x288 with 1 Axes>"
      ]
     },
     "metadata": {
      "needs_background": "light"
     },
     "output_type": "display_data"
    }
   ],
   "source": [
    "plt.plot(params['alpha'], clf.cv_results_['mean_train_neg_mean_absolute_error'])\n",
    "plt.xscale('log')\n",
    "plt.ylabel(\"Mean score for MAE\")\n",
    "plt.xlabel(\"Alpha\")\n",
    "\n",
    "plt.show()"
   ]
  },
  {
   "cell_type": "code",
   "execution_count": 24,
   "metadata": {},
   "outputs": [
    {
     "name": "stderr",
     "output_type": "stream",
     "text": [
      "/home/zhalgas/.local/lib/python3.6/site-packages/sklearn/utils/deprecation.py:125: FutureWarning: You are accessing a training score ('mean_train_neg_mean_squared_error'), which will not be available by default any more in 0.21. If you need training scores, please set return_train_score=True\n",
      "  warnings.warn(*warn_args, **warn_kwargs)\n"
     ]
    },
    {
     "data": {
      "image/png": "[encoded data removed]",
      "text/plain": [
       "<Figure size 432x288 with 1 Axes>"
      ]
     },
     "metadata": {
      "needs_background": "light"
     },
     "output_type": "display_data"
    }
   ],
   "source": [
    "plt.plot(params['alpha'], clf.cv_results_['mean_train_neg_mean_squared_error'])\n",
    "plt.xscale('log')\n",
    "plt.ylabel(\"Mean score for RMSE\")\n",
    "plt.xlabel(\"Alpha\")\n",
    "\n",
    "plt.show()"
   ]
  },
  {
   "cell_type": "code",
   "execution_count": 25,
   "metadata": {},
   "outputs": [
    {
     "name": "stderr",
     "output_type": "stream",
     "text": [
      "/home/zhalgas/.local/lib/python3.6/site-packages/sklearn/utils/deprecation.py:125: FutureWarning: You are accessing a training score ('mean_train_r2'), which will not be available by default any more in 0.21. If you need training scores, please set return_train_score=True\n",
      "  warnings.warn(*warn_args, **warn_kwargs)\n"
     ]
    },
    {
     "data": {
      "image/png": "[encoded data removed]",
      "text/plain": [
       "<Figure size 432x288 with 1 Axes>"
      ]
     },
     "metadata": {
      "needs_background": "light"
     },
     "output_type": "display_data"
    }
   ],
   "source": [
    "plt.plot(params['alpha'], clf.cv_results_['mean_train_r2'])\n",
    "plt.xscale('log')\n",
    "plt.ylabel(\"Mean score for R2\")\n",
    "plt.xlabel(\"Alpha\")\n",
    "\n",
    "plt.show()"
   ]
  },
  {
   "cell_type": "markdown",
   "metadata": {},
   "source": [
    "Умножаю на -1, потому что все значения отрицательны. Видимо это нужно для того, чтобы лучший скор брался по умолчанию как максимум из всех скоров"
   ]
  },
  {
   "cell_type": "code",
   "execution_count": 26,
   "metadata": {},
   "outputs": [
    {
     "name": "stdout",
     "output_type": "stream",
     "text": [
      "Лучший результат, согласно метрике R2 на тесте: \t 0.4629731248280685\n",
      "Лучший результат, согласно метрике MAE на тесте: \t 44.18390933228846\n",
      "Лучший результат, согласно метрике RMSE на тесте: \t 2996.125947205788\n"
     ]
    }
   ],
   "source": [
    "print(\"Лучший результат, согласно метрике R2 на тесте: \\t\", clf.best_score_)\n",
    "print(\"Лучший результат, согласно метрике MAE на тесте: \\t\",\n",
    "          -1 * np.max(clf.cv_results_['mean_test_neg_mean_absolute_error']))\n",
    "print(\"Лучший результат, согласно метрике RMSE на тесте: \\t\",\n",
    "          -1 * np.max(clf.cv_results_['mean_test_neg_mean_squared_error']))"
   ]
  },
  {
   "cell_type": "markdown",
   "metadata": {},
   "source": [
    "Можно заметить, что все метрики дали лучшие показатели."
   ]
  },
  {
   "cell_type": "markdown",
   "metadata": {
    "collapsed": true
   },
   "source": [
    "__Задание 2.__ Поиск объектов-выбросов\n",
    "\n",
    "Как известно, MSE сильно штрафует за большие ошибки на объектах-выбросах. С помощью cross_val_predict сделайте Out-of-Fold предсказания для обучающей выборки. Посчитайте ошибки и посмотрите на их распределение (plt.hist). Что вы видите?"
   ]
  },
  {
   "cell_type": "code",
   "execution_count": 27,
   "metadata": {},
   "outputs": [],
   "source": [
    "from sklearn.model_selection import cross_val_predict"
   ]
  },
  {
   "cell_type": "code",
   "execution_count": 28,
   "metadata": {},
   "outputs": [],
   "source": [
    "clf = Ridge(alpha=0.1)\n",
    "y_pred = cross_val_predict(clf, X_train, y_train, cv=kf.split(X_train))"
   ]
  },
  {
   "cell_type": "code",
   "execution_count": 29,
   "metadata": {},
   "outputs": [
    {
     "data": {
      "image/png": "[encoded data removed]",
      "text/plain": [
       "<Figure size 432x288 with 1 Axes>"
      ]
     },
     "metadata": {
      "needs_background": "light"
     },
     "output_type": "display_data"
    }
   ],
   "source": [
    "fig, ax = plt.subplots()\n",
    "ax.scatter(y_train, y_pred, edgecolors=(0, 0, 0))\n",
    "ax.plot([y_train.min(), y_train.max()], [y_train.min(), y_train.max()], 'k--', lw=4)\n",
    "ax.set_xlabel('Measured')\n",
    "ax.set_ylabel('Predicted')\n",
    "plt.show()"
   ]
  },
  {
   "cell_type": "code",
   "execution_count": 30,
   "metadata": {},
   "outputs": [
    {
     "data": {
      "image/png": "[encoded data removed]",
      "text/plain": [
       "<Figure size 432x288 with 1 Axes>"
      ]
     },
     "metadata": {
      "needs_background": "light"
     },
     "output_type": "display_data"
    }
   ],
   "source": [
    "plt.hist(y_pred)\n",
    "plt.show()"
   ]
  },
  {
   "cell_type": "code",
   "execution_count": 31,
   "metadata": {},
   "outputs": [
    {
     "name": "stdout",
     "output_type": "stream",
     "text": [
      "На обучающей выборке R2 метрика равна: \t\t 0.49601848630080214\n",
      "На обучающей выборке RMSE метрика равна: \t 3051.155399990245\n",
      "На обучающей выборке MAE метрика равна: \t 45.33129060451274\n"
     ]
    }
   ],
   "source": [
    "print(\"На обучающей выборке R2 метрика равна: \\t\\t\", r2_score(y_train, y_pred))\n",
    "print(\"На обучающей выборке RMSE метрика равна: \\t\", mean_squared_error(y_train, y_pred))\n",
    "print(\"На обучающей выборке MAE метрика равна: \\t\", mean_absolute_error(y_train, y_pred))"
   ]
  },
  {
   "cell_type": "markdown",
   "metadata": {},
   "source": [
    "Можно заметить, что большинство предиктов находятся в районе 140-160"
   ]
  },
  {
   "cell_type": "markdown",
   "metadata": {},
   "source": [
    "Попробуйте удалить объекты-выбросы из обучающей выборки (что считать или не считать выбросами на ваше усмотрение). Обучите модель заново и посмотрите на качество на отложенной выборке (учитывайте, что там тоже могут быть выбросы, с которыми вы ничего не можете сделать). Стало ли лучше? Чем вы можете объяснить это?"
   ]
  },
  {
   "cell_type": "markdown",
   "metadata": {},
   "source": [
    "Я буду считать выбросами те объекты, для которых разница между предиктом и настоящим значением больше, чем 30% от размаха всех значений."
   ]
  },
  {
   "cell_type": "code",
   "execution_count": 32,
   "metadata": {},
   "outputs": [],
   "source": [
    "max_err = (y_train.max() - y_train.min()) * 0.3\n",
    "X_new = []\n",
    "y_new = []\n",
    "for i in range(X_train.shape[0]):\n",
    "    if not (abs(y_pred[i] - y_train[i]) > max_err):\n",
    "        X_new.append(X_train[i])\n",
    "        y_new.append(y_train[i])\n",
    "X_new = np.array(X_new)\n",
    "y_new = np.array(y_new)"
   ]
  },
  {
   "cell_type": "code",
   "execution_count": 33,
   "metadata": {},
   "outputs": [
    {
     "name": "stdout",
     "output_type": "stream",
     "text": [
      "Количество объектов-выбросов:  23\n"
     ]
    }
   ],
   "source": [
    "print(\"Количество объектов-выбросов: \", X_train.shape[0] - X_new.shape[0])"
   ]
  },
  {
   "cell_type": "code",
   "execution_count": 34,
   "metadata": {},
   "outputs": [
    {
     "data": {
      "text/plain": [
       "Ridge(alpha=0.1, copy_X=True, fit_intercept=True, max_iter=None,\n",
       "   normalize=False, random_state=None, solver='auto', tol=0.001)"
      ]
     },
     "execution_count": 34,
     "metadata": {},
     "output_type": "execute_result"
    }
   ],
   "source": [
    "clf.fit(X_new, y_new)"
   ]
  },
  {
   "cell_type": "code",
   "execution_count": 35,
   "metadata": {
    "scrolled": true
   },
   "outputs": [],
   "source": [
    "y_pred = clf.predict(X_test)"
   ]
  },
  {
   "cell_type": "code",
   "execution_count": 36,
   "metadata": {},
   "outputs": [
    {
     "name": "stdout",
     "output_type": "stream",
     "text": [
      "На тестовой выборке R2 метрика, для классификатора без выбросов, равна: \t 0.47407483207851964\n",
      "На тестовой выборке RMSE метрика, для классификатора без выбросов, равна: \t 2966.692822806814\n",
      "На тестовой выборке MAE метрика, для классификатора без выбросов, равна: \t 43.58080253122254\n"
     ]
    }
   ],
   "source": [
    "print(\"На тестовой выборке R2 метрика, для классификатора без выбросов, равна: \\t\", r2_score(y_test, y_pred))\n",
    "print(\"На тестовой выборке RMSE метрика, для классификатора без выбросов, равна: \\t\", mean_squared_error(y_test, y_pred))\n",
    "print(\"На тестовой выборке MAE метрика, для классификатора без выбросов, равна: \\t\", mean_absolute_error(y_test, y_pred))"
   ]
  },
  {
   "cell_type": "code",
   "execution_count": 37,
   "metadata": {},
   "outputs": [],
   "source": [
    "clf.fit(X_train, y_train)\n",
    "y_pred = clf.predict(X_test)"
   ]
  },
  {
   "cell_type": "code",
   "execution_count": 38,
   "metadata": {},
   "outputs": [
    {
     "name": "stdout",
     "output_type": "stream",
     "text": [
      "На тестовой выборке R2 метрика, для классификатора с выбросами равна: \t\t 0.4822640116723962\n",
      "На тестовой выборке RMSE метрика, для классификатора с выбросами равна: \t 2920.4984556084432\n",
      "На тестовой выборке MAE метрика, для классификатора с выбросами равна: \t\t 43.11894259524007\n"
     ]
    }
   ],
   "source": [
    "print(\"На тестовой выборке R2 метрика, для классификатора с выбросами равна: \\t\\t\", r2_score(y_test, y_pred))\n",
    "print(\"На тестовой выборке RMSE метрика, для классификатора с выбросами равна: \\t\", mean_squared_error(y_test, y_pred))\n",
    "print(\"На тестовой выборке MAE метрика, для классификатора с выбросами равна: \\t\\t\", mean_absolute_error(y_test, y_pred))"
   ]
  },
  {
   "cell_type": "markdown",
   "metadata": {},
   "source": [
    "Можно заметить, что ошибка не сильно изменилась. Скорее всего, дело в том, что линейная зависимость в данных не сильно выявляется, поэтому классификатор будет давать большую ошибку, несмотря на наличие выбросов"
   ]
  },
  {
   "cell_type": "markdown",
   "metadata": {},
   "source": [
    "## Часть 2. Логистическая регрессия"
   ]
  },
  {
   "cell_type": "markdown",
   "metadata": {},
   "source": [
    "В этой части мы будем реализовывать один из самых простых бинарных классификаторов — логистическую регрессию и её обучение с помощью обычного (полного) и стохастического градиентных спусков.\n",
    "\n",
    "Если кратко, то обучение логистической регрессии с $L_2$-регуляризацией можно записать следующим образом:\n",
    "\n",
    "$$\n",
    "Q(w, X) = \\frac{1}{l} \\sum_{i=1}^{l} \\log (1 + \\exp(- y_i \\langle w, x_i \\rangle )) + \\frac{\\lambda_2}{2} \\lVert w \\rVert _2^2 \\to \\min_w\n",
    "$$\n",
    "\n",
    "Считаем, что $y_i \\in \\{-1, +1\\}$, а нулевым признаком сделан единичный (то есть $w_0$ соответствует свободному члену). Искать $w$ будем с помощью градиентного спуска:\n",
    "\n",
    "$$\n",
    "w^{(k+1)} = w^{(k)} - \\alpha \\nabla_w Q(w, X)\n",
    "$$\n",
    "\n",
    "В случае полного градиентного спуска $\\nabla_w Q(w, X)$ считается напрямую (как есть, то есть, используя все объекты выборки). В случае стохастического градиентного спуска $\\nabla_w Q(w, X) \\approx \\nabla_w q_{i_k} (w)$, где $i_k$ — случайно выбранный номер слагаемого из функционала (регуляризатор можно внести в сумму, предварительно умножив и разделив на $l$). Длину шага $\\alpha > 0$ в рамках данного задания предлагается брать равной некоторой малой константе.\n",
    "\n",
    "Градиент по объекту $x_i$ считается по следующей формуле:\n",
    "\n",
    "$$\n",
    "\\nabla_w Q(w, x_i) = - \\frac{y_i x_i}{1 + \\exp(y_i \\langle w, x_i \\rangle)} + \\lambda_2 w\n",
    "$$\n",
    "\n",
    "На самом деле неправильно регуляризировать свободный член $w_0$ (то есть при добавлении градиента для $w_0$ не надо учитывать слагаемое с $\\lambda_2$). Но в рамках этого задания мы не обращаем на это внимания и работаем со всеми вектором весов одинаково. \n",
    "\n",
    "В качестве критерия останова необходимо использовать (одновременно):\n",
    "- проверку на евклидовую норму разности весов на двух соседних итерациях (например, меньше некоторого малого числа порядка $10^{-6}$) — параметр tolerance\n",
    "- достижение максимального числа итераций (например, 10000) — параметр max\\_iter.\n",
    "\n",
    "Инициализировать веса можно случайным образом или нулевым вектором.\n",
    "\n",
    "Вероятность принадлежности объекта $x$ классу $+1$ вычисляется следующим образом:\n",
    "\n",
    "$$\n",
    "P(y = +1 | x) = \\frac{1}{1 + \\exp(- \\langle w, x \\rangle )}\n",
    "$$\n",
    "\n",
    "Не забывайте, что матрицу объекты-признаки $X$ необходимо предварительно нормировать (то есть привести каждый признак к одному и тому же масштабу одним из 2 способов, разобранных на лекциях). Для этого можно воспользоваться StandardScaler или сделать это вручную.\n",
    "\n",
    "В логистической регрессии также можно использовать $L_1$-регуляризацию. Тогда в функцию потерь добавится слагаемое $\\lambda_1 \\lVert w \\rVert _1$. В формуле для вычисления градиента фукнции потерь по вектору коэффициентов это слагаемое будет соответствовать $\\lambda_1 sgn(w)$, где $sgn$ — вычисление знака числа, применяемое к вектору коэффициентов поэлементо."
   ]
  },
  {
   "cell_type": "markdown",
   "metadata": {},
   "source": [
    "__Задание 1.__ Реализация обучения и применения логистической регресии c $L_2$-регуляризацией. \n",
    "\n",
    "Используйте для этого указанные ниже прототипы. Для эффективности все вычисления производите в векторизованной форме без циклов (кроме самих итераций градиентного спуска). Сгенерируйте с помощью функции make\\_classification из модуля sklearn.datasets небольшую выборку для тестирования и исследования (выборка не должна быть слишком простой для классификации; также не забудьте проверить, что метки объектов из необходимого нам множества). Постройте следующие графики (для полного и стохастического градиентного спуска на одном графике):\n",
    "- функции потерь от номера итерации обучения\n",
    "- затраченного времени от номера итерации обучения\n",
    "\n",
    "Возьмите параметр регуляризации $\\lambda_2=1$, точность $tolerance=10^{-6}$, максимальное число итераций $max\\_iter=1000$. Подберите оптимальную на ваш взгляд величину шага градиентного спуска. \n",
    "\n",
    "Сделайте выводы о том, чем различается на практике обучение с помощью стохастического градиентного спуска по сравнению с полным градиентным спуском.\n",
    "\n",
    "В этом задании не обращайте внимания на $\\lambda_1$, соответствующий $L_1$-регуляризации.\n",
    "\n",
    "Для численной устойчивости вам могут быть полезны функции: scipy.special.expit и numpy.logaddexp."
   ]
  },
  {
   "cell_type": "code",
   "execution_count": 39,
   "metadata": {},
   "outputs": [],
   "source": [
    "from scipy.special import expit\n",
    "from sklearn.preprocessing import normalize\n",
    "from sklearn.preprocessing import StandardScaler\n",
    "import time"
   ]
  },
  {
   "cell_type": "code",
   "execution_count": 118,
   "metadata": {},
   "outputs": [],
   "source": [
    "class LogReg(BaseEstimator):\n",
    "    def __init__(self, lambda_1=0.0, lambda_2=1.0, gd_type='stochastic', \n",
    "                 tolerance=1e-4, max_iter=1000, w0=None, alpha=1e-3):\n",
    "        \"\"\"\n",
    "        lambda_1: L1 regularization param\n",
    "        lambda_2: L2 regularization param\n",
    "        gd_type: 'full' or 'stochastic'\n",
    "        tolerance: for stopping gradient descent\n",
    "        max_iter: maximum number of steps in gradient descent\n",
    "        w0: np.array of shape (d) - init weights\n",
    "        alpha: learning rate\n",
    "        \"\"\"\n",
    "        self.lambda_1 = lambda_1\n",
    "        self.lambda_2 = lambda_2\n",
    "        self.gd_type = gd_type\n",
    "        self.tolerance = tolerance\n",
    "        self.max_iter = max_iter\n",
    "        self.alpha = alpha\n",
    "        self.w = w0\n",
    "        self.loss_history = None\n",
    "        self.time = None\n",
    "\n",
    "    ###Я создал вспомогательную функцию, так как calc_loss считается на всей выборке, поэтому\n",
    "    ###итерация стохастического гр. спуска будет работать дольше чем должна\n",
    "    def fit_w_loss(self, X, y):\n",
    "        \"\"\"\n",
    "        X: np.array of shape (l, d)\n",
    "        y: np.array of shape (l)\n",
    "        ---\n",
    "        output: self\n",
    "        \"\"\"\n",
    "        self.loss_history = []\n",
    "        if self.w is None:\n",
    "            self.w = np.random.rand(X.shape[1])\n",
    "        \n",
    "        for _ in range(self.max_iter):\n",
    "            if self.gd_type == 'stochastic':\n",
    "                i = np.random.randint(0, X.shape[0])\n",
    "                grad = self.calc_gradient(X[i], y[i])\n",
    "            else:\n",
    "                grad = self.calc_gradient(X, y)\n",
    "            w_prev = self.w\n",
    "            self.w = self.w - self.alpha * grad\n",
    "            self.loss_history.append(self.calc_loss(X, y))\n",
    "            if np.sqrt(np.dot(self.w - w_prev, self.w - w_prev)) < self.tolerance:\n",
    "                break\n",
    "        return self\n",
    "\n",
    "    def fit(self, X, y):\n",
    "        \"\"\"\n",
    "        X: np.array of shape (l, d)\n",
    "        y: np.array of shape (l)\n",
    "        ---\n",
    "        output: self\n",
    "        \"\"\"\n",
    "        self.time = []\n",
    "        time_start = time.time()\n",
    "        if self.w is None:\n",
    "            self.w = np.random.rand(X.shape[1])\n",
    "        \n",
    "        for _ in range(self.max_iter):\n",
    "            if self.gd_type == 'stochastic':\n",
    "                i = np.random.randint(0, X.shape[0])\n",
    "                grad = self.calc_gradient(X[i], y[i])\n",
    "            else:\n",
    "                grad = self.calc_gradient(X, y)\n",
    "            w_prev = self.w\n",
    "            self.w = self.w - self.alpha * grad\n",
    "            self.time.append(time.time() - time_start)\n",
    "            if np.sqrt(np.dot(self.w - w_prev, self.w - w_prev)) < self.tolerance:\n",
    "                break\n",
    "        return self\n",
    "    \n",
    "    def predict_proba(self, X):\n",
    "        \"\"\"\n",
    "        X: np.array of shape (l, d)\n",
    "        ---\n",
    "        output: np.array of shape (l, 2) where\n",
    "        first column has probabilities of -1\n",
    "        second column has probabilities of +1\n",
    "        \"\"\"\n",
    "        if self.w is None:\n",
    "            raise Exception('Not trained yet')\n",
    "        \n",
    "        prob = expit(np.dot(X, self.w))\n",
    "        return np.transpose(np.array([1 - prob, prob]))\n",
    "    \n",
    "    def calc_gradient(self, X, y):\n",
    "        \"\"\"\n",
    "        X: np.array of shape (l, d) (l can be equal to 1 if stochastic)\n",
    "        y: np.array of shape (l)\n",
    "        ---\n",
    "        output: np.array of shape (d)\n",
    "        \"\"\"\n",
    "        ###Так как np.transpose не работает, если количество строк равно 1\n",
    "        if (self.gd_type != 'stochastic'):\n",
    "            grad = -np.dot(np.transpose(X), np.multiply(y, expit(-np.multiply(y, np.dot(X, self.w))))) / X.shape[0]\n",
    "        else:\n",
    "            grad = -(y * expit(-y * np.dot(X, self.w))) * X\n",
    "        grad = grad + self.lambda_1 * np.sign(self.w) + self.lambda_2 * self.w\n",
    "        return grad\n",
    "\n",
    "    def calc_loss(self, X, y):\n",
    "        \"\"\"\n",
    "        X: np.array of shape (l, d)\n",
    "        y: np.array of shape (l)\n",
    "        ---\n",
    "        output: float \n",
    "        \"\"\" \n",
    "        loss = -np.sum(np.log(expit(np.multiply(y, np.dot(X, self.w))))) / X.shape[0] +\\\n",
    "            self.lambda_1 * np.sqrt(np.dot(self.w, self.w)) +\\\n",
    "            self.lambda_2 * np.dot(self.w, self.w) / 2\n",
    "        return loss"
   ]
  },
  {
   "cell_type": "code",
   "execution_count": 41,
   "metadata": {},
   "outputs": [],
   "source": [
    "from sklearn.datasets import make_classification"
   ]
  },
  {
   "cell_type": "code",
   "execution_count": 71,
   "metadata": {},
   "outputs": [],
   "source": [
    "X, y = make_classification(n_samples=100000, n_features=10, n_classes=2, n_redundant=0)"
   ]
  },
  {
   "cell_type": "code",
   "execution_count": 72,
   "metadata": {},
   "outputs": [
    {
     "data": {
      "text/plain": [
       "array([[ 0.47703912, -2.00267876,  0.9215963 , ...,  0.52903409,\n",
       "        -0.52125678, -1.11964317],\n",
       "       [-0.12355014,  0.02458357, -1.22573838, ...,  2.17620012,\n",
       "        -0.95801454, -1.57900557],\n",
       "       [ 0.47383094, -1.15207618,  1.17509157, ..., -1.40038309,\n",
       "         0.60418162, -0.04890177],\n",
       "       ...,\n",
       "       [ 0.14541186,  1.23913945, -0.59270271, ...,  1.2422329 ,\n",
       "        -1.20402055,  0.70498669],\n",
       "       [-1.40676733,  0.16143226,  1.88840011, ..., -1.73552453,\n",
       "        -0.26317472,  1.0938114 ],\n",
       "       [-1.30155067, -0.82439909,  0.98568238, ...,  1.90234947,\n",
       "         1.04327208, -1.26864131]])"
      ]
     },
     "execution_count": 72,
     "metadata": {},
     "output_type": "execute_result"
    }
   ],
   "source": [
    "X"
   ]
  },
  {
   "cell_type": "code",
   "execution_count": 73,
   "metadata": {},
   "outputs": [],
   "source": [
    "scaler = StandardScaler()"
   ]
  },
  {
   "cell_type": "code",
   "execution_count": 74,
   "metadata": {},
   "outputs": [
    {
     "data": {
      "text/plain": [
       "StandardScaler(copy=True, with_mean=True, with_std=True)"
      ]
     },
     "execution_count": 74,
     "metadata": {},
     "output_type": "execute_result"
    }
   ],
   "source": [
    "scaler.fit(X)"
   ]
  },
  {
   "cell_type": "code",
   "execution_count": 75,
   "metadata": {},
   "outputs": [],
   "source": [
    "X = scaler.transform(X)"
   ]
  },
  {
   "cell_type": "code",
   "execution_count": 76,
   "metadata": {},
   "outputs": [
    {
     "data": {
      "text/plain": [
       "array([[ 0.48396232, -2.00439389,  0.91707241, ...,  0.53792922,\n",
       "        -0.43080192, -1.11479353],\n",
       "       [-0.11949823,  0.02587673, -1.23507763, ...,  2.19062645,\n",
       "        -0.79302023, -1.57274128],\n",
       "       [ 0.4807388 , -1.15252908,  1.17113613, ..., -1.39796695,\n",
       "         0.50256307, -0.0473496 ],\n",
       "       ...,\n",
       "       [ 0.15074962,  1.24223491, -0.60062239, ...,  1.25352296,\n",
       "        -0.99704152,  0.70421719],\n",
       "       [-1.40885019,  0.1629285 ,  1.88604426, ..., -1.7342338 ,\n",
       "        -0.21676554,  1.09184447],\n",
       "       [-1.30313051, -0.82436575,  0.9813022 , ...,  1.9158562 ,\n",
       "         0.86671597, -1.26333282]])"
      ]
     },
     "execution_count": 76,
     "metadata": {},
     "output_type": "execute_result"
    }
   ],
   "source": [
    "X"
   ]
  },
  {
   "cell_type": "code",
   "execution_count": 77,
   "metadata": {},
   "outputs": [],
   "source": [
    "X_train, X_test, y_train, y_test = train_test_split(X, y, test_size=0.3, random_state=300)"
   ]
  },
  {
   "cell_type": "code",
   "execution_count": 114,
   "metadata": {},
   "outputs": [],
   "source": [
    "clf = LogReg(lambda_2=1.0, max_iter=100, tolerance=1e-10, alpha=0.8, gd_type='full')"
   ]
  },
  {
   "cell_type": "code",
   "execution_count": 102,
   "metadata": {
    "scrolled": true
   },
   "outputs": [
    {
     "data": {
      "text/plain": [
       "LogReg(alpha=0.8, gd_type='full', lambda_1=0.0, lambda_2=1.0, max_iter=100,\n",
       "    tolerance=1e-10, w0=None)"
      ]
     },
     "execution_count": 102,
     "metadata": {},
     "output_type": "execute_result"
    }
   ],
   "source": [
    "clf.fit(X_train, y_train)"
   ]
  },
  {
   "cell_type": "code",
   "execution_count": 103,
   "metadata": {},
   "outputs": [],
   "source": [
    "y_pred = [0 if i[0] > i[1] else 1 for i in clf.predict_proba(X_test)]"
   ]
  },
  {
   "cell_type": "code",
   "execution_count": 104,
   "metadata": {},
   "outputs": [
    {
     "name": "stdout",
     "output_type": "stream",
     "text": [
      "R2 on full: \t 0.7091892968736329\n",
      "RMSE on full: \t 0.0727\n",
      "MAE on full: \t 0.0727\n"
     ]
    }
   ],
   "source": [
    "print(\"R2 on full: \\t\", r2_score(y_test, y_pred))\n",
    "print(\"RMSE on full: \\t\", mean_squared_error(y_test, y_pred))\n",
    "print(\"MAE on full: \\t\", mean_absolute_error(y_test, y_pred))"
   ]
  },
  {
   "cell_type": "code",
   "execution_count": 105,
   "metadata": {},
   "outputs": [],
   "source": [
    "clf_s = LogReg(lambda_2=1.0, max_iter=100, tolerance=1e-10, alpha=0.1, gd_type='stochastic')"
   ]
  },
  {
   "cell_type": "code",
   "execution_count": 106,
   "metadata": {
    "scrolled": true
   },
   "outputs": [
    {
     "data": {
      "text/plain": [
       "LogReg(alpha=0.1, gd_type='stochastic', lambda_1=0.0, lambda_2=1.0,\n",
       "    max_iter=100, tolerance=1e-10, w0=None)"
      ]
     },
     "execution_count": 106,
     "metadata": {},
     "output_type": "execute_result"
    }
   ],
   "source": [
    "clf_s.fit(X_train, y_train)"
   ]
  },
  {
   "cell_type": "code",
   "execution_count": 107,
   "metadata": {},
   "outputs": [],
   "source": [
    "y_pred = [0 if i[0] > i[1] else 1 for i in clf_s.predict_proba(X_test)]"
   ]
  },
  {
   "cell_type": "code",
   "execution_count": 108,
   "metadata": {},
   "outputs": [
    {
     "name": "stdout",
     "output_type": "stream",
     "text": [
      "R2 on stochastic: \t -0.09257354489566794\n",
      "RMSE on stochastic: \t 0.27313333333333334\n",
      "MAE on stochastic: \t 0.27313333333333334\n"
     ]
    }
   ],
   "source": [
    "print(\"R2 on stochastic: \\t\", r2_score(y_test, y_pred))\n",
    "print(\"RMSE on stochastic: \\t\", mean_squared_error(y_test, y_pred))\n",
    "print(\"MAE on stochastic: \\t\", mean_absolute_error(y_test, y_pred))"
   ]
  },
  {
   "cell_type": "code",
   "execution_count": 109,
   "metadata": {},
   "outputs": [
    {
     "data": {
      "image/png": "[encoded data removed]",
      "text/plain": [
       "<Figure size 432x288 with 1 Axes>"
      ]
     },
     "metadata": {
      "needs_background": "light"
     },
     "output_type": "display_data"
    }
   ],
   "source": [
    "plt.plot(clf.time)\n",
    "plt.plot(clf_s.time, alpha=0.8)\n",
    "plt.show()"
   ]
  },
  {
   "cell_type": "code",
   "execution_count": 110,
   "metadata": {},
   "outputs": [
    {
     "data": {
      "text/plain": [
       "LogReg(alpha=0.1, gd_type='stochastic', lambda_1=0.0, lambda_2=1.0,\n",
       "    max_iter=100, tolerance=1e-10, w0=None)"
      ]
     },
     "execution_count": 110,
     "metadata": {},
     "output_type": "execute_result"
    }
   ],
   "source": [
    "clf.fit_w_loss(X_train, y_train)\n",
    "clf_s.fit_w_loss(X_train, y_train)"
   ]
  },
  {
   "cell_type": "code",
   "execution_count": 117,
   "metadata": {},
   "outputs": [
    {
     "data": {
      "image/png": "[encoded data removed]",
      "text/plain": [
       "<Figure size 432x288 with 1 Axes>"
      ]
     },
     "metadata": {
      "needs_background": "light"
     },
     "output_type": "display_data"
    }
   ],
   "source": [
    "plt.plot(clf.loss_history)\n",
    "plt.plot(clf_s.loss_history, alpha=0.2)\n",
    "plt.show()"
   ]
  },
  {
   "cell_type": "markdown",
   "metadata": {},
   "source": [
    "__Выводы:__ ..."
   ]
  },
  {
   "cell_type": "markdown",
   "metadata": {},
   "source": [
    "Можно заметить (по скорости роста на графике времени), что одна итерация фул гр. спуска занимает гораздо больше времени, но весь процесс сходится довольно быстро, поэтому таких итераций требуется около 10. В то же время, стох. гр. спуск использует все итерации, от того и времени занимает дольше."
   ]
  },
  {
   "cell_type": "markdown",
   "metadata": {},
   "source": [
    "Сравним скорость обучения для 'Full' и для 'Stochastic':"
   ]
  },
  {
   "cell_type": "code",
   "execution_count": 119,
   "metadata": {},
   "outputs": [],
   "source": [
    "clf = LogReg(lambda_2=1.0, max_iter=10000, tolerance=1e-7, alpha=0.1, gd_type='full')"
   ]
  },
  {
   "cell_type": "code",
   "execution_count": 120,
   "metadata": {},
   "outputs": [
    {
     "name": "stdout",
     "output_type": "stream",
     "text": [
      "3.91 ms ± 26 µs per loop (mean ± std. dev. of 7 runs, 1 loop each)\n"
     ]
    }
   ],
   "source": [
    "%%timeit\n",
    "clf.fit(X, y)"
   ]
  },
  {
   "cell_type": "code",
   "execution_count": 121,
   "metadata": {},
   "outputs": [],
   "source": [
    "clf_s = LogReg(lambda_2=1.0, max_iter=10000, tolerance=1e-7, alpha=0.1, gd_type='stochastic')"
   ]
  },
  {
   "cell_type": "code",
   "execution_count": 122,
   "metadata": {},
   "outputs": [
    {
     "name": "stdout",
     "output_type": "stream",
     "text": [
      "301 ms ± 20.9 ms per loop (mean ± std. dev. of 7 runs, 1 loop each)\n"
     ]
    }
   ],
   "source": [
    "%%timeit\n",
    "clf_s.fit(X, y)"
   ]
  },
  {
   "cell_type": "markdown",
   "metadata": {},
   "source": [
    "Можно заметить, что в среднем фул гр. спуск обучается в несколько раз быстрее. Думаю стоит брать размер батча для стох. гр. спуска не единица, а чуть больше. Так же стоит изменять длинну прыжка на каждом шаге. Тогда, возможно, стох. гр. спуск будет работать быстрее чем фул."
   ]
  },
  {
   "cell_type": "markdown",
   "metadata": {},
   "source": [
    "__Задание 2.__ Обучение логистической регрессии на реальных данных и оценка качества классификации.\n",
    "\n",
    "Полезные функции и классы из scikit-learn для этого задания: confusion_matrix, precision_recall_curve, average_precision_score, train_test_split, StandardScaler, roc-curve, roc_auc_score."
   ]
  },
  {
   "cell_type": "markdown",
   "metadata": {},
   "source": [
    "Возьмём данные конкурса [Kaggle Porto Seguro’s Safe Driver Prediction](https://www.kaggle.com/c/porto-seguro-safe-driver-prediction) (вам нужна только обучающая выборка). Задача состоит в определении водителей, которые в ближайший год воспользуются своей автомобильной страховкой (бинарная классификация). Но для нас важна будет не сама задача, а только её данные. При этом под нужды задания мы немного модифицируем датасет."
   ]
  },
  {
   "cell_type": "code",
   "execution_count": 123,
   "metadata": {},
   "outputs": [],
   "source": [
    "data = pd.read_csv('train.csv', index_col=0)\n",
    "target = data.target.values\n",
    "data = data.drop('target', axis=1)"
   ]
  },
  {
   "cell_type": "code",
   "execution_count": 124,
   "metadata": {},
   "outputs": [
    {
     "data": {
      "text/html": [
       "<div>\n",
       "<style scoped>\n",
       "    .dataframe tbody tr th:only-of-type {\n",
       "        vertical-align: middle;\n",
       "    }\n",
       "\n",
       "    .dataframe tbody tr th {\n",
       "        vertical-align: top;\n",
       "    }\n",
       "\n",
       "    .dataframe thead th {\n",
       "        text-align: right;\n",
       "    }\n",
       "</style>\n",
       "<table border=\"1\" class=\"dataframe\">\n",
       "  <thead>\n",
       "    <tr style=\"text-align: right;\">\n",
       "      <th></th>\n",
       "      <th>ps_ind_01</th>\n",
       "      <th>ps_ind_02_cat</th>\n",
       "      <th>ps_ind_03</th>\n",
       "      <th>ps_ind_04_cat</th>\n",
       "      <th>ps_ind_05_cat</th>\n",
       "      <th>ps_ind_06_bin</th>\n",
       "      <th>ps_ind_07_bin</th>\n",
       "      <th>ps_ind_08_bin</th>\n",
       "      <th>ps_ind_09_bin</th>\n",
       "      <th>ps_ind_10_bin</th>\n",
       "      <th>...</th>\n",
       "      <th>ps_calc_11</th>\n",
       "      <th>ps_calc_12</th>\n",
       "      <th>ps_calc_13</th>\n",
       "      <th>ps_calc_14</th>\n",
       "      <th>ps_calc_15_bin</th>\n",
       "      <th>ps_calc_16_bin</th>\n",
       "      <th>ps_calc_17_bin</th>\n",
       "      <th>ps_calc_18_bin</th>\n",
       "      <th>ps_calc_19_bin</th>\n",
       "      <th>ps_calc_20_bin</th>\n",
       "    </tr>\n",
       "    <tr>\n",
       "      <th>id</th>\n",
       "      <th></th>\n",
       "      <th></th>\n",
       "      <th></th>\n",
       "      <th></th>\n",
       "      <th></th>\n",
       "      <th></th>\n",
       "      <th></th>\n",
       "      <th></th>\n",
       "      <th></th>\n",
       "      <th></th>\n",
       "      <th></th>\n",
       "      <th></th>\n",
       "      <th></th>\n",
       "      <th></th>\n",
       "      <th></th>\n",
       "      <th></th>\n",
       "      <th></th>\n",
       "      <th></th>\n",
       "      <th></th>\n",
       "      <th></th>\n",
       "      <th></th>\n",
       "    </tr>\n",
       "  </thead>\n",
       "  <tbody>\n",
       "    <tr>\n",
       "      <th>7</th>\n",
       "      <td>2</td>\n",
       "      <td>2</td>\n",
       "      <td>5</td>\n",
       "      <td>1</td>\n",
       "      <td>0</td>\n",
       "      <td>0</td>\n",
       "      <td>1</td>\n",
       "      <td>0</td>\n",
       "      <td>0</td>\n",
       "      <td>0</td>\n",
       "      <td>...</td>\n",
       "      <td>9</td>\n",
       "      <td>1</td>\n",
       "      <td>5</td>\n",
       "      <td>8</td>\n",
       "      <td>0</td>\n",
       "      <td>1</td>\n",
       "      <td>1</td>\n",
       "      <td>0</td>\n",
       "      <td>0</td>\n",
       "      <td>1</td>\n",
       "    </tr>\n",
       "    <tr>\n",
       "      <th>9</th>\n",
       "      <td>1</td>\n",
       "      <td>1</td>\n",
       "      <td>7</td>\n",
       "      <td>0</td>\n",
       "      <td>0</td>\n",
       "      <td>0</td>\n",
       "      <td>0</td>\n",
       "      <td>1</td>\n",
       "      <td>0</td>\n",
       "      <td>0</td>\n",
       "      <td>...</td>\n",
       "      <td>3</td>\n",
       "      <td>1</td>\n",
       "      <td>1</td>\n",
       "      <td>9</td>\n",
       "      <td>0</td>\n",
       "      <td>1</td>\n",
       "      <td>1</td>\n",
       "      <td>0</td>\n",
       "      <td>1</td>\n",
       "      <td>0</td>\n",
       "    </tr>\n",
       "    <tr>\n",
       "      <th>13</th>\n",
       "      <td>5</td>\n",
       "      <td>4</td>\n",
       "      <td>9</td>\n",
       "      <td>1</td>\n",
       "      <td>0</td>\n",
       "      <td>0</td>\n",
       "      <td>0</td>\n",
       "      <td>1</td>\n",
       "      <td>0</td>\n",
       "      <td>0</td>\n",
       "      <td>...</td>\n",
       "      <td>4</td>\n",
       "      <td>2</td>\n",
       "      <td>7</td>\n",
       "      <td>7</td>\n",
       "      <td>0</td>\n",
       "      <td>1</td>\n",
       "      <td>1</td>\n",
       "      <td>0</td>\n",
       "      <td>1</td>\n",
       "      <td>0</td>\n",
       "    </tr>\n",
       "    <tr>\n",
       "      <th>16</th>\n",
       "      <td>0</td>\n",
       "      <td>1</td>\n",
       "      <td>2</td>\n",
       "      <td>0</td>\n",
       "      <td>0</td>\n",
       "      <td>1</td>\n",
       "      <td>0</td>\n",
       "      <td>0</td>\n",
       "      <td>0</td>\n",
       "      <td>0</td>\n",
       "      <td>...</td>\n",
       "      <td>2</td>\n",
       "      <td>2</td>\n",
       "      <td>4</td>\n",
       "      <td>9</td>\n",
       "      <td>0</td>\n",
       "      <td>0</td>\n",
       "      <td>0</td>\n",
       "      <td>0</td>\n",
       "      <td>0</td>\n",
       "      <td>0</td>\n",
       "    </tr>\n",
       "    <tr>\n",
       "      <th>17</th>\n",
       "      <td>0</td>\n",
       "      <td>2</td>\n",
       "      <td>0</td>\n",
       "      <td>1</td>\n",
       "      <td>0</td>\n",
       "      <td>1</td>\n",
       "      <td>0</td>\n",
       "      <td>0</td>\n",
       "      <td>0</td>\n",
       "      <td>0</td>\n",
       "      <td>...</td>\n",
       "      <td>3</td>\n",
       "      <td>1</td>\n",
       "      <td>1</td>\n",
       "      <td>3</td>\n",
       "      <td>0</td>\n",
       "      <td>0</td>\n",
       "      <td>0</td>\n",
       "      <td>1</td>\n",
       "      <td>1</td>\n",
       "      <td>0</td>\n",
       "    </tr>\n",
       "  </tbody>\n",
       "</table>\n",
       "<p>5 rows × 57 columns</p>\n",
       "</div>"
      ],
      "text/plain": [
       "    ps_ind_01  ps_ind_02_cat  ps_ind_03  ps_ind_04_cat  ps_ind_05_cat  \\\n",
       "id                                                                      \n",
       "7           2              2          5              1              0   \n",
       "9           1              1          7              0              0   \n",
       "13          5              4          9              1              0   \n",
       "16          0              1          2              0              0   \n",
       "17          0              2          0              1              0   \n",
       "\n",
       "    ps_ind_06_bin  ps_ind_07_bin  ps_ind_08_bin  ps_ind_09_bin  ps_ind_10_bin  \\\n",
       "id                                                                              \n",
       "7               0              1              0              0              0   \n",
       "9               0              0              1              0              0   \n",
       "13              0              0              1              0              0   \n",
       "16              1              0              0              0              0   \n",
       "17              1              0              0              0              0   \n",
       "\n",
       "    ...  ps_calc_11  ps_calc_12  ps_calc_13  ps_calc_14  ps_calc_15_bin  \\\n",
       "id  ...                                                                   \n",
       "7   ...           9           1           5           8               0   \n",
       "9   ...           3           1           1           9               0   \n",
       "13  ...           4           2           7           7               0   \n",
       "16  ...           2           2           4           9               0   \n",
       "17  ...           3           1           1           3               0   \n",
       "\n",
       "    ps_calc_16_bin  ps_calc_17_bin  ps_calc_18_bin  ps_calc_19_bin  \\\n",
       "id                                                                   \n",
       "7                1               1               0               0   \n",
       "9                1               1               0               1   \n",
       "13               1               1               0               1   \n",
       "16               0               0               0               0   \n",
       "17               0               0               1               1   \n",
       "\n",
       "    ps_calc_20_bin  \n",
       "id                  \n",
       "7                1  \n",
       "9                0  \n",
       "13               0  \n",
       "16               0  \n",
       "17               0  \n",
       "\n",
       "[5 rows x 57 columns]"
      ]
     },
     "execution_count": 124,
     "metadata": {},
     "output_type": "execute_result"
    }
   ],
   "source": [
    "data.head()"
   ]
  },
  {
   "cell_type": "markdown",
   "metadata": {},
   "source": [
    "Пересемплируем выборку так, чтобы положительных и отрицательных объектов в выборке было одинаковое число. Разделим на обучающую и тестовую выборки."
   ]
  },
  {
   "cell_type": "code",
   "execution_count": 125,
   "metadata": {},
   "outputs": [
    {
     "name": "stderr",
     "output_type": "stream",
     "text": [
      "/home/zhalgas/.local/lib/python3.6/site-packages/sklearn/preprocessing/data.py:645: DataConversionWarning: Data with input dtype int64, float64 were all converted to float64 by StandardScaler.\n",
      "  return self.partial_fit(X, y)\n",
      "/home/zhalgas/.local/lib/python3.6/site-packages/ipykernel_launcher.py:11: DataConversionWarning: Data with input dtype int64, float64 were all converted to float64 by StandardScaler.\n",
      "  # This is added back by InteractiveShellApp.init_path()\n"
     ]
    }
   ],
   "source": [
    "# some resampling\n",
    "np.random.seed(910)\n",
    "mask_plus = np.random.choice(np.where(target == 1)[0], 100000, replace=True)\n",
    "mask_zero = np.random.choice(np.where(target == 0)[0], 100000, replace=True)\n",
    "\n",
    "data = pd.concat((data.iloc[mask_plus], data.iloc[mask_zero]))\n",
    "target = np.hstack((target[mask_plus], target[mask_zero]))\n",
    "\n",
    "scaler = StandardScaler()\n",
    "scaler.fit(data)\n",
    "data = scaler.transform(data)\n",
    "\n",
    "X_train, X_test, y_train, y_test = train_test_split(data, target, test_size=0.5)"
   ]
  },
  {
   "cell_type": "markdown",
   "metadata": {},
   "source": [
    "Не забудьте отнормировать признаки (можно воспользоваться StandardScaler или сделать это вручную). Пока не будем обращать внимание на то, что некоторые признаки категориальные (этим мы займёмся позже)."
   ]
  },
  {
   "cell_type": "code",
   "execution_count": 126,
   "metadata": {
    "scrolled": true
   },
   "outputs": [
    {
     "data": {
      "text/plain": [
       "LogReg(alpha=0.01, gd_type='full', lambda_1=0.2, lambda_2=0.8, max_iter=1000,\n",
       "    tolerance=1e-06, w0=None)"
      ]
     },
     "execution_count": 126,
     "metadata": {},
     "output_type": "execute_result"
    }
   ],
   "source": [
    "clf = LogReg(lambda_1=0.2, lambda_2=0.8, gd_type='full', tolerance=1e-6, max_iter=1000, alpha=0.01)\n",
    "clf.fit(X_train, y_train)"
   ]
  },
  {
   "cell_type": "markdown",
   "metadata": {},
   "source": [
    "Обучите логистическую регрессию с удобными для вас параметрами. Сделайте предсказание на тестовой части выборки."
   ]
  },
  {
   "cell_type": "code",
   "execution_count": 127,
   "metadata": {},
   "outputs": [],
   "source": [
    "y_pred = [0 if i[0] > i[1] else 1 for i in clf.predict_proba(X_test)]"
   ]
  },
  {
   "cell_type": "markdown",
   "metadata": {},
   "source": [
    "Постройку ROC-кривую и Precision-Recall-кривую, посчитайте ROC-AUC и PR-AUC. Какие наблюдения и выводы по ним можно сделать? (В свободной форме)"
   ]
  },
  {
   "cell_type": "code",
   "execution_count": 128,
   "metadata": {},
   "outputs": [],
   "source": [
    "from sklearn.metrics import roc_curve\n",
    "from sklearn.metrics import roc_auc_score\n",
    "from sklearn.metrics import precision_recall_curve\n",
    "from sklearn.metrics import precision_score"
   ]
  },
  {
   "cell_type": "code",
   "execution_count": 129,
   "metadata": {},
   "outputs": [],
   "source": [
    "tmp = clf.predict_proba(X_test)[:, 1]"
   ]
  },
  {
   "cell_type": "code",
   "execution_count": 130,
   "metadata": {},
   "outputs": [],
   "source": [
    "fpr, tpr, thresholds = roc_curve(y_test, tmp)"
   ]
  },
  {
   "cell_type": "code",
   "execution_count": 131,
   "metadata": {},
   "outputs": [
    {
     "data": {
      "image/png": "[encoded data removed]",
      "text/plain": [
       "<Figure size 432x288 with 1 Axes>"
      ]
     },
     "metadata": {
      "needs_background": "light"
     },
     "output_type": "display_data"
    }
   ],
   "source": [
    "plt.plot(fpr, tpr)\n",
    "plt.show()"
   ]
  },
  {
   "cell_type": "code",
   "execution_count": 132,
   "metadata": {
    "scrolled": true
   },
   "outputs": [
    {
     "data": {
      "text/plain": [
       "0.4733302836159561"
      ]
     },
     "execution_count": 132,
     "metadata": {},
     "output_type": "execute_result"
    }
   ],
   "source": [
    "roc_auc_score(y_test, tmp)"
   ]
  },
  {
   "cell_type": "code",
   "execution_count": 133,
   "metadata": {},
   "outputs": [],
   "source": [
    "precision, recall, threshold = precision_recall_curve(y_test, tmp)"
   ]
  },
  {
   "cell_type": "code",
   "execution_count": 134,
   "metadata": {},
   "outputs": [
    {
     "data": {
      "image/png": "[encoded data removed]",
      "text/plain": [
       "<Figure size 432x288 with 1 Axes>"
      ]
     },
     "metadata": {
      "needs_background": "light"
     },
     "output_type": "display_data"
    }
   ],
   "source": [
    "plt.plot(recall, precision)\n",
    "plt.show()"
   ]
  },
  {
   "cell_type": "markdown",
   "metadata": {},
   "source": [
    "Предположим, что наш алгоритм должен обеспечивать полноту не менее 0.7. Какому порогу бинаризации вероятностей это будет соответствовать? Какую точность (precision) мы получим? Постройте матрицу ошибок для данного порога. Что вы можете сказать о таком алгоритме? (В свободной форме)"
   ]
  },
  {
   "cell_type": "code",
   "execution_count": 135,
   "metadata": {},
   "outputs": [
    {
     "data": {
      "image/png": "[encoded data removed]",
      "text/plain": [
       "<Figure size 432x288 with 1 Axes>"
      ]
     },
     "metadata": {
      "needs_background": "light"
     },
     "output_type": "display_data"
    }
   ],
   "source": [
    "plt.plot(threshold, recall[:-1])\n",
    "plt.show()"
   ]
  },
  {
   "cell_type": "markdown",
   "metadata": {},
   "source": [
    "Согласно графику зависимости полноты от порога вхождения в + класс, нам стоит выбрать порог чуть меньше 0.5"
   ]
  },
  {
   "cell_type": "code",
   "execution_count": 136,
   "metadata": {},
   "outputs": [
    {
     "data": {
      "image/png": "[encoded data removed]",
      "text/plain": [
       "<Figure size 432x288 with 1 Axes>"
      ]
     },
     "metadata": {
      "needs_background": "light"
     },
     "output_type": "display_data"
    }
   ],
   "source": [
    "plt.plot(threshold, precision[:-1])\n",
    "plt.show()"
   ]
  },
  {
   "cell_type": "markdown",
   "metadata": {},
   "source": [
    "Примерное значение точности будет равно 0.5"
   ]
  },
  {
   "cell_type": "code",
   "execution_count": 138,
   "metadata": {},
   "outputs": [],
   "source": [
    "y_pred = [1 if i[1] > 0.497 else 0 for i in clf.predict_proba(X_test)]"
   ]
  },
  {
   "cell_type": "code",
   "execution_count": 140,
   "metadata": {},
   "outputs": [],
   "source": [
    "from sklearn.metrics import confusion_matrix"
   ]
  },
  {
   "cell_type": "code",
   "execution_count": 141,
   "metadata": {},
   "outputs": [
    {
     "name": "stdout",
     "output_type": "stream",
     "text": [
      "3609 46385 4511 45495\n"
     ]
    }
   ],
   "source": [
    "tn, fp, fn, tp = confusion_matrix(y_test, y_pred).ravel()\n",
    "print(tn, fp, fn, tp)"
   ]
  },
  {
   "cell_type": "code",
   "execution_count": 143,
   "metadata": {},
   "outputs": [
    {
     "name": "stdout",
     "output_type": "stream",
     "text": [
      "0.9097908251009879\n"
     ]
    }
   ],
   "source": [
    "recall = tp / (tp + fn)\n",
    "print(recall)"
   ]
  },
  {
   "cell_type": "markdown",
   "metadata": {},
   "source": [
    "Этот алгоритм плохой. Но подойдет для бухгалтерских контор"
   ]
  },
  {
   "cell_type": "markdown",
   "metadata": {},
   "source": [
    "__Задание 3.__ Изучение влияния регуляризатора на процесс обучения\n",
    "\n",
    "Проверьте на практике, как влияет регуляризатор на процесс обучения (убывание функции потерь на обучающей и отложенной выборках). Чтобы считать функцию потерь на отложенной выборке после каждой итерации, запускайте процесс обучения логистической регрессии с параметром $max\\_iter=1$ и $w^{(0)}$, полученным на предыдущей итерации. Постройте два графика: на одном из них логистическая регрессия с коэффициентом регуляризации, равным 0, а на другом с некоторым разумным значением. На каждом графике одновременно должна быть и функция потерь для обучающей, и для тестовой выборки. Не забудьте сделать одинаковыми оси обоих графиков. Какие выводы вы можете сделать?"
   ]
  },
  {
   "cell_type": "code",
   "execution_count": 144,
   "metadata": {},
   "outputs": [],
   "source": [
    "clf_wo_reg = LogReg(lambda_1=0, lambda_2=0, gd_type='full', max_iter=1, tolerance=0.0000001)\n",
    "clf_w_reg = LogReg(lambda_1=0, lambda_2=0.8, gd_type='full', max_iter=1, tolerance=0.0000001)"
   ]
  },
  {
   "cell_type": "code",
   "execution_count": 145,
   "metadata": {
    "scrolled": true
   },
   "outputs": [
    {
     "data": {
      "image/png": "[encoded data removed]",
      "text/plain": [
       "<Figure size 432x288 with 1 Axes>"
      ]
     },
     "metadata": {
      "needs_background": "light"
     },
     "output_type": "display_data"
    }
   ],
   "source": [
    "wo_reg_train = []\n",
    "wo_reg_test = []\n",
    "for _ in range(10):\n",
    "    clf_wo_reg.fit(X_train, y_train)\n",
    "    wo_reg_train.append(clf_wo_reg.calc_loss(X_train, y_train))\n",
    "    wo_reg_test.append(clf_wo_reg.calc_loss(X_test, y_test))\n",
    "plt.plot(wo_reg_train)\n",
    "plt.plot(wo_reg_test)\n",
    "plt.show()"
   ]
  },
  {
   "cell_type": "code",
   "execution_count": 146,
   "metadata": {
    "scrolled": true
   },
   "outputs": [
    {
     "data": {
      "image/png": "[encoded data removed]",
      "text/plain": [
       "<Figure size 432x288 with 1 Axes>"
      ]
     },
     "metadata": {
      "needs_background": "light"
     },
     "output_type": "display_data"
    }
   ],
   "source": [
    "w_reg_train = []\n",
    "w_reg_test = []\n",
    "for _ in range(10):\n",
    "    clf_w_reg.fit(X_train, y_train)\n",
    "    w_reg_train.append(clf_w_reg.calc_loss(X_train, y_train))\n",
    "    w_reg_test.append(clf_w_reg.calc_loss(X_test, y_test))\n",
    "plt.plot(w_reg_train)\n",
    "plt.plot(w_reg_test)\n",
    "plt.show()"
   ]
  },
  {
   "cell_type": "markdown",
   "metadata": {},
   "source": [
    "Можно заметить, что с появлением регуляризации график по оси oY сместился вверх (т.к. добавляется еще и квадрат нормы вектора весов). Так же можно заметить, что функция потерь теперь имеет более высокий угол наклона."
   ]
  },
  {
   "cell_type": "markdown",
   "metadata": {},
   "source": [
    "## Часть 3. Метод опорных векторов"
   ]
  },
  {
   "cell_type": "markdown",
   "metadata": {},
   "source": [
    "__Задание 1.__ Обучение и применение метода опорных векторов.\n",
    "\n",
    "Обучите метод опорных векторов (в этот раз воспользуйтесь готовой реализацией LinearSVC из sklearn). Используйте уже загруженные и обработанные в предыдущей части данные."
   ]
  },
  {
   "cell_type": "code",
   "execution_count": 147,
   "metadata": {},
   "outputs": [],
   "source": [
    "from sklearn.svm import LinearSVC"
   ]
  },
  {
   "cell_type": "code",
   "execution_count": 148,
   "metadata": {},
   "outputs": [],
   "source": [
    "clf = LinearSVC()"
   ]
  },
  {
   "cell_type": "code",
   "execution_count": 149,
   "metadata": {},
   "outputs": [
    {
     "name": "stderr",
     "output_type": "stream",
     "text": [
      "/home/zhalgas/.local/lib/python3.6/site-packages/sklearn/svm/base.py:931: ConvergenceWarning: Liblinear failed to converge, increase the number of iterations.\n",
      "  \"the number of iterations.\", ConvergenceWarning)\n"
     ]
    },
    {
     "data": {
      "text/plain": [
       "LinearSVC(C=1.0, class_weight=None, dual=True, fit_intercept=True,\n",
       "     intercept_scaling=1, loss='squared_hinge', max_iter=1000,\n",
       "     multi_class='ovr', penalty='l2', random_state=None, tol=0.0001,\n",
       "     verbose=0)"
      ]
     },
     "execution_count": 149,
     "metadata": {},
     "output_type": "execute_result"
    }
   ],
   "source": [
    "clf.fit(X_train, y_train)"
   ]
  },
  {
   "cell_type": "markdown",
   "metadata": {},
   "source": [
    "На той же тестовой части посчитайте все те же метрики. Что вы можете сказать о полученных результатах?"
   ]
  },
  {
   "cell_type": "code",
   "execution_count": 150,
   "metadata": {},
   "outputs": [],
   "source": [
    "y_pred = clf.predict(X_test)"
   ]
  },
  {
   "cell_type": "code",
   "execution_count": 151,
   "metadata": {},
   "outputs": [
    {
     "name": "stdout",
     "output_type": "stream",
     "text": [
      "R2 :\t -0.6494800237525127\n",
      "RMSE :\t 0.41237\n",
      "MAE :\t 0.41237\n"
     ]
    }
   ],
   "source": [
    "print(\"R2 :\\t\", r2_score(y_test, y_pred))\n",
    "print(\"RMSE :\\t\", mean_squared_error(y_test, y_pred))\n",
    "print(\"MAE :\\t\", mean_absolute_error(y_test, y_pred))"
   ]
  },
  {
   "cell_type": "markdown",
   "metadata": {},
   "source": [
    "Результаты не очень, видимо данные не очень скорелированы линейно"
   ]
  },
  {
   "cell_type": "markdown",
   "metadata": {},
   "source": [
    "В названии метода присутствуют некоторые \"опорные векторы\". Сгенерируйте синтетический датасет с помощью make_classification с 2 признаками, обучите на нём метод опорных векторов с линейным ядром. Визуализируйте разделяющую прямую, все объекты и выделите опорные вектора (атрибут support\\_vectors\\_). В этот раз вместо LinearSVC воспользуйтесь SVC с линейным ядром, так как только в нём есть информация об опорных векторах."
   ]
  },
  {
   "cell_type": "code",
   "execution_count": 152,
   "metadata": {},
   "outputs": [],
   "source": [
    "from sklearn.datasets import make_classification"
   ]
  },
  {
   "cell_type": "code",
   "execution_count": 153,
   "metadata": {},
   "outputs": [],
   "source": [
    "X, y = make_classification(n_samples=1000, n_features=2, n_classes=2, n_redundant=0)"
   ]
  },
  {
   "cell_type": "code",
   "execution_count": 154,
   "metadata": {},
   "outputs": [],
   "source": [
    "X_train, X_test, y_train, y_test = train_test_split(X, y, test_size=0.7, random_state=300)"
   ]
  },
  {
   "cell_type": "code",
   "execution_count": 155,
   "metadata": {},
   "outputs": [],
   "source": [
    "from sklearn.svm import SVC"
   ]
  },
  {
   "cell_type": "code",
   "execution_count": 156,
   "metadata": {},
   "outputs": [
    {
     "data": {
      "image/png": "[encoded data removed]",
      "text/plain": [
       "<Figure size 432x288 with 1 Axes>"
      ]
     },
     "metadata": {
      "needs_background": "light"
     },
     "output_type": "display_data"
    }
   ],
   "source": [
    "clf = SVC(kernel='linear')\n",
    "clf.fit(X_train, y_train)\n",
    "\n",
    "# generate grid for plotting\n",
    "h = 0.2\n",
    "x_min, x_max = X_train[:, 0].min() - 1, X_train[:, 0].max() + 1\n",
    "y_min, y_max = X_train[:, 1].min() - 1, X_train[:, 1].max() + 1\n",
    "xx, yy = np.meshgrid(\n",
    "    np.arange(x_min, x_max, h),\n",
    "    np.arange(y_min, y_max, h))\n",
    "\n",
    "# create decision boundary plot\n",
    "Z = clf.predict(np.c_[xx.ravel(), yy.ravel()])\n",
    "Z = Z.reshape(xx.shape)\n",
    "contourf(xx,yy,Z,cmap=plt.cm.coolwarm, alpha=0.8)\n",
    "scatter(X_train[:,0], X_train[:,1],c=y_train)\n",
    "show()"
   ]
  },
  {
   "cell_type": "code",
   "execution_count": 157,
   "metadata": {
    "scrolled": true
   },
   "outputs": [
    {
     "data": {
      "text/plain": [
       "array([[-0.65698373,  0.78583715],\n",
       "       [-0.63278514,  0.86525024],\n",
       "       [-0.56809906,  0.76968068],\n",
       "       [-0.67728326,  1.02995173],\n",
       "       [ 0.98872735, -0.96169523],\n",
       "       [-0.7552918 ,  0.9934675 ],\n",
       "       [ 0.80203729,  0.59829243],\n",
       "       [ 0.04240169,  0.93726641],\n",
       "       [-0.04116666, -1.02370399],\n",
       "       [ 1.09861524,  0.69354997],\n",
       "       [-0.41704472,  0.87501388],\n",
       "       [ 0.34007791, -0.8458763 ],\n",
       "       [ 0.12774074,  0.65633453],\n",
       "       [ 0.77924808,  0.48355025],\n",
       "       [ 0.20622177, -0.97480552],\n",
       "       [-0.23563569,  0.90767083],\n",
       "       [ 0.07230598, -0.7792417 ],\n",
       "       [ 1.32036742,  0.5011873 ],\n",
       "       [-0.38996975, -0.37609672],\n",
       "       [-0.57055151,  0.9263926 ],\n",
       "       [-0.5356082 ,  0.87870828],\n",
       "       [-0.13881812,  0.78584084],\n",
       "       [ 0.05355828,  0.93721644],\n",
       "       [-0.13426888, -1.33343047],\n",
       "       [ 0.45867173,  0.86241627],\n",
       "       [-0.1010448 , -1.29180503],\n",
       "       [-0.20238477, -1.07421235],\n",
       "       [ 1.49193232,  0.49801586],\n",
       "       [-0.60487869,  0.84741532],\n",
       "       [ 1.20095322,  0.45975537],\n",
       "       [-0.48008132,  1.24420651],\n",
       "       [-0.12568142,  1.00837603],\n",
       "       [ 0.03145303,  0.56892011],\n",
       "       [-0.13189933, -1.37203977],\n",
       "       [-0.02753493,  0.72619039],\n",
       "       [ 0.53262743, -0.77033395],\n",
       "       [ 0.0619433 , -0.17544228],\n",
       "       [ 0.75235252, -1.25944604],\n",
       "       [ 0.18442158,  0.73578127],\n",
       "       [ 0.50875789, -1.0111266 ],\n",
       "       [-0.50391224,  0.83609206],\n",
       "       [ 0.26842085,  0.90222966],\n",
       "       [-0.48453521,  0.56910879],\n",
       "       [-0.59298221,  0.99645943],\n",
       "       [-0.3160157 ,  0.84601105],\n",
       "       [-0.32586003, -0.53277619],\n",
       "       [-0.5051426 ,  2.57722617],\n",
       "       [ 0.25761076,  1.50046025],\n",
       "       [ 0.58507561, -1.15762884],\n",
       "       [ 0.66920259, -0.29300267],\n",
       "       [-0.03224285,  1.55907915],\n",
       "       [-0.36176075,  0.55518648],\n",
       "       [ 0.21980727, -0.86479304],\n",
       "       [-0.61524147,  2.20736789],\n",
       "       [-0.93785667,  1.55444616],\n",
       "       [ 0.27773807, -0.55944426],\n",
       "       [-2.62246745,  2.6320384 ],\n",
       "       [-1.47679721,  2.12972732],\n",
       "       [-0.43065019,  1.8272613 ],\n",
       "       [ 0.80016946, -0.56794249],\n",
       "       [-0.76248787, -0.23612577],\n",
       "       [ 0.5304987 , -0.27140891],\n",
       "       [ 0.33280711,  0.59736119],\n",
       "       [-0.75052181,  0.57158667],\n",
       "       [-1.43169362,  1.21019026],\n",
       "       [ 0.61287552, -0.17790232],\n",
       "       [ 0.68263396, -1.353998  ],\n",
       "       [ 0.67858427, -1.14723072],\n",
       "       [-0.0661943 ,  1.9842187 ],\n",
       "       [-0.89503463,  1.56714321],\n",
       "       [-0.27596179,  1.44069092],\n",
       "       [ 0.50721723,  0.52471499],\n",
       "       [ 0.64566762, -1.22171133],\n",
       "       [ 0.68014164, -1.00067907],\n",
       "       [-0.04568585,  1.25237923],\n",
       "       [ 0.65524361, -1.11890494],\n",
       "       [ 0.65568051, -0.13955737],\n",
       "       [ 1.17491923, -2.09011102],\n",
       "       [ 0.61332034, -1.04656654],\n",
       "       [ 0.46336944, -1.28808035],\n",
       "       [ 0.77902122, -1.01514218],\n",
       "       [-0.23726501,  1.45562481],\n",
       "       [ 1.05002219, -1.51797519],\n",
       "       [ 0.4517115 ,  0.7531442 ],\n",
       "       [ 0.09400439, -0.26434479],\n",
       "       [ 0.51808239,  0.0212412 ],\n",
       "       [ 0.05572475,  0.502334  ],\n",
       "       [ 0.10338988,  0.08798291],\n",
       "       [-0.66879148,  1.95506554],\n",
       "       [ 0.48757629,  0.04032125],\n",
       "       [ 1.04779552, -1.51647139],\n",
       "       [ 0.62315506, -0.43895319]])"
      ]
     },
     "execution_count": 157,
     "metadata": {},
     "output_type": "execute_result"
    }
   ],
   "source": [
    "clf.support_vectors_"
   ]
  },
  {
   "cell_type": "markdown",
   "metadata": {},
   "source": [
    "## Часть 4. Работа с категориальными переменными"
   ]
  },
  {
   "cell_type": "markdown",
   "metadata": {},
   "source": [
    "В этой части мы научимся обрабатывать категориальные переменные, так как закодировать их в виде чисел недостаточно (это задаёт некоторый порядок, которого на категориальных переменных может и не быть). Существует два основных способа обработки категориальных значений:\n",
    "- One-hot-кодирование\n",
    "- Счётчики (CTR, mean-target кодирование, ...) — каждый категориальный признак заменяется на среднее значение целевой переменной по всем объектам, имеющим одинаковое значение в этом признаке.\n",
    "\n",
    "Начнём с one-hot-кодирования. Допустим наш категориальный признак $f_j(x)$ принимает значения из множества $C=\\{c_1, \\dots, c_m\\}$. Заменим его на $m$ бинарных признаков $b_1(x), \\dots, b_m(x)$, каждый из которых является индикатором одного из возможных категориальных значений:\n",
    "$$\n",
    "b_i(x) = [f_j(x) = c_i]\n",
    "$$\n",
    "\n",
    "__Задание 1.__ Закодируйте все категориальные признаки с помощью one-hot-кодирования. Обучите логистическую регрессию и посмотрите, как изменилось качество модели (с тем, что было ранее). Измерьте время, потребовавшееся на обучение модели."
   ]
  },
  {
   "cell_type": "code",
   "execution_count": 158,
   "metadata": {},
   "outputs": [],
   "source": [
    "data = pd.read_csv('train.csv', index_col=0)\n",
    "target = data.target.values\n",
    "data = data.drop('target', axis=1)"
   ]
  },
  {
   "cell_type": "code",
   "execution_count": 159,
   "metadata": {},
   "outputs": [
    {
     "data": {
      "text/html": [
       "<div>\n",
       "<style scoped>\n",
       "    .dataframe tbody tr th:only-of-type {\n",
       "        vertical-align: middle;\n",
       "    }\n",
       "\n",
       "    .dataframe tbody tr th {\n",
       "        vertical-align: top;\n",
       "    }\n",
       "\n",
       "    .dataframe thead th {\n",
       "        text-align: right;\n",
       "    }\n",
       "</style>\n",
       "<table border=\"1\" class=\"dataframe\">\n",
       "  <thead>\n",
       "    <tr style=\"text-align: right;\">\n",
       "      <th></th>\n",
       "      <th>ps_ind_01</th>\n",
       "      <th>ps_ind_02_cat</th>\n",
       "      <th>ps_ind_03</th>\n",
       "      <th>ps_ind_04_cat</th>\n",
       "      <th>ps_ind_05_cat</th>\n",
       "      <th>ps_ind_06_bin</th>\n",
       "      <th>ps_ind_07_bin</th>\n",
       "      <th>ps_ind_08_bin</th>\n",
       "      <th>ps_ind_09_bin</th>\n",
       "      <th>ps_ind_10_bin</th>\n",
       "      <th>...</th>\n",
       "      <th>ps_calc_11</th>\n",
       "      <th>ps_calc_12</th>\n",
       "      <th>ps_calc_13</th>\n",
       "      <th>ps_calc_14</th>\n",
       "      <th>ps_calc_15_bin</th>\n",
       "      <th>ps_calc_16_bin</th>\n",
       "      <th>ps_calc_17_bin</th>\n",
       "      <th>ps_calc_18_bin</th>\n",
       "      <th>ps_calc_19_bin</th>\n",
       "      <th>ps_calc_20_bin</th>\n",
       "    </tr>\n",
       "    <tr>\n",
       "      <th>id</th>\n",
       "      <th></th>\n",
       "      <th></th>\n",
       "      <th></th>\n",
       "      <th></th>\n",
       "      <th></th>\n",
       "      <th></th>\n",
       "      <th></th>\n",
       "      <th></th>\n",
       "      <th></th>\n",
       "      <th></th>\n",
       "      <th></th>\n",
       "      <th></th>\n",
       "      <th></th>\n",
       "      <th></th>\n",
       "      <th></th>\n",
       "      <th></th>\n",
       "      <th></th>\n",
       "      <th></th>\n",
       "      <th></th>\n",
       "      <th></th>\n",
       "      <th></th>\n",
       "    </tr>\n",
       "  </thead>\n",
       "  <tbody>\n",
       "    <tr>\n",
       "      <th>783681</th>\n",
       "      <td>0</td>\n",
       "      <td>2</td>\n",
       "      <td>0</td>\n",
       "      <td>1</td>\n",
       "      <td>0</td>\n",
       "      <td>1</td>\n",
       "      <td>0</td>\n",
       "      <td>0</td>\n",
       "      <td>0</td>\n",
       "      <td>0</td>\n",
       "      <td>...</td>\n",
       "      <td>3</td>\n",
       "      <td>1</td>\n",
       "      <td>5</td>\n",
       "      <td>9</td>\n",
       "      <td>0</td>\n",
       "      <td>0</td>\n",
       "      <td>1</td>\n",
       "      <td>0</td>\n",
       "      <td>1</td>\n",
       "      <td>0</td>\n",
       "    </tr>\n",
       "    <tr>\n",
       "      <th>636497</th>\n",
       "      <td>0</td>\n",
       "      <td>1</td>\n",
       "      <td>6</td>\n",
       "      <td>1</td>\n",
       "      <td>0</td>\n",
       "      <td>0</td>\n",
       "      <td>1</td>\n",
       "      <td>0</td>\n",
       "      <td>0</td>\n",
       "      <td>0</td>\n",
       "      <td>...</td>\n",
       "      <td>5</td>\n",
       "      <td>2</td>\n",
       "      <td>1</td>\n",
       "      <td>10</td>\n",
       "      <td>0</td>\n",
       "      <td>1</td>\n",
       "      <td>1</td>\n",
       "      <td>0</td>\n",
       "      <td>1</td>\n",
       "      <td>0</td>\n",
       "    </tr>\n",
       "    <tr>\n",
       "      <th>659813</th>\n",
       "      <td>2</td>\n",
       "      <td>1</td>\n",
       "      <td>3</td>\n",
       "      <td>1</td>\n",
       "      <td>0</td>\n",
       "      <td>1</td>\n",
       "      <td>0</td>\n",
       "      <td>0</td>\n",
       "      <td>0</td>\n",
       "      <td>0</td>\n",
       "      <td>...</td>\n",
       "      <td>3</td>\n",
       "      <td>1</td>\n",
       "      <td>1</td>\n",
       "      <td>8</td>\n",
       "      <td>0</td>\n",
       "      <td>1</td>\n",
       "      <td>1</td>\n",
       "      <td>0</td>\n",
       "      <td>0</td>\n",
       "      <td>0</td>\n",
       "    </tr>\n",
       "    <tr>\n",
       "      <th>334742</th>\n",
       "      <td>0</td>\n",
       "      <td>1</td>\n",
       "      <td>10</td>\n",
       "      <td>0</td>\n",
       "      <td>0</td>\n",
       "      <td>1</td>\n",
       "      <td>0</td>\n",
       "      <td>0</td>\n",
       "      <td>0</td>\n",
       "      <td>0</td>\n",
       "      <td>...</td>\n",
       "      <td>7</td>\n",
       "      <td>2</td>\n",
       "      <td>2</td>\n",
       "      <td>11</td>\n",
       "      <td>0</td>\n",
       "      <td>0</td>\n",
       "      <td>1</td>\n",
       "      <td>1</td>\n",
       "      <td>0</td>\n",
       "      <td>0</td>\n",
       "    </tr>\n",
       "    <tr>\n",
       "      <th>1156570</th>\n",
       "      <td>0</td>\n",
       "      <td>1</td>\n",
       "      <td>9</td>\n",
       "      <td>0</td>\n",
       "      <td>6</td>\n",
       "      <td>1</td>\n",
       "      <td>0</td>\n",
       "      <td>0</td>\n",
       "      <td>0</td>\n",
       "      <td>0</td>\n",
       "      <td>...</td>\n",
       "      <td>8</td>\n",
       "      <td>1</td>\n",
       "      <td>1</td>\n",
       "      <td>8</td>\n",
       "      <td>0</td>\n",
       "      <td>1</td>\n",
       "      <td>0</td>\n",
       "      <td>0</td>\n",
       "      <td>1</td>\n",
       "      <td>0</td>\n",
       "    </tr>\n",
       "  </tbody>\n",
       "</table>\n",
       "<p>5 rows × 57 columns</p>\n",
       "</div>"
      ],
      "text/plain": [
       "         ps_ind_01  ps_ind_02_cat  ps_ind_03  ps_ind_04_cat  ps_ind_05_cat  \\\n",
       "id                                                                           \n",
       "783681           0              2          0              1              0   \n",
       "636497           0              1          6              1              0   \n",
       "659813           2              1          3              1              0   \n",
       "334742           0              1         10              0              0   \n",
       "1156570          0              1          9              0              6   \n",
       "\n",
       "         ps_ind_06_bin  ps_ind_07_bin  ps_ind_08_bin  ps_ind_09_bin  \\\n",
       "id                                                                    \n",
       "783681               1              0              0              0   \n",
       "636497               0              1              0              0   \n",
       "659813               1              0              0              0   \n",
       "334742               1              0              0              0   \n",
       "1156570              1              0              0              0   \n",
       "\n",
       "         ps_ind_10_bin  ...  ps_calc_11  ps_calc_12  ps_calc_13  ps_calc_14  \\\n",
       "id                      ...                                                   \n",
       "783681               0  ...           3           1           5           9   \n",
       "636497               0  ...           5           2           1          10   \n",
       "659813               0  ...           3           1           1           8   \n",
       "334742               0  ...           7           2           2          11   \n",
       "1156570              0  ...           8           1           1           8   \n",
       "\n",
       "         ps_calc_15_bin  ps_calc_16_bin  ps_calc_17_bin  ps_calc_18_bin  \\\n",
       "id                                                                        \n",
       "783681                0               0               1               0   \n",
       "636497                0               1               1               0   \n",
       "659813                0               1               1               0   \n",
       "334742                0               0               1               1   \n",
       "1156570               0               1               0               0   \n",
       "\n",
       "         ps_calc_19_bin  ps_calc_20_bin  \n",
       "id                                       \n",
       "783681                1               0  \n",
       "636497                1               0  \n",
       "659813                0               0  \n",
       "334742                0               0  \n",
       "1156570               1               0  \n",
       "\n",
       "[5 rows x 57 columns]"
      ]
     },
     "execution_count": 159,
     "metadata": {},
     "output_type": "execute_result"
    }
   ],
   "source": [
    "np.random.seed(910)\n",
    "mask_plus = np.random.choice(np.where(target == 1)[0], 1000, replace=True)\n",
    "mask_zero = np.random.choice(np.where(target == 0)[0], 1000, replace=True)\n",
    "\n",
    "data = pd.concat((data.iloc[mask_plus], data.iloc[mask_zero]))\n",
    "target = np.hstack((target[mask_plus], target[mask_zero]))\n",
    "\n",
    "data.head()"
   ]
  },
  {
   "cell_type": "code",
   "execution_count": 160,
   "metadata": {},
   "outputs": [],
   "source": [
    "from sklearn.preprocessing import OneHotEncoder"
   ]
  },
  {
   "cell_type": "code",
   "execution_count": 161,
   "metadata": {},
   "outputs": [],
   "source": [
    "enc = OneHotEncoder(categories='auto')"
   ]
  },
  {
   "cell_type": "code",
   "execution_count": 162,
   "metadata": {},
   "outputs": [
    {
     "data": {
      "text/plain": [
       "OneHotEncoder(categorical_features=None, categories='auto',\n",
       "       dtype=<class 'numpy.float64'>, handle_unknown='error',\n",
       "       n_values=None, sparse=True)"
      ]
     },
     "execution_count": 162,
     "metadata": {},
     "output_type": "execute_result"
    }
   ],
   "source": [
    "enc.fit(data)"
   ]
  },
  {
   "cell_type": "code",
   "execution_count": 163,
   "metadata": {
    "scrolled": true
   },
   "outputs": [],
   "source": [
    "data = enc.transform(data).toarray()"
   ]
  },
  {
   "cell_type": "code",
   "execution_count": 164,
   "metadata": {},
   "outputs": [
    {
     "data": {
      "text/plain": [
       "(2000, 3944)"
      ]
     },
     "execution_count": 164,
     "metadata": {},
     "output_type": "execute_result"
    }
   ],
   "source": [
    "data.shape"
   ]
  },
  {
   "cell_type": "code",
   "execution_count": 165,
   "metadata": {},
   "outputs": [],
   "source": [
    "scale = StandardScaler()"
   ]
  },
  {
   "cell_type": "code",
   "execution_count": 166,
   "metadata": {},
   "outputs": [
    {
     "data": {
      "text/plain": [
       "StandardScaler(copy=True, with_mean=True, with_std=True)"
      ]
     },
     "execution_count": 166,
     "metadata": {},
     "output_type": "execute_result"
    }
   ],
   "source": [
    "scale.fit(data)"
   ]
  },
  {
   "cell_type": "code",
   "execution_count": 167,
   "metadata": {},
   "outputs": [],
   "source": [
    "data = scale.transform(data)"
   ]
  },
  {
   "cell_type": "code",
   "execution_count": 168,
   "metadata": {},
   "outputs": [],
   "source": [
    "X_train, X_test, y_train, y_test = train_test_split(data, target, test_size=0.5, random_state=301)"
   ]
  },
  {
   "cell_type": "code",
   "execution_count": 169,
   "metadata": {},
   "outputs": [],
   "source": [
    "clf = LogReg(gd_type='full')"
   ]
  },
  {
   "cell_type": "code",
   "execution_count": 170,
   "metadata": {},
   "outputs": [
    {
     "name": "stdout",
     "output_type": "stream",
     "text": [
      "The slowest run took 1024.95 times longer than the fastest. This could mean that an intermediate result is being cached.\n",
      "3 s ± 1.91 s per loop (mean ± std. dev. of 7 runs, 1 loop each)\n"
     ]
    }
   ],
   "source": [
    "%%timeit\n",
    "clf.fit(X_train, y_train)"
   ]
  },
  {
   "cell_type": "code",
   "execution_count": 171,
   "metadata": {},
   "outputs": [],
   "source": [
    "y_pred = [0 if i[0] > i[1] else 1 for i in clf.predict_proba(X_test)]"
   ]
  },
  {
   "cell_type": "code",
   "execution_count": 172,
   "metadata": {},
   "outputs": [
    {
     "name": "stdout",
     "output_type": "stream",
     "text": [
      "R2:\t -0.9360077440309764\n",
      "RMSE:\t 0.484\n",
      "MAE:\t 0.484\n"
     ]
    }
   ],
   "source": [
    "print(\"R2:\\t\", r2_score(y_test, y_pred))\n",
    "print(\"RMSE:\\t\", mean_squared_error(y_test, y_pred))\n",
    "print(\"MAE:\\t\", mean_absolute_error(y_test, y_pred))"
   ]
  },
  {
   "cell_type": "markdown",
   "metadata": {},
   "source": [
    "Как можно было заменить, one-hot-кодирование может сильно увеличивать количество признаков в датасете, что сказывается на памяти, особенно, если некоторый признак имеет большое количество значений. Эту проблему решает другой способ кодирование категориальных признаков — счётчики. Основная идея в том, что нам важны не сами категории, а значения целевой переменной, которые имеют объекты этой категории. Каждый категориальный признак мы заменим средним значением целевой переменной по всем объектам этой же категории:\n",
    "$$\n",
    "g_j(x, X) = \\frac{\\sum_{i=1}^{l} [f_j(x) = f_j(x_i)][y_i = +1]}{\\sum_{i=1}^{l} [f_j(x) = f_j(x_i)]}\n",
    "$$\n",
    "\n",
    "__Задание 2.__ Закодируйте категориальные переменные с помощью счётчиков (ровно так, как описано выше без каких-либо хитростей). Обучите логистическую регрессию и посмотрите на качество модели на тестовом множестве. Сравните время обучения с предыдущим экспериментов. Заметили ли вы что-то интересное?"
   ]
  },
  {
   "cell_type": "code",
   "execution_count": 173,
   "metadata": {},
   "outputs": [],
   "source": [
    "data = pd.read_csv('train.csv', index_col=0)\n",
    "target = data.target.values\n",
    "data = data.drop('target', axis=1)"
   ]
  },
  {
   "cell_type": "code",
   "execution_count": 174,
   "metadata": {},
   "outputs": [
    {
     "data": {
      "text/html": [
       "<div>\n",
       "<style scoped>\n",
       "    .dataframe tbody tr th:only-of-type {\n",
       "        vertical-align: middle;\n",
       "    }\n",
       "\n",
       "    .dataframe tbody tr th {\n",
       "        vertical-align: top;\n",
       "    }\n",
       "\n",
       "    .dataframe thead th {\n",
       "        text-align: right;\n",
       "    }\n",
       "</style>\n",
       "<table border=\"1\" class=\"dataframe\">\n",
       "  <thead>\n",
       "    <tr style=\"text-align: right;\">\n",
       "      <th></th>\n",
       "      <th>ps_ind_01</th>\n",
       "      <th>ps_ind_02_cat</th>\n",
       "      <th>ps_ind_03</th>\n",
       "      <th>ps_ind_04_cat</th>\n",
       "      <th>ps_ind_05_cat</th>\n",
       "      <th>ps_ind_06_bin</th>\n",
       "      <th>ps_ind_07_bin</th>\n",
       "      <th>ps_ind_08_bin</th>\n",
       "      <th>ps_ind_09_bin</th>\n",
       "      <th>ps_ind_10_bin</th>\n",
       "      <th>...</th>\n",
       "      <th>ps_calc_11</th>\n",
       "      <th>ps_calc_12</th>\n",
       "      <th>ps_calc_13</th>\n",
       "      <th>ps_calc_14</th>\n",
       "      <th>ps_calc_15_bin</th>\n",
       "      <th>ps_calc_16_bin</th>\n",
       "      <th>ps_calc_17_bin</th>\n",
       "      <th>ps_calc_18_bin</th>\n",
       "      <th>ps_calc_19_bin</th>\n",
       "      <th>ps_calc_20_bin</th>\n",
       "    </tr>\n",
       "    <tr>\n",
       "      <th>id</th>\n",
       "      <th></th>\n",
       "      <th></th>\n",
       "      <th></th>\n",
       "      <th></th>\n",
       "      <th></th>\n",
       "      <th></th>\n",
       "      <th></th>\n",
       "      <th></th>\n",
       "      <th></th>\n",
       "      <th></th>\n",
       "      <th></th>\n",
       "      <th></th>\n",
       "      <th></th>\n",
       "      <th></th>\n",
       "      <th></th>\n",
       "      <th></th>\n",
       "      <th></th>\n",
       "      <th></th>\n",
       "      <th></th>\n",
       "      <th></th>\n",
       "      <th></th>\n",
       "    </tr>\n",
       "  </thead>\n",
       "  <tbody>\n",
       "    <tr>\n",
       "      <th>783681</th>\n",
       "      <td>0</td>\n",
       "      <td>2</td>\n",
       "      <td>0</td>\n",
       "      <td>1</td>\n",
       "      <td>0</td>\n",
       "      <td>1</td>\n",
       "      <td>0</td>\n",
       "      <td>0</td>\n",
       "      <td>0</td>\n",
       "      <td>0</td>\n",
       "      <td>...</td>\n",
       "      <td>3</td>\n",
       "      <td>1</td>\n",
       "      <td>5</td>\n",
       "      <td>9</td>\n",
       "      <td>0</td>\n",
       "      <td>0</td>\n",
       "      <td>1</td>\n",
       "      <td>0</td>\n",
       "      <td>1</td>\n",
       "      <td>0</td>\n",
       "    </tr>\n",
       "    <tr>\n",
       "      <th>636497</th>\n",
       "      <td>0</td>\n",
       "      <td>1</td>\n",
       "      <td>6</td>\n",
       "      <td>1</td>\n",
       "      <td>0</td>\n",
       "      <td>0</td>\n",
       "      <td>1</td>\n",
       "      <td>0</td>\n",
       "      <td>0</td>\n",
       "      <td>0</td>\n",
       "      <td>...</td>\n",
       "      <td>5</td>\n",
       "      <td>2</td>\n",
       "      <td>1</td>\n",
       "      <td>10</td>\n",
       "      <td>0</td>\n",
       "      <td>1</td>\n",
       "      <td>1</td>\n",
       "      <td>0</td>\n",
       "      <td>1</td>\n",
       "      <td>0</td>\n",
       "    </tr>\n",
       "    <tr>\n",
       "      <th>659813</th>\n",
       "      <td>2</td>\n",
       "      <td>1</td>\n",
       "      <td>3</td>\n",
       "      <td>1</td>\n",
       "      <td>0</td>\n",
       "      <td>1</td>\n",
       "      <td>0</td>\n",
       "      <td>0</td>\n",
       "      <td>0</td>\n",
       "      <td>0</td>\n",
       "      <td>...</td>\n",
       "      <td>3</td>\n",
       "      <td>1</td>\n",
       "      <td>1</td>\n",
       "      <td>8</td>\n",
       "      <td>0</td>\n",
       "      <td>1</td>\n",
       "      <td>1</td>\n",
       "      <td>0</td>\n",
       "      <td>0</td>\n",
       "      <td>0</td>\n",
       "    </tr>\n",
       "    <tr>\n",
       "      <th>334742</th>\n",
       "      <td>0</td>\n",
       "      <td>1</td>\n",
       "      <td>10</td>\n",
       "      <td>0</td>\n",
       "      <td>0</td>\n",
       "      <td>1</td>\n",
       "      <td>0</td>\n",
       "      <td>0</td>\n",
       "      <td>0</td>\n",
       "      <td>0</td>\n",
       "      <td>...</td>\n",
       "      <td>7</td>\n",
       "      <td>2</td>\n",
       "      <td>2</td>\n",
       "      <td>11</td>\n",
       "      <td>0</td>\n",
       "      <td>0</td>\n",
       "      <td>1</td>\n",
       "      <td>1</td>\n",
       "      <td>0</td>\n",
       "      <td>0</td>\n",
       "    </tr>\n",
       "    <tr>\n",
       "      <th>1156570</th>\n",
       "      <td>0</td>\n",
       "      <td>1</td>\n",
       "      <td>9</td>\n",
       "      <td>0</td>\n",
       "      <td>6</td>\n",
       "      <td>1</td>\n",
       "      <td>0</td>\n",
       "      <td>0</td>\n",
       "      <td>0</td>\n",
       "      <td>0</td>\n",
       "      <td>...</td>\n",
       "      <td>8</td>\n",
       "      <td>1</td>\n",
       "      <td>1</td>\n",
       "      <td>8</td>\n",
       "      <td>0</td>\n",
       "      <td>1</td>\n",
       "      <td>0</td>\n",
       "      <td>0</td>\n",
       "      <td>1</td>\n",
       "      <td>0</td>\n",
       "    </tr>\n",
       "  </tbody>\n",
       "</table>\n",
       "<p>5 rows × 57 columns</p>\n",
       "</div>"
      ],
      "text/plain": [
       "         ps_ind_01  ps_ind_02_cat  ps_ind_03  ps_ind_04_cat  ps_ind_05_cat  \\\n",
       "id                                                                           \n",
       "783681           0              2          0              1              0   \n",
       "636497           0              1          6              1              0   \n",
       "659813           2              1          3              1              0   \n",
       "334742           0              1         10              0              0   \n",
       "1156570          0              1          9              0              6   \n",
       "\n",
       "         ps_ind_06_bin  ps_ind_07_bin  ps_ind_08_bin  ps_ind_09_bin  \\\n",
       "id                                                                    \n",
       "783681               1              0              0              0   \n",
       "636497               0              1              0              0   \n",
       "659813               1              0              0              0   \n",
       "334742               1              0              0              0   \n",
       "1156570              1              0              0              0   \n",
       "\n",
       "         ps_ind_10_bin  ...  ps_calc_11  ps_calc_12  ps_calc_13  ps_calc_14  \\\n",
       "id                      ...                                                   \n",
       "783681               0  ...           3           1           5           9   \n",
       "636497               0  ...           5           2           1          10   \n",
       "659813               0  ...           3           1           1           8   \n",
       "334742               0  ...           7           2           2          11   \n",
       "1156570              0  ...           8           1           1           8   \n",
       "\n",
       "         ps_calc_15_bin  ps_calc_16_bin  ps_calc_17_bin  ps_calc_18_bin  \\\n",
       "id                                                                        \n",
       "783681                0               0               1               0   \n",
       "636497                0               1               1               0   \n",
       "659813                0               1               1               0   \n",
       "334742                0               0               1               1   \n",
       "1156570               0               1               0               0   \n",
       "\n",
       "         ps_calc_19_bin  ps_calc_20_bin  \n",
       "id                                       \n",
       "783681                1               0  \n",
       "636497                1               0  \n",
       "659813                0               0  \n",
       "334742                0               0  \n",
       "1156570               1               0  \n",
       "\n",
       "[5 rows x 57 columns]"
      ]
     },
     "execution_count": 174,
     "metadata": {},
     "output_type": "execute_result"
    }
   ],
   "source": [
    "np.random.seed(910)\n",
    "mask_plus = np.random.choice(np.where(target == 1)[0], 1000, replace=True)\n",
    "mask_zero = np.random.choice(np.where(target == 0)[0], 1000, replace=True)\n",
    "\n",
    "data = pd.concat((data.iloc[mask_plus], data.iloc[mask_zero]))\n",
    "target = np.hstack((target[mask_plus], target[mask_zero]))\n",
    "\n",
    "data.head()"
   ]
  },
  {
   "cell_type": "code",
   "execution_count": 175,
   "metadata": {},
   "outputs": [],
   "source": [
    "def encode(col, tar):\n",
    "    for i in range(col.shape[0]):\n",
    "        encode.var_dict.setdefault(col[i], [0, 0])[1] += 1\n",
    "        if tar[i] == 1:\n",
    "            encode.var_dict[col[i]][0] += 1\n",
    "    if len(encode.var_dict) > col.shape[0] * 0.01: #переменная категориальная, если в ней меньше 1-го процента уник\n",
    "        return False\n",
    "    else:\n",
    "        for key in encode.var_dict:\n",
    "            encode.var_dict[key] = encode.var_dict[key][0] / encode.var_dict[key][1]\n",
    "        return True"
   ]
  },
  {
   "cell_type": "code",
   "execution_count": 176,
   "metadata": {},
   "outputs": [],
   "source": [
    "for i in data:\n",
    "    encode.var_dict = {}\n",
    "    flag = encode(data[i].values, target)\n",
    "    if flag:\n",
    "        data[i] = data[i].map(encode.var_dict)"
   ]
  },
  {
   "cell_type": "code",
   "execution_count": 177,
   "metadata": {},
   "outputs": [
    {
     "data": {
      "text/html": [
       "<div>\n",
       "<style scoped>\n",
       "    .dataframe tbody tr th:only-of-type {\n",
       "        vertical-align: middle;\n",
       "    }\n",
       "\n",
       "    .dataframe tbody tr th {\n",
       "        vertical-align: top;\n",
       "    }\n",
       "\n",
       "    .dataframe thead th {\n",
       "        text-align: right;\n",
       "    }\n",
       "</style>\n",
       "<table border=\"1\" class=\"dataframe\">\n",
       "  <thead>\n",
       "    <tr style=\"text-align: right;\">\n",
       "      <th></th>\n",
       "      <th>ps_ind_01</th>\n",
       "      <th>ps_ind_02_cat</th>\n",
       "      <th>ps_ind_03</th>\n",
       "      <th>ps_ind_04_cat</th>\n",
       "      <th>ps_ind_05_cat</th>\n",
       "      <th>ps_ind_06_bin</th>\n",
       "      <th>ps_ind_07_bin</th>\n",
       "      <th>ps_ind_08_bin</th>\n",
       "      <th>ps_ind_09_bin</th>\n",
       "      <th>ps_ind_10_bin</th>\n",
       "      <th>...</th>\n",
       "      <th>ps_calc_11</th>\n",
       "      <th>ps_calc_12</th>\n",
       "      <th>ps_calc_13</th>\n",
       "      <th>ps_calc_14</th>\n",
       "      <th>ps_calc_15_bin</th>\n",
       "      <th>ps_calc_16_bin</th>\n",
       "      <th>ps_calc_17_bin</th>\n",
       "      <th>ps_calc_18_bin</th>\n",
       "      <th>ps_calc_19_bin</th>\n",
       "      <th>ps_calc_20_bin</th>\n",
       "    </tr>\n",
       "    <tr>\n",
       "      <th>id</th>\n",
       "      <th></th>\n",
       "      <th></th>\n",
       "      <th></th>\n",
       "      <th></th>\n",
       "      <th></th>\n",
       "      <th></th>\n",
       "      <th></th>\n",
       "      <th></th>\n",
       "      <th></th>\n",
       "      <th></th>\n",
       "      <th></th>\n",
       "      <th></th>\n",
       "      <th></th>\n",
       "      <th></th>\n",
       "      <th></th>\n",
       "      <th></th>\n",
       "      <th></th>\n",
       "      <th></th>\n",
       "      <th></th>\n",
       "      <th></th>\n",
       "      <th></th>\n",
       "    </tr>\n",
       "  </thead>\n",
       "  <tbody>\n",
       "    <tr>\n",
       "      <th>783681</th>\n",
       "      <td>0.470588</td>\n",
       "      <td>0.500000</td>\n",
       "      <td>0.597561</td>\n",
       "      <td>0.509302</td>\n",
       "      <td>0.479436</td>\n",
       "      <td>0.419718</td>\n",
       "      <td>0.475645</td>\n",
       "      <td>0.491597</td>\n",
       "      <td>0.494539</td>\n",
       "      <td>0.5</td>\n",
       "      <td>...</td>\n",
       "      <td>0.495614</td>\n",
       "      <td>0.497667</td>\n",
       "      <td>0.409357</td>\n",
       "      <td>0.490654</td>\n",
       "      <td>0.506059</td>\n",
       "      <td>0.507714</td>\n",
       "      <td>0.501370</td>\n",
       "      <td>0.50599</td>\n",
       "      <td>0.505525</td>\n",
       "      <td>0.505931</td>\n",
       "    </tr>\n",
       "    <tr>\n",
       "      <th>636497</th>\n",
       "      <td>0.470588</td>\n",
       "      <td>0.489138</td>\n",
       "      <td>0.527197</td>\n",
       "      <td>0.509302</td>\n",
       "      <td>0.479436</td>\n",
       "      <td>0.544186</td>\n",
       "      <td>0.556291</td>\n",
       "      <td>0.491597</td>\n",
       "      <td>0.494539</td>\n",
       "      <td>0.5</td>\n",
       "      <td>...</td>\n",
       "      <td>0.510929</td>\n",
       "      <td>0.471774</td>\n",
       "      <td>0.458204</td>\n",
       "      <td>0.508475</td>\n",
       "      <td>0.506059</td>\n",
       "      <td>0.495726</td>\n",
       "      <td>0.501370</td>\n",
       "      <td>0.50599</td>\n",
       "      <td>0.505525</td>\n",
       "      <td>0.505931</td>\n",
       "    </tr>\n",
       "    <tr>\n",
       "      <th>659813</th>\n",
       "      <td>0.455882</td>\n",
       "      <td>0.489138</td>\n",
       "      <td>0.437788</td>\n",
       "      <td>0.509302</td>\n",
       "      <td>0.479436</td>\n",
       "      <td>0.419718</td>\n",
       "      <td>0.475645</td>\n",
       "      <td>0.491597</td>\n",
       "      <td>0.494539</td>\n",
       "      <td>0.5</td>\n",
       "      <td>...</td>\n",
       "      <td>0.495614</td>\n",
       "      <td>0.497667</td>\n",
       "      <td>0.458204</td>\n",
       "      <td>0.475096</td>\n",
       "      <td>0.506059</td>\n",
       "      <td>0.495726</td>\n",
       "      <td>0.501370</td>\n",
       "      <td>0.50599</td>\n",
       "      <td>0.496865</td>\n",
       "      <td>0.505931</td>\n",
       "    </tr>\n",
       "    <tr>\n",
       "      <th>334742</th>\n",
       "      <td>0.470588</td>\n",
       "      <td>0.489138</td>\n",
       "      <td>0.574468</td>\n",
       "      <td>0.492537</td>\n",
       "      <td>0.479436</td>\n",
       "      <td>0.419718</td>\n",
       "      <td>0.475645</td>\n",
       "      <td>0.491597</td>\n",
       "      <td>0.494539</td>\n",
       "      <td>0.5</td>\n",
       "      <td>...</td>\n",
       "      <td>0.504464</td>\n",
       "      <td>0.471774</td>\n",
       "      <td>0.500000</td>\n",
       "      <td>0.540984</td>\n",
       "      <td>0.506059</td>\n",
       "      <td>0.507714</td>\n",
       "      <td>0.501370</td>\n",
       "      <td>0.48537</td>\n",
       "      <td>0.496865</td>\n",
       "      <td>0.505931</td>\n",
       "    </tr>\n",
       "    <tr>\n",
       "      <th>1156570</th>\n",
       "      <td>0.470588</td>\n",
       "      <td>0.489138</td>\n",
       "      <td>0.457447</td>\n",
       "      <td>0.492537</td>\n",
       "      <td>0.626374</td>\n",
       "      <td>0.419718</td>\n",
       "      <td>0.475645</td>\n",
       "      <td>0.491597</td>\n",
       "      <td>0.494539</td>\n",
       "      <td>0.5</td>\n",
       "      <td>...</td>\n",
       "      <td>0.530055</td>\n",
       "      <td>0.497667</td>\n",
       "      <td>0.458204</td>\n",
       "      <td>0.475096</td>\n",
       "      <td>0.506059</td>\n",
       "      <td>0.495726</td>\n",
       "      <td>0.498343</td>\n",
       "      <td>0.50599</td>\n",
       "      <td>0.505525</td>\n",
       "      <td>0.505931</td>\n",
       "    </tr>\n",
       "  </tbody>\n",
       "</table>\n",
       "<p>5 rows × 57 columns</p>\n",
       "</div>"
      ],
      "text/plain": [
       "         ps_ind_01  ps_ind_02_cat  ps_ind_03  ps_ind_04_cat  ps_ind_05_cat  \\\n",
       "id                                                                           \n",
       "783681    0.470588       0.500000   0.597561       0.509302       0.479436   \n",
       "636497    0.470588       0.489138   0.527197       0.509302       0.479436   \n",
       "659813    0.455882       0.489138   0.437788       0.509302       0.479436   \n",
       "334742    0.470588       0.489138   0.574468       0.492537       0.479436   \n",
       "1156570   0.470588       0.489138   0.457447       0.492537       0.626374   \n",
       "\n",
       "         ps_ind_06_bin  ps_ind_07_bin  ps_ind_08_bin  ps_ind_09_bin  \\\n",
       "id                                                                    \n",
       "783681        0.419718       0.475645       0.491597       0.494539   \n",
       "636497        0.544186       0.556291       0.491597       0.494539   \n",
       "659813        0.419718       0.475645       0.491597       0.494539   \n",
       "334742        0.419718       0.475645       0.491597       0.494539   \n",
       "1156570       0.419718       0.475645       0.491597       0.494539   \n",
       "\n",
       "         ps_ind_10_bin  ...  ps_calc_11  ps_calc_12  ps_calc_13  ps_calc_14  \\\n",
       "id                      ...                                                   \n",
       "783681             0.5  ...    0.495614    0.497667    0.409357    0.490654   \n",
       "636497             0.5  ...    0.510929    0.471774    0.458204    0.508475   \n",
       "659813             0.5  ...    0.495614    0.497667    0.458204    0.475096   \n",
       "334742             0.5  ...    0.504464    0.471774    0.500000    0.540984   \n",
       "1156570            0.5  ...    0.530055    0.497667    0.458204    0.475096   \n",
       "\n",
       "         ps_calc_15_bin  ps_calc_16_bin  ps_calc_17_bin  ps_calc_18_bin  \\\n",
       "id                                                                        \n",
       "783681         0.506059        0.507714        0.501370         0.50599   \n",
       "636497         0.506059        0.495726        0.501370         0.50599   \n",
       "659813         0.506059        0.495726        0.501370         0.50599   \n",
       "334742         0.506059        0.507714        0.501370         0.48537   \n",
       "1156570        0.506059        0.495726        0.498343         0.50599   \n",
       "\n",
       "         ps_calc_19_bin  ps_calc_20_bin  \n",
       "id                                       \n",
       "783681         0.505525        0.505931  \n",
       "636497         0.505525        0.505931  \n",
       "659813         0.496865        0.505931  \n",
       "334742         0.496865        0.505931  \n",
       "1156570        0.505525        0.505931  \n",
       "\n",
       "[5 rows x 57 columns]"
      ]
     },
     "execution_count": 177,
     "metadata": {},
     "output_type": "execute_result"
    }
   ],
   "source": [
    "data.head()"
   ]
  },
  {
   "cell_type": "code",
   "execution_count": 178,
   "metadata": {},
   "outputs": [
    {
     "name": "stderr",
     "output_type": "stream",
     "text": [
      "/home/zhalgas/.local/lib/python3.6/site-packages/sklearn/preprocessing/data.py:645: DataConversionWarning: Data with input dtype int64, float64 were all converted to float64 by StandardScaler.\n",
      "  return self.partial_fit(X, y)\n",
      "/home/zhalgas/.local/lib/python3.6/site-packages/ipykernel_launcher.py:3: DataConversionWarning: Data with input dtype int64, float64 were all converted to float64 by StandardScaler.\n",
      "  This is separate from the ipykernel package so we can avoid doing imports until\n"
     ]
    }
   ],
   "source": [
    "scale = StandardScaler()\n",
    "scale.fit(data)\n",
    "data = scale.transform(data)"
   ]
  },
  {
   "cell_type": "code",
   "execution_count": 179,
   "metadata": {},
   "outputs": [],
   "source": [
    "X_train, X_test, y_train, y_test = train_test_split(data, target, test_size=0.5, random_state=312)"
   ]
  },
  {
   "cell_type": "code",
   "execution_count": 182,
   "metadata": {},
   "outputs": [],
   "source": [
    "clf = LogReg(gd_type='ful')"
   ]
  },
  {
   "cell_type": "code",
   "execution_count": 183,
   "metadata": {},
   "outputs": [
    {
     "name": "stdout",
     "output_type": "stream",
     "text": [
      "95.3 µs ± 9.6 µs per loop (mean ± std. dev. of 7 runs, 10 loops each)\n"
     ]
    }
   ],
   "source": [
    "%%timeit\n",
    "clf.fit(X_train, y_train)"
   ]
  },
  {
   "cell_type": "code",
   "execution_count": 184,
   "metadata": {},
   "outputs": [],
   "source": [
    "y_pred = [0 if i[0] > i[1] else 1 for i in clf.predict_proba(X_test)]"
   ]
  },
  {
   "cell_type": "code",
   "execution_count": 185,
   "metadata": {},
   "outputs": [
    {
     "name": "stdout",
     "output_type": "stream",
     "text": [
      "R2:\t -0.47299574512370346\n",
      "RMSE:\t 0.368\n",
      "MAE:\t 0.368\n"
     ]
    }
   ],
   "source": [
    "print(\"R2:\\t\", r2_score(y_pred, y_test))\n",
    "print(\"RMSE:\\t\", mean_squared_error(y_pred, y_test))\n",
    "print(\"MAE:\\t\", mean_absolute_error(y_pred, y_test))"
   ]
  },
  {
   "cell_type": "markdown",
   "metadata": {},
   "source": [
    "Отметим, что такие признаки сами по себе являются классификаторами и, обучаясь на них, мы допускаем \"утечку\" целевой переменной в признаки. Это ведёт к переобучению, поэтому считать такие признаки необходимо таким образом, чтобы при вычислении для конкретного объекта его целевая метка не использовалась. Это можно делать следующими способами:\n",
    "- вычислять значение счётчика по всем объектам расположенным выше в датасете (например, если у нас выборка отсортирована по времени)\n",
    "- вычислять по фолдам, то есть делить выборку на некоторое количество частей и подсчитывать значение признаков по всем фолдам кроме текущего (как делается в кросс-валидации)\n",
    "- внесение некоторого шума в посчитанные признаки. "
   ]
  },
  {
   "cell_type": "markdown",
   "metadata": {},
   "source": [
    "## Часть 5 (бонус). Vowpal Wabbit"
   ]
  },
  {
   "cell_type": "markdown",
   "metadata": {},
   "source": [
    "В этой части мы научимся использовать библиотеку [vowpal wabbit](https://github.com/JohnLangford/vowpal_wabbit). У неё есть несколько особенностей:\n",
    "- можно обучать только линейные модели, но за счёт большого количества опций и возможностей по усложнению, можно построить и довольно сложные вещи\n",
    "- можно обучаться на выборках, которые не помещаются в оперативную память\n",
    "- можно обрабатывать большое количество признаков (например, мешки слов текстов) и \"на ходу\" строить на них комбинации (не переделывать датасет)\n",
    "- другие особенности, как например, активное обучение и возможность распараллеленного обучения.\n",
    "\n",
    "Основные особенности при использовании следующие:\n",
    "- Свой формат данных: \"label |A feature1:value1 |B feature2:value2\", позволяющий, во-первых, указывать не все признаки (не нужно хранить много нулей в разреженных данных), а во-вторых, группировать и иметь возможность отключать или взаимодействовать (\"отключать\", добавлять квадратичные признаки и т.д.) сразу со всей группой признаков. По этой причине вам понадобится реализовать конвертер датасета и загрузку своих предсказаний, чтобы посчитать качество предсказаний.\n",
    "- Запуск обучения из командной строки (однако можно запускать эти же команды из ноутбука).\n",
    "\n",
    "В этот раз мы будем использовать данные с конкурса [Kaggle Avazu Click-Through Rate Prediction](https://www.kaggle.com/c/avazu-ctr-prediction) по предсказанию кликов (бинарная классификация). В обучающей выборке 40kk строк, так что у вас не должно быть желания загружать их в оперативную память. Предлагается взять первые 30kk строк в качестве обучающей выборке и оставшуюся часть для тестирования.\n",
    "\n",
    "__Задание 1.__ Работа с vowpal wabbit. \n",
    "\n",
    "- Скачайте данные, разделите их на обучающую и тестовую выборки.\n",
    "- Подготовьте функции для конвертирования датасета в формат vowpal wabbit и для загрузки предсказаний в ноутбук для подсчёта функционала.\n",
    "- Сделайте простейшее решение на vowpal wabbit. Оцените качество.\n",
    "- Изучите возможности и параметры vowpal wabbit. Поэксперементируйте. \n",
    "- Расскажите, что интересного вы узнали (какие-нибудь особенности, режимы работы, фишки, параметры).\n",
    "- Удалось ли вам улучшить качество базовой модели? Насколько? Что ещё можно было бы попробовать?\n",
    "\n",
    "В этом задании предусмотрены баллы за достижение ROC-AUC на отложенной выборки более 0.738"
   ]
  },
  {
   "cell_type": "code",
   "execution_count": null,
   "metadata": {},
   "outputs": [],
   "source": [
    "# Your code here\n",
    "# ..."
   ]
  }
 ],
 "metadata": {
  "kernelspec": {
   "display_name": "Python 3",
   "language": "python",
   "name": "python3"
  },
  "language_info": {
   "codemirror_mode": {
    "name": "ipython",
    "version": 3
   },
   "file_extension": ".py",
   "mimetype": "text/x-python",
   "name": "python",
   "nbconvert_exporter": "python",
   "pygments_lexer": "ipython3",
   "version": "3.6.7"
  }
 },
 "nbformat": 4,
 "nbformat_minor": 2
}
